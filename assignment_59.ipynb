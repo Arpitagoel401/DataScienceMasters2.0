{
 "cells": [
  {
   "cell_type": "markdown",
   "id": "74ceb240-d5b2-49fe-8d66-ba1657bd5dbe",
   "metadata": {},
   "source": [
    "#### Q1. What is Bayes' theorem?\n"
   ]
  },
  {
   "cell_type": "markdown",
   "id": "9dbf78b9-3fdb-4ec3-b4c3-ba38cddebc80",
   "metadata": {},
   "source": [
    "Bayes' theorem is a fundamental theorem in probability theory named after the Reverend Thomas Bayes. It describes the probability of an event, based on prior knowledge of conditions that might be related to the event."
   ]
  },
  {
   "cell_type": "markdown",
   "id": "09f9407e-683b-41e5-b5d2-a08e6740c094",
   "metadata": {},
   "source": [
    "#### Q2. What is the formula for Bayes' theorem?\n"
   ]
  },
  {
   "cell_type": "markdown",
   "id": "49731741-61ea-4796-860e-71303b53f391",
   "metadata": {},
   "source": [
    " The formula for Bayes' theorem is:\n",
    "\n",
    "\n",
    "P(A∣B)= P(B∣A)×P(A)/P(B)\n",
    "\n",
    "​\n",
    "Where:\n",
    "\n",
    "\n",
    "P(A∣B) is the probability of event A occurring given that event B has occurred (posterior probability).\n",
    "\n",
    "P(B∣A) is the probability of event B occurring given that event A has occurred (likelihood).\n",
    "\n",
    "P(A) and \n",
    "\n",
    "P(B) are the probabilities of events A and B occurring independently of each other (prior probabilities)."
   ]
  },
  {
   "cell_type": "markdown",
   "id": "25b7012d-9fbd-4b06-9e1f-1c7f7e7cbbb1",
   "metadata": {},
   "source": [
    "#### Q3. How is Bayes' theorem used in practice?\n"
   ]
  },
  {
   "cell_type": "markdown",
   "id": "c00065e2-748d-4ec8-861f-18381438f308",
   "metadata": {},
   "source": [
    "Bayes' theorem is used in various fields such as statistics, machine learning, and artificial intelligence for tasks such as classification, regression, and inference. In practice, it is used to update beliefs or probabilities about hypotheses or events based on new evidence or information."
   ]
  },
  {
   "cell_type": "markdown",
   "id": "8080c626-aef1-480d-a592-d18c1b6afb9f",
   "metadata": {},
   "source": [
    "#### Q4. What is the relationship between Bayes' theorem and conditional probability?\n"
   ]
  },
  {
   "cell_type": "markdown",
   "id": "7c4e1e46-5de2-4044-89aa-b35b6e6e50e2",
   "metadata": {},
   "source": [
    " Bayes' theorem relates to conditional probability in that it provides a way to calculate the conditional probability of an event given information about related events. It essentially provides a framework for updating prior probabilities based on new evidence."
   ]
  },
  {
   "cell_type": "markdown",
   "id": "3258fa3e-2d95-4f4f-8c2e-3468ab9bcbbf",
   "metadata": {},
   "source": [
    "#### Q5. How do you choose which type of Naive Bayes classifier to use for any given problem?\n"
   ]
  },
  {
   "cell_type": "markdown",
   "id": "b377e5ef-1b2f-48d7-b002-d5f998e1b215",
   "metadata": {},
   "source": [
    " The choice of which type of Naive Bayes classifier to use for a given problem depends on the nature of the data and the assumptions that can be made about the independence of features. The three main types of Naive Bayes classifiers are:\n",
    "\n",
    "Gaussian Naive Bayes: Assumes that continuous features follow a normal distribution.\n",
    "Multinomial Naive Bayes: Suitable for features that represent counts or frequencies.\n",
    "Bernoulli Naive Bayes: Assumes that features are binary (0 or 1) and follows a Bernoulli distribution.\n",
    "The selection depends on the distribution of the features in the dataset and the assumptions that align with the problem at hand."
   ]
  },
  {
   "cell_type": "markdown",
   "id": "a3680438-da50-48e8-8708-6bb34a23ea78",
   "metadata": {},
   "source": [
    "#### Q6. Assignment:\n",
    "#### You have a dataset with two features, X1 and X2, and two possible classes, A and B. You want to use Naive Bayes to classify a new instance with features X1 = 3 and X2 = 4. The following table shows the frequency of each feature value for each class:\n",
    "#### Class X1=1 X1=2 X1=3 X2=1 X2=2 X2=3 X2=4\n",
    "#### A 3 3 4 4 3 3 3\n",
    "#### B 2 2 1 2 2 2 3\n",
    "#### Assuming equal prior probabilities for each class, which class would Naive Bayes predict the new instance to belong to?"
   ]
  },
  {
   "cell_type": "markdown",
   "id": "44f087a9-a748-4d0a-9c6f-847b643e0b78",
   "metadata": {},
   "source": [
    "To predict the class for a new instance with features X1=3 and X2=4 using Naive Bayes, we can calculate the posterior probabilities for each class (A and B) and choose the class with the highest posterior probability. Assuming equal prior probabilities for each class:\n",
    "\n",
    "For Class A:\n",
    "P(X1=3∣A)= 4/10\n",
    "​\n",
    " \n",
    "\n",
    "P(X2=4∣A)= 3/10\n",
    "​\n",
    " \n",
    "\n",
    "P(A)= 1/2\n",
    "​\n",
    " \n",
    "P(X1=3∩X2=4∣A)=P(X1=3∣A)×P(X2=4∣A)= 4/10× 3/10= 12/100\n",
    "\n",
    "​\n",
    "For Class B:\n",
    "P(X1=3∣B)= 1/5\n",
    "​\n",
    " \n",
    "P(X2=4∣B)= 3/7\n",
    "​\n",
    " \n",
    "P(B)= 1/2\n",
    "​\n",
    " \n",
    "\n",
    "P(X1=3∩X2=4∣B)=P(X1=3∣B)×P(X2=4∣B)= 3/35\n",
    "\n",
    "\n",
    "​\n",
    " \n",
    "\n",
    "Now, we can use Bayes' theorem to calculate the posterior probabilities:\n",
    "\n",
    "For Class A:\n",
    "\n",
    "P(A∣X1=3∩X2=4)= \n",
    "P(X1=3∩X2=4)\n",
    "P(X1=3∩X2=4∣A)×P(A)\n",
    "​\n",
    " \n",
    "\n",
    "P(A∣X1=3∩X2=4)= \n",
    "P(X1=3∩X2=4)\n",
    "100\n",
    "12\n",
    "​\n",
    " × \n",
    "2\n",
    "1\n",
    "​\n",
    " \n",
    "​\n",
    " \n",
    "\n",
    "For Class B:\n",
    "\n",
    "P(B∣X1=3∩X2=4)= \n",
    "P(X1=3∩X2=4)\n",
    "P(X1=3∩X2=4∣B)×P(B)\n",
    "​\n",
    " \n",
    "\n",
    "P(B∣X1=3∩X2=4)= \n",
    "P(X1=3∩X2=4)\n",
    "35\n",
    "3\n",
    "​\n",
    " × \n",
    "2\n",
    "1\n",
    "​\n",
    " \n",
    "​\n",
    " \n",
    "\n",
    "Comparing the posterior probabilities, we choose the class with the higher probability. After calculating, you would find that \n",
    "\n",
    "P(A∣X1=3∩X2=4)>P(B∣X1=3∩X2=4). Therefore, Naive Bayes would predict the new instance to belong to Class A."
   ]
  },
  {
   "cell_type": "code",
   "execution_count": null,
   "id": "0f9496a9-07c6-4e50-b6fb-066d6eada4d7",
   "metadata": {},
   "outputs": [],
   "source": []
  }
 ],
 "metadata": {
  "kernelspec": {
   "display_name": "Python 3 (ipykernel)",
   "language": "python",
   "name": "python3"
  },
  "language_info": {
   "codemirror_mode": {
    "name": "ipython",
    "version": 3
   },
   "file_extension": ".py",
   "mimetype": "text/x-python",
   "name": "python",
   "nbconvert_exporter": "python",
   "pygments_lexer": "ipython3",
   "version": "3.11.7"
  }
 },
 "nbformat": 4,
 "nbformat_minor": 5
}
