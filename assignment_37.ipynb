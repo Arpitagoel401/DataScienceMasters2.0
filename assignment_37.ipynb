{
 "cells": [
  {
   "cell_type": "markdown",
   "id": "ca180c3a",
   "metadata": {},
   "source": [
    "Q1: What are missing values in a dataset? Why is it essential to handle missing values? Name some\n",
    "algorithms that are not affected by missing values."
   ]
  },
  {
   "cell_type": "code",
   "execution_count": 1,
   "id": "73bcb8ab",
   "metadata": {},
   "outputs": [],
   "source": [
    "# Missing values in a dataset refer to the absence of data for certain variables or observations. \n",
    "# Handling missing values is essential for several reasons:\n",
    "#     Biased Analysis\n",
    "#     Reduced Accuracy\n",
    "# Some algorithms that are not affected by missing values include:\n",
    "#     Decision Trees\n",
    "#     Random Forests"
   ]
  },
  {
   "cell_type": "markdown",
   "id": "e70fc5f4",
   "metadata": {},
   "source": [
    "Q2: List down techniques used to handle missing data. Give an example of each with python code."
   ]
  },
  {
   "cell_type": "code",
   "execution_count": 2,
   "id": "48e70f27",
   "metadata": {},
   "outputs": [
    {
     "name": "stdout",
     "output_type": "stream",
     "text": [
      "     A  B\n",
      "0  1.0  5\n",
      "1  2.0  6\n",
      "3  4.0  8\n",
      "   B\n",
      "0  5\n",
      "1  6\n",
      "2  7\n",
      "3  8\n"
     ]
    }
   ],
   "source": [
    "# 1.Removal of Missing Values:Remove rows or columns with missing values.\n",
    "import pandas as pd\n",
    "# Example DataFrame\n",
    "data = {'A': [1, 2, None, 4],\n",
    "        'B': [5, 6, 7, 8]}\n",
    "df = pd.DataFrame(data)\n",
    "\n",
    "# Remove rows with missing values\n",
    "df_rows = df.dropna()\n",
    "\n",
    "# Remove columns with missing values\n",
    "df_columns = df.dropna(axis=1)\n",
    "print(df_rows)\n",
    "print(df_columns)"
   ]
  },
  {
   "cell_type": "code",
   "execution_count": 3,
   "id": "af72c38c",
   "metadata": {},
   "outputs": [
    {
     "name": "stdout",
     "output_type": "stream",
     "text": [
      "          A  B\n",
      "0  1.000000  5\n",
      "1  2.000000  6\n",
      "2  2.333333  7\n",
      "3  4.000000  8\n",
      "     A  B\n",
      "0  1.0  5\n",
      "1  2.0  6\n",
      "2  2.0  7\n",
      "3  4.0  8\n",
      "     A  B\n",
      "0  1.0  5\n",
      "1  2.0  6\n",
      "2  1.0  7\n",
      "3  4.0  8\n"
     ]
    }
   ],
   "source": [
    "# 2.Imputation with Mean, Median, or Mode:\n",
    "# Impute missing values with mean\n",
    "df_imputed_mean = df.fillna(df.mean())\n",
    "\n",
    "# Impute missing values with median\n",
    "df_imputed_median = df.fillna(df.median())\n",
    "\n",
    "# Impute missing values with mode\n",
    "df_imputed_mode = df.fillna(df.mode().iloc[0])\n",
    "print(df_imputed_mean)\n",
    "print(df_imputed_median)\n",
    "print(df_imputed_mode)"
   ]
  },
  {
   "cell_type": "markdown",
   "id": "29058af6",
   "metadata": {},
   "source": [
    "Q3: Explain the imbalanced data. What will happen if imbalanced data is not handled?"
   ]
  },
  {
   "cell_type": "code",
   "execution_count": 4,
   "id": "9b193e9d",
   "metadata": {},
   "outputs": [],
   "source": [
    "# Imbalanced data refers to a situation in a classification problem where the distribution of classes is not uniform, meaning \n",
    "# that one class has significantly fewer instances than the other(s).\n",
    "# Poor Generalization\n",
    "# Biased Models"
   ]
  },
  {
   "cell_type": "markdown",
   "id": "9e9ce7f1",
   "metadata": {},
   "source": [
    "Q4: What are Up-sampling and Down-sampling? Explain with an example when up-sampling and down-\n",
    "sampling are required."
   ]
  },
  {
   "cell_type": "code",
   "execution_count": 5,
   "id": "881873d7",
   "metadata": {},
   "outputs": [],
   "source": [
    "#Up-sampling (Over-sampling):Up-sampling involves increasing the number of instances in the minority class to balance the class \n",
    "# distribution.\n",
    "# Example Scenario: In a fraud detection system, where fraudulent transactions are rare (minority class)\n",
    "\n",
    "# Down-sampling (Under-sampling):Down-sampling involves reducing the number of instances in the majority class to balance the \n",
    "# class distribution.\n",
    "# Example Scenario: In a medical diagnosis task, where the positive class represents a rare disease"
   ]
  },
  {
   "cell_type": "markdown",
   "id": "0879fb2c",
   "metadata": {},
   "source": [
    "Q5: What is data Augmentation? Explain SMOTE."
   ]
  },
  {
   "cell_type": "code",
   "execution_count": 6,
   "id": "e7f9f0f5",
   "metadata": {},
   "outputs": [],
   "source": [
    "#Data augmentation is a technique used to artificially increase the size of a dataset by applying various transformations to the\n",
    "# existing data.\n",
    "\n",
    "# SMOTE (Synthetic Minority Over-sampling Technique):\n",
    "# SMOTE is a specific data augmentation technique designed to address imbalanced datasets, particularly in classification \n",
    "# problems where the minority class is under-represented. "
   ]
  },
  {
   "cell_type": "markdown",
   "id": "36270013",
   "metadata": {},
   "source": [
    "Q6: What are outliers in a dataset? Why is it essential to handle outliers?"
   ]
  },
  {
   "cell_type": "code",
   "execution_count": 7,
   "id": "de3b310c",
   "metadata": {},
   "outputs": [],
   "source": [
    "# Outliers are data points that significantly deviate from the rest of the observations in a dataset. \n",
    "# Handling outliers is crucial for several reasons:\n",
    "#     Impact on Descriptive Statistics\n",
    "#     Model Performance"
   ]
  },
  {
   "cell_type": "markdown",
   "id": "3fe7d0bb",
   "metadata": {},
   "source": [
    "Q7: You are working on a project that requires analyzing customer data. However, you notice that some of\n",
    "the data is missing. What are some techniques you can use to handle the missing data in your analysis?"
   ]
  },
  {
   "cell_type": "code",
   "execution_count": 8,
   "id": "7aafd802",
   "metadata": {},
   "outputs": [
    {
     "name": "stdout",
     "output_type": "stream",
     "text": [
      "<class 'pandas.core.frame.DataFrame'>\n",
      "RangeIndex: 4 entries, 0 to 3\n",
      "Data columns (total 2 columns):\n",
      " #   Column  Non-Null Count  Dtype  \n",
      "---  ------  --------------  -----  \n",
      " 0   A       3 non-null      float64\n",
      " 1   B       4 non-null      int64  \n",
      "dtypes: float64(1), int64(1)\n",
      "memory usage: 192.0 bytes\n",
      "None\n",
      "     A  B\n",
      "0  1.0  5\n",
      "1  2.0  6\n",
      "3  4.0  8\n",
      "   B\n",
      "0  5\n",
      "1  6\n",
      "2  7\n",
      "3  8\n"
     ]
    }
   ],
   "source": [
    "# 1.Removal of Missing Values:Remove rows or columns with missing values.\n",
    "import pandas as pd\n",
    "# Example DataFrame\n",
    "data = {'A': [1, 2, None, 4],\n",
    "        'B': [5, 6, 7, 8]}\n",
    "df = pd.DataFrame(data)\n",
    "print(df.info())\n",
    "\n",
    "# Remove rows with missing values\n",
    "df_rows = df.dropna()\n",
    "\n",
    "# Remove columns with missing values\n",
    "df_columns = df.dropna(axis=1)\n",
    "print(df_rows)\n",
    "print(df_columns)"
   ]
  },
  {
   "cell_type": "code",
   "execution_count": 9,
   "id": "d86dc61f",
   "metadata": {},
   "outputs": [
    {
     "name": "stdout",
     "output_type": "stream",
     "text": [
      "          A  B\n",
      "0  1.000000  5\n",
      "1  2.000000  6\n",
      "2  2.333333  7\n",
      "3  4.000000  8\n",
      "     A  B\n",
      "0  1.0  5\n",
      "1  2.0  6\n",
      "2  2.0  7\n",
      "3  4.0  8\n",
      "     A  B\n",
      "0  1.0  5\n",
      "1  2.0  6\n",
      "2  1.0  7\n",
      "3  4.0  8\n"
     ]
    }
   ],
   "source": [
    "# 2.Imputation with Mean, Median, or Mode:\n",
    "# Impute missing values with mean\n",
    "df_imputed_mean = df.fillna(df.mean())\n",
    "\n",
    "# Impute missing values with median\n",
    "df_imputed_median = df.fillna(df.median())\n",
    "\n",
    "# Impute missing values with mode\n",
    "df_imputed_mode = df.fillna(df.mode().iloc[0])\n",
    "print(df_imputed_mean)\n",
    "print(df_imputed_median)\n",
    "print(df_imputed_mode)"
   ]
  },
  {
   "cell_type": "markdown",
   "id": "48bbd64a",
   "metadata": {},
   "source": [
    "Q8: You are working with a large dataset and find that a small percentage of the data is missing. What are\n",
    "some strategies you can use to determine if the missing data is missing at random or if there is a pattern\n",
    "to the missing data?"
   ]
  },
  {
   "cell_type": "code",
   "execution_count": 10,
   "id": "3aa1c9b6",
   "metadata": {},
   "outputs": [],
   "source": [
    "# Determining whether missing data is missing completely at random (MCAR), missing at random (MAR), or missing not at random\n",
    "# (MNAR) is essential for choosing appropriate strategies to handle the missing values. \n",
    "# Visual Inspection\n",
    "# Descriptive Statistics\n",
    "# Statistical Tests"
   ]
  },
  {
   "cell_type": "markdown",
   "id": "95f4538f",
   "metadata": {},
   "source": [
    "Q9: Suppose you are working on a medical diagnosis project and find that the majority of patients in the\n",
    "dataset do not have the condition of interest, while a small percentage do. What are some strategies you\n",
    "can use to evaluate the performance of your machine learning model on this imbalanced dataset?"
   ]
  },
  {
   "cell_type": "code",
   "execution_count": 12,
   "id": "e049fa76",
   "metadata": {},
   "outputs": [],
   "source": [
    "# Confusion Matrix Analysis:\n",
    "# Use the confusion matrix and classification report for insights.\n",
    "\n",
    "# Precision and Recall:\n",
    "# Plot a precision-recall curve to understand the trade-off.\n",
    "# Consider F1 score as a balance between precision and recall.\n",
    "# Area Under the ROC Curve (AUC-ROC):\n",
    "# Analyze the ROC curve and AUC-ROC score."
   ]
  },
  {
   "cell_type": "markdown",
   "id": "384129fe",
   "metadata": {},
   "source": [
    "Q10: When attempting to estimate customer satisfaction for a project, you discover that the dataset is\n",
    "unbalanced, with the bulk of customers reporting being satisfied. What methods can you employ to\n",
    "balance the dataset and down-sample the majority class?"
   ]
  },
  {
   "cell_type": "code",
   "execution_count": 13,
   "id": "07e1a912",
   "metadata": {},
   "outputs": [],
   "source": [
    "# To balance an imbalanced dataset with a majority class dominating, specifically for estimating customer satisfaction, you can \n",
    "# employ the following downsampling methods:\n",
    "# Random Under-Sampling:Randomly remove instances from the majority class.\n",
    "# Cluster-Based Under-Sampling:Use clustering techniques to identify and down-sample from clusters within the majority class."
   ]
  },
  {
   "cell_type": "markdown",
   "id": "1091f091",
   "metadata": {},
   "source": [
    "Q11: You discover that the dataset is unbalanced with a low percentage of occurrences while working on a\n",
    "project that requires you to estimate the occurrence of a rare event. What methods can you employ to\n",
    "balance the dataset and up-sample the minority class?"
   ]
  },
  {
   "cell_type": "code",
   "execution_count": 14,
   "id": "47e7eec3",
   "metadata": {},
   "outputs": [],
   "source": [
    "# SMOTE (Synthetic Minority Over-sampling Technique):\n",
    "# SMOTE is a specific data augmentation technique designed to address imbalanced datasets, particularly in classification \n",
    "# problems where the minority class is under-represented. \n",
    "\n",
    "# Random Over-Sampling:\n",
    "# Randomly duplicate instances from the minority class until a more balanced class distribution is achieved."
   ]
  },
  {
   "cell_type": "code",
   "execution_count": null,
   "id": "a9a1723a",
   "metadata": {},
   "outputs": [],
   "source": []
  }
 ],
 "metadata": {
  "kernelspec": {
   "display_name": "Python 3 (ipykernel)",
   "language": "python",
   "name": "python3"
  },
  "language_info": {
   "codemirror_mode": {
    "name": "ipython",
    "version": 3
   },
   "file_extension": ".py",
   "mimetype": "text/x-python",
   "name": "python",
   "nbconvert_exporter": "python",
   "pygments_lexer": "ipython3",
   "version": "3.10.9"
  }
 },
 "nbformat": 4,
 "nbformat_minor": 5
}
