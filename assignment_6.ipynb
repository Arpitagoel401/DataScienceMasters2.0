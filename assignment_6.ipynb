{
 "cells": [
  {
   "cell_type": "markdown",
   "id": "ea787387",
   "metadata": {},
   "source": [
    "Q1, Create a vehicle class with an init method having instance variables as name_of_vehicle, max_speed\n",
    "and average_of_vehicle."
   ]
  },
  {
   "cell_type": "code",
   "execution_count": 1,
   "id": "63767f30",
   "metadata": {},
   "outputs": [],
   "source": [
    "class vehicle :\n",
    "    \n",
    "    def __init__(self,name_of_vehicle,max_speed,average_of_vehicle):\n",
    "        self.name_of_vehicle = name_of_vehicle\n",
    "        self.max_speed = max_speed\n",
    "        self.average_of_vehicle = average_of_vehicle\n",
    "        \n",
    "    def show(self):\n",
    "        print(self.name_of_vehicle, self.max_speed ,self.average_of_vehicle)"
   ]
  },
  {
   "cell_type": "code",
   "execution_count": 2,
   "id": "b3b6bacd",
   "metadata": {},
   "outputs": [],
   "source": [
    "car1 = vehicle('car',120,80)"
   ]
  },
  {
   "cell_type": "code",
   "execution_count": 3,
   "id": "4402058e",
   "metadata": {},
   "outputs": [
    {
     "name": "stdout",
     "output_type": "stream",
     "text": [
      "car 120 80\n"
     ]
    }
   ],
   "source": [
    "car1.show()"
   ]
  },
  {
   "cell_type": "markdown",
   "id": "6fcb4c09",
   "metadata": {},
   "source": [
    "Q2. Create a child class car from the vehicle class created in Que 1, which will inherit the vehicle class.\n",
    "Create a method named seating_capacity which takes capacity as an argument and returns the name of\n",
    "the vehicle and its seating capacity."
   ]
  },
  {
   "cell_type": "code",
   "execution_count": 4,
   "id": "cd8c0440",
   "metadata": {},
   "outputs": [],
   "source": [
    "class car(vehicle):\n",
    "    def seating_capacity(self,capacity):\n",
    "        self.capacity = capacity \n",
    "        return self.name_of_vehicle , self.capacity"
   ]
  },
  {
   "cell_type": "code",
   "execution_count": 5,
   "id": "ef27b08a",
   "metadata": {},
   "outputs": [],
   "source": [
    "c1 = car('suzuki', 120,25)"
   ]
  },
  {
   "cell_type": "code",
   "execution_count": 6,
   "id": "d4085a5d",
   "metadata": {},
   "outputs": [
    {
     "data": {
      "text/plain": [
       "('suzuki', 4)"
      ]
     },
     "execution_count": 6,
     "metadata": {},
     "output_type": "execute_result"
    }
   ],
   "source": [
    "c1.seating_capacity(4)"
   ]
  },
  {
   "cell_type": "markdown",
   "id": "e81a5038",
   "metadata": {},
   "source": [
    "Q3. What is multiple inheritance? Write a python code to demonstrate multiple inheritance."
   ]
  },
  {
   "cell_type": "code",
   "execution_count": 7,
   "id": "88990f2e",
   "metadata": {},
   "outputs": [],
   "source": [
    "# Multiple inheritance allows a class to inherit attributes and methods from more than one parent class. \n",
    "# In multiple inheritance, a class can inherit from two or more base classes, and it can access and use the attributes and \n",
    "# methods of all its parent classes.\n",
    "\n",
    "class cricket:\n",
    "    \n",
    "    def play_cricket(self):\n",
    "        print('I like to play crickey')\n",
    "        \n",
    "\n",
    "class football:\n",
    "    \n",
    "    def play_football(Self):\n",
    "        print('I like to play football')\n",
    "        \n",
    "class player(cricket , football):\n",
    "    def name_player(self,name):\n",
    "        self.name = name\n",
    "        \n",
    "        print(f'My name is {self.name}')"
   ]
  },
  {
   "cell_type": "code",
   "execution_count": 8,
   "id": "a4d35b18",
   "metadata": {},
   "outputs": [],
   "source": [
    "arpi = player()"
   ]
  },
  {
   "cell_type": "code",
   "execution_count": 9,
   "id": "663cded1",
   "metadata": {},
   "outputs": [
    {
     "name": "stdout",
     "output_type": "stream",
     "text": [
      "My name is arpi\n",
      "I like to play crickey\n",
      "I like to play football\n"
     ]
    }
   ],
   "source": [
    "arpi.name_player('arpi')\n",
    "arpi.play_cricket()\n",
    "arpi.play_football()"
   ]
  },
  {
   "cell_type": "markdown",
   "id": "130e459b",
   "metadata": {},
   "source": [
    "Q4. What are getter and setter in python? Create a class and create a getter and a setter method in this\n",
    "class."
   ]
  },
  {
   "cell_type": "code",
   "execution_count": 10,
   "id": "b7060edc",
   "metadata": {},
   "outputs": [],
   "source": [
    "# Getter and setter are used to control access to an object's attributes (data members). \n",
    "# They provide a way to get (access) and set (modify) the values of private or encapsulated attributes.\n",
    "\n",
    "class student:\n",
    "    \n",
    "    def __init__(self,name,age):\n",
    "        \n",
    "        self.__name = name\n",
    "        self.age = age\n",
    "        \n",
    "    @property\n",
    "    def name_access(self):\n",
    "        return self.__name\n",
    "    \n",
    "    @name_access.setter\n",
    "    def set_name(self,stu_name):\n",
    "        self.__name = stu_name\n"
   ]
  },
  {
   "cell_type": "code",
   "execution_count": 11,
   "id": "c45300af",
   "metadata": {},
   "outputs": [
    {
     "name": "stdout",
     "output_type": "stream",
     "text": [
      "Original Name: Alice\n"
     ]
    }
   ],
   "source": [
    "student1 = student(\"Alice\", 20)\n",
    "print(\"Original Name:\", student1.name_access)  "
   ]
  },
  {
   "cell_type": "code",
   "execution_count": 12,
   "id": "09d7d553",
   "metadata": {},
   "outputs": [
    {
     "name": "stdout",
     "output_type": "stream",
     "text": [
      "Updated Name: Asha\n"
     ]
    }
   ],
   "source": [
    "student1.set_name = \"Asha\" \n",
    "print(\"Updated Name:\", student1.name_access)"
   ]
  },
  {
   "cell_type": "markdown",
   "id": "cbc9c287",
   "metadata": {},
   "source": [
    "Q5.What is method overriding in python? Write a python code to demonstrate method overriding."
   ]
  },
  {
   "cell_type": "code",
   "execution_count": 13,
   "id": "81d4108a",
   "metadata": {},
   "outputs": [],
   "source": [
    "# Method overriding in oops allows a subclass to provide a specific implementation of a method that is already defined in \n",
    "# its superclass. This means that the subclass can replace or extend the behavior of the inherited method\n",
    "\n",
    "class Animal:\n",
    "    def speak(self):\n",
    "        print(\"Animal makes a sound\")\n",
    "\n",
    "class Dog(Animal):\n",
    "    def speak(self):\n",
    "        print(\"Dog barks\")"
   ]
  },
  {
   "cell_type": "code",
   "execution_count": 14,
   "id": "94005eab",
   "metadata": {},
   "outputs": [],
   "source": [
    "dog = Dog()"
   ]
  },
  {
   "cell_type": "code",
   "execution_count": 15,
   "id": "7f8a95a9",
   "metadata": {},
   "outputs": [
    {
     "name": "stdout",
     "output_type": "stream",
     "text": [
      "Dog barks\n"
     ]
    }
   ],
   "source": [
    "dog.speak()"
   ]
  },
  {
   "cell_type": "code",
   "execution_count": null,
   "id": "fb72d91a",
   "metadata": {},
   "outputs": [],
   "source": []
  }
 ],
 "metadata": {
  "kernelspec": {
   "display_name": "Python 3 (ipykernel)",
   "language": "python",
   "name": "python3"
  },
  "language_info": {
   "codemirror_mode": {
    "name": "ipython",
    "version": 3
   },
   "file_extension": ".py",
   "mimetype": "text/x-python",
   "name": "python",
   "nbconvert_exporter": "python",
   "pygments_lexer": "ipython3",
   "version": "3.10.9"
  }
 },
 "nbformat": 4,
 "nbformat_minor": 5
}
