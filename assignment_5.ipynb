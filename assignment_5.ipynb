{
 "cells": [
  {
   "cell_type": "markdown",
   "id": "edc70b4a",
   "metadata": {},
   "source": [
    "Q1. Explain Class and Object with respect to Object-Oriented Programming. Give a suitable example."
   ]
  },
  {
   "cell_type": "code",
   "execution_count": 1,
   "id": "4b826dc5",
   "metadata": {},
   "outputs": [],
   "source": [
    "# A class is a blueprint or template for creating objects. It defines the structure and behavior of objects that belong to that \n",
    "# class\n",
    "\n",
    "# An object is an instance of a class.Objects can interact with one another and perform actions based on the methods defined in \n",
    "# the class.\n",
    "\n",
    "# for example\n",
    "\n",
    "# pwskills is a class having a constructure and a method known as show\n",
    "\n",
    "class pwskills:\n",
    "    def __init__(self,course_name , course_price):\n",
    "        self.course_name = course_name\n",
    "        self.course_price = course_price\n",
    "        \n",
    "    def show(self):\n",
    "        return self.course_name "
   ]
  },
  {
   "cell_type": "code",
   "execution_count": 2,
   "id": "1b57706a",
   "metadata": {},
   "outputs": [],
   "source": [
    "# and arpita is a object of class pwskills\n",
    "\n",
    "arpita = pwskills('data science masters' , 3500)"
   ]
  },
  {
   "cell_type": "code",
   "execution_count": 3,
   "id": "88ef5007",
   "metadata": {},
   "outputs": [
    {
     "data": {
      "text/plain": [
       "'data science masters'"
      ]
     },
     "execution_count": 3,
     "metadata": {},
     "output_type": "execute_result"
    }
   ],
   "source": [
    "arpita.show()"
   ]
  },
  {
   "cell_type": "markdown",
   "id": "44972c5c",
   "metadata": {},
   "source": [
    "Q2. Name the four pillars of OOPs."
   ]
  },
  {
   "cell_type": "code",
   "execution_count": 4,
   "id": "e1830470",
   "metadata": {},
   "outputs": [],
   "source": [
    "# The four pillars of oops are encapsulation , abstraction , inheritance , polymorphism\n",
    "\n",
    "# Encapsulation = It is a idea which prevent you to directly access or modification of data in oops programming concept .\n",
    "# ex. capsule i am not able to acces the internal composition of a capsule\n",
    "\n",
    "# Abstraction = Abstract class is a skeleton and blueprint class and anybody require these method just inherit this class and \n",
    "# all specify and define their methods according to their needs\n",
    "\n",
    "# Inheritance = It is a mechanism that allows a new class (subclass or derived class) to inherit properties and\n",
    "# behaviors from an existing class (superclass or base class).\n",
    "\n",
    "# Polymorphism = It is the ability of objects to take on multiple forms or the same interface to represent different behaviors."
   ]
  },
  {
   "cell_type": "markdown",
   "id": "452a7094",
   "metadata": {},
   "source": [
    "Q3. Explain why the __init__() function is used. Give a suitable example."
   ]
  },
  {
   "cell_type": "code",
   "execution_count": 5,
   "id": "52677103",
   "metadata": {},
   "outputs": [],
   "source": [
    "# It is also known as constructor . It is automatically called when an object of the class is created\n",
    "# __init__() method is to initialize the attributes of the object, allowing you to set their initial values.\n",
    "\n",
    "# here is an example of __init__() function\n",
    "\n",
    "class test:\n",
    "    def __init__(self,name,marks):\n",
    "        self.name = name\n",
    "        self.marks = marks\n",
    "        \n",
    "    def show_details(self):\n",
    "        print(self.name)\n",
    "        print(self.marks)"
   ]
  },
  {
   "cell_type": "code",
   "execution_count": 6,
   "id": "4d7330e6",
   "metadata": {},
   "outputs": [],
   "source": [
    "divyasha = test('divyasha',55)"
   ]
  },
  {
   "cell_type": "code",
   "execution_count": 7,
   "id": "cfd85d74",
   "metadata": {},
   "outputs": [
    {
     "data": {
      "text/plain": [
       "55"
      ]
     },
     "execution_count": 7,
     "metadata": {},
     "output_type": "execute_result"
    }
   ],
   "source": [
    "divyasha.marks"
   ]
  },
  {
   "cell_type": "code",
   "execution_count": 8,
   "id": "4850ae1a",
   "metadata": {},
   "outputs": [
    {
     "data": {
      "text/plain": [
       "'divyasha'"
      ]
     },
     "execution_count": 8,
     "metadata": {},
     "output_type": "execute_result"
    }
   ],
   "source": [
    "divyasha.name"
   ]
  },
  {
   "cell_type": "code",
   "execution_count": 9,
   "id": "e419ed55",
   "metadata": {},
   "outputs": [
    {
     "name": "stdout",
     "output_type": "stream",
     "text": [
      "divyasha\n",
      "55\n"
     ]
    }
   ],
   "source": [
    "divyasha.show_details()"
   ]
  },
  {
   "cell_type": "markdown",
   "id": "e1c1aa66",
   "metadata": {},
   "source": [
    "Q4. Why self is used in OOPs?"
   ]
  },
  {
   "cell_type": "code",
   "execution_count": 10,
   "id": "5dcaa160",
   "metadata": {},
   "outputs": [
    {
     "name": "stdout",
     "output_type": "stream",
     "text": [
      "30\n"
     ]
    }
   ],
   "source": [
    "# self keyword is used to refer to the instance of the class (the object itself) within a class's methods\n",
    "#In oops we use self keyword so that we can distinguish between instance variables (attributes) and local \n",
    "# variables or function parameters.\n",
    "\n",
    "class test:\n",
    "    def show(self):\n",
    "        self.marks = 30\n",
    "        print(self.marks)\n",
    "        \n",
    "t = test()\n",
    "t.show()"
   ]
  },
  {
   "cell_type": "markdown",
   "id": "14bdd066",
   "metadata": {},
   "source": [
    "Q5. What is inheritance? Give an example for each type of inheritance."
   ]
  },
  {
   "cell_type": "code",
   "execution_count": 11,
   "id": "ba73acd8",
   "metadata": {},
   "outputs": [],
   "source": [
    "# Inheritance is a mechanism that allows a new class (subclass or derived class) to inherit properties and\n",
    "# behaviors from an existing class (superclass or base class).\n"
   ]
  },
  {
   "cell_type": "code",
   "execution_count": 12,
   "id": "4f21d7b4",
   "metadata": {},
   "outputs": [],
   "source": [
    "# 1. Single inheritance\n",
    "\n",
    "class dog:\n",
    "    def eat(self):\n",
    "        print('Eat the healthy food')\n",
    "        \n",
    "\n",
    "class cat(dog):\n",
    "    def meow(self):\n",
    "        print('Cat produces the sound as meow')"
   ]
  },
  {
   "cell_type": "code",
   "execution_count": 13,
   "id": "a3bef514",
   "metadata": {},
   "outputs": [],
   "source": [
    "c1 = cat()"
   ]
  },
  {
   "cell_type": "code",
   "execution_count": 14,
   "id": "cc56f911",
   "metadata": {},
   "outputs": [
    {
     "name": "stdout",
     "output_type": "stream",
     "text": [
      "Eat the healthy food\n"
     ]
    }
   ],
   "source": [
    "c1.eat()"
   ]
  },
  {
   "cell_type": "code",
   "execution_count": 15,
   "id": "a4d1e456",
   "metadata": {},
   "outputs": [
    {
     "name": "stdout",
     "output_type": "stream",
     "text": [
      "Cat produces the sound as meow\n"
     ]
    }
   ],
   "source": [
    "c1.meow()"
   ]
  },
  {
   "cell_type": "code",
   "execution_count": 16,
   "id": "c5851099",
   "metadata": {},
   "outputs": [],
   "source": [
    "# 2. Multiple inheritance\n",
    "\n",
    "class test:\n",
    "    def test_name(self,name):\n",
    "        self.name = name\n",
    "        print(self.name)\n",
    "        \n",
    "class marks :\n",
    "    def test_marks(self,marks):\n",
    "        self.marks = marks\n",
    "        print(self.marks)\n",
    "        \n",
    "class student(test,marks):\n",
    "    \n",
    "    def student_details(self,name):\n",
    "        self.name = name\n",
    "        print(self.name)"
   ]
  },
  {
   "cell_type": "code",
   "execution_count": 17,
   "id": "b7a70b43",
   "metadata": {},
   "outputs": [],
   "source": [
    "mohan = student()"
   ]
  },
  {
   "cell_type": "code",
   "execution_count": 18,
   "id": "8ed109dd",
   "metadata": {},
   "outputs": [
    {
     "name": "stdout",
     "output_type": "stream",
     "text": [
      "physics\n"
     ]
    }
   ],
   "source": [
    "mohan.test_name('physics')"
   ]
  },
  {
   "cell_type": "code",
   "execution_count": 19,
   "id": "fab14d2b",
   "metadata": {},
   "outputs": [
    {
     "name": "stdout",
     "output_type": "stream",
     "text": [
      "80\n"
     ]
    }
   ],
   "source": [
    "mohan.test_marks(80)"
   ]
  },
  {
   "cell_type": "code",
   "execution_count": 20,
   "id": "e8445181",
   "metadata": {},
   "outputs": [
    {
     "name": "stdout",
     "output_type": "stream",
     "text": [
      "mohan\n"
     ]
    }
   ],
   "source": [
    "mohan.student_details('mohan')"
   ]
  },
  {
   "cell_type": "code",
   "execution_count": 21,
   "id": "0b5b459a",
   "metadata": {},
   "outputs": [],
   "source": [
    "# multilevel inheritance\n",
    "class grandfather:\n",
    "    def grand_mesg(self):\n",
    "        print('Hey i am grand father')\n",
    "        \n",
    "class father(grandfather) :\n",
    "    def father_mesg(self):\n",
    "        print('Hey i am father')\n",
    "        \n",
    "class child(father):\n",
    "    def child_mesg(self):\n",
    "        print('Hey i am child')"
   ]
  },
  {
   "cell_type": "code",
   "execution_count": 22,
   "id": "0743b214",
   "metadata": {},
   "outputs": [],
   "source": [
    "c1 = child()"
   ]
  },
  {
   "cell_type": "code",
   "execution_count": 23,
   "id": "e7319d9c",
   "metadata": {},
   "outputs": [
    {
     "name": "stdout",
     "output_type": "stream",
     "text": [
      "Hey i am child\n"
     ]
    }
   ],
   "source": [
    "c1.child_mesg()"
   ]
  },
  {
   "cell_type": "code",
   "execution_count": 24,
   "id": "1bb3c3ee",
   "metadata": {},
   "outputs": [
    {
     "name": "stdout",
     "output_type": "stream",
     "text": [
      "Hey i am father\n"
     ]
    }
   ],
   "source": [
    "c1.father_mesg()"
   ]
  },
  {
   "cell_type": "code",
   "execution_count": 25,
   "id": "76257983",
   "metadata": {},
   "outputs": [
    {
     "name": "stdout",
     "output_type": "stream",
     "text": [
      "Hey i am grand father\n"
     ]
    }
   ],
   "source": [
    "c1.grand_mesg()"
   ]
  },
  {
   "cell_type": "code",
   "execution_count": null,
   "id": "cc4d7eef",
   "metadata": {},
   "outputs": [],
   "source": []
  }
 ],
 "metadata": {
  "kernelspec": {
   "display_name": "Python 3 (ipykernel)",
   "language": "python",
   "name": "python3"
  },
  "language_info": {
   "codemirror_mode": {
    "name": "ipython",
    "version": 3
   },
   "file_extension": ".py",
   "mimetype": "text/x-python",
   "name": "python",
   "nbconvert_exporter": "python",
   "pygments_lexer": "ipython3",
   "version": "3.10.9"
  }
 },
 "nbformat": 4,
 "nbformat_minor": 5
}
