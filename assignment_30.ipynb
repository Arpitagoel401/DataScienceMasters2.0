{
 "cells": [
  {
   "cell_type": "markdown",
   "id": "9e8885be",
   "metadata": {},
   "source": [
    "Q1: What is Estimation Statistics? Explain point estimate and interval estimate."
   ]
  },
  {
   "cell_type": "code",
   "execution_count": 1,
   "id": "46c3c24e",
   "metadata": {},
   "outputs": [],
   "source": [
    "#Estimation statistics involves the use of sample data to estimate population parameters. There are two main types of estimates:\n",
    "# point estimates and interval estimates.\n",
    "\n",
    "# Point Estimate:A point estimate is a single value that is used to approximate the population parameter.\n",
    "\n",
    "#Interval Estimate:An interval estimate provides a range of values within which the true population parameter is likely to lie, \n",
    "# along with a level of confidence.\n"
   ]
  },
  {
   "cell_type": "markdown",
   "id": "b482bc6d",
   "metadata": {},
   "source": [
    "Q2. Write a Python function to estimate the population mean using a sample mean and standard\n",
    "deviation."
   ]
  },
  {
   "cell_type": "code",
   "execution_count": 2,
   "id": "fb85b89c",
   "metadata": {},
   "outputs": [
    {
     "name": "stdout",
     "output_type": "stream",
     "text": [
      "Population mean estimate: 50.50\n",
      "95% Confidence Interval: (48.50, 52.50)\n"
     ]
    }
   ],
   "source": [
    "import scipy.stats as stats\n",
    "import math\n",
    "\n",
    "def estimate_population_mean(sample_mean, sample_std, sample_size, confidence_level=0.95):\n",
    "    # Calculate the critical value (z) based on the confidence level\n",
    "    z_value = stats.norm.ppf((1 + confidence_level) / 2)\n",
    "\n",
    "    # Calculate the margin of error\n",
    "    margin_of_error = z_value * (sample_std / math.sqrt(sample_size))\n",
    "\n",
    "    # Calculate the confidence interval\n",
    "    lower_bound = sample_mean - margin_of_error\n",
    "    upper_bound = sample_mean + margin_of_error\n",
    "\n",
    "    return lower_bound, upper_bound\n",
    "\n",
    "# Example usage:\n",
    "sample_mean = 50.5\n",
    "sample_std = 10.2\n",
    "sample_size = 100\n",
    "confidence_level = 0.95\n",
    "\n",
    "interval = estimate_population_mean(sample_mean, sample_std, sample_size, confidence_level)\n",
    "print(f\"Population mean estimate: {sample_mean:.2f}\")\n",
    "print(f\"95% Confidence Interval: ({interval[0]:.2f}, {interval[1]:.2f})\")"
   ]
  },
  {
   "cell_type": "markdown",
   "id": "6eb2aa61",
   "metadata": {},
   "source": [
    "Q3: What is Hypothesis testing? Why is it used? State the importance of Hypothesis testing."
   ]
  },
  {
   "cell_type": "code",
   "execution_count": 3,
   "id": "4a5b4713",
   "metadata": {},
   "outputs": [],
   "source": [
    "# Hypothesis testing is a statistical method used to make inferences about a population based on a sample of data. It involves \n",
    "# formulating a hypothesis about a population parameter, collecting and analyzing data, and then making a decision about whether\n",
    "# the evidence supports or contradicts the initial hypothesis.\n",
    "# Importance of Hypothesis Testing:\n",
    "# 1.Inference about Populations\n",
    "# 2.Decision Making\n",
    "# 3.Risk Assessment"
   ]
  },
  {
   "cell_type": "markdown",
   "id": "7b0b8d34",
   "metadata": {},
   "source": [
    "Q4. Create a hypothesis that states whether the average weight of male college students is greater than\n",
    "the average weight of female college students."
   ]
  },
  {
   "cell_type": "code",
   "execution_count": 4,
   "id": "e832d72f",
   "metadata": {},
   "outputs": [],
   "source": [
    "# To create a hypothesis comparing the average weight of male and female college students, you can formulate a pair of null and \n",
    "# alternative hypotheses.\n",
    "# NULL HYPOTHESIS :\n",
    "#     average weight of male <= average weight of female\n",
    "# ALTERNATE HYPOTHESIS :\n",
    "#     average weight of female < average weight of male"
   ]
  },
  {
   "cell_type": "markdown",
   "id": "6d3b8262",
   "metadata": {},
   "source": [
    "Q5. Write a Python script to conduct a hypothesis test on the difference between two population means,\n",
    "given a sample from each population."
   ]
  },
  {
   "cell_type": "code",
   "execution_count": 5,
   "id": "8713aafe",
   "metadata": {},
   "outputs": [
    {
     "name": "stdout",
     "output_type": "stream",
     "text": [
      "Reject the null hypothesis\n",
      "There is enough evidence to suggest a significant difference between the population means.\n",
      "T-statistic: 6.7049\n",
      "P-value: 0.0000\n"
     ]
    }
   ],
   "source": [
    "import scipy.stats as stats\n",
    "\n",
    "def two_sample_t_test(sample1, sample2, alpha=0.05):\n",
    "    # Perform two-sample t-test\n",
    "    t_stat, p_value = stats.ttest_ind(sample1, sample2, equal_var=False)\n",
    "\n",
    "    # Compare p-value to the significance level (alpha)\n",
    "    if p_value < alpha:\n",
    "        print(\"Reject the null hypothesis\")\n",
    "        print(\"There is enough evidence to suggest a significant difference between the population means.\")\n",
    "    else:\n",
    "        print(\"Fail to reject the null hypothesis\")\n",
    "        print(\"There is not enough evidence to suggest a significant difference between the population means.\")\n",
    "\n",
    "    # Print the t-statistic and p-value\n",
    "    print(f\"T-statistic: {t_stat:.4f}\")\n",
    "    print(f\"P-value: {p_value:.4f}\")\n",
    "\n",
    "# Example usage:\n",
    "# Assume 'sample_male' and 'sample_female' are the weight samples for male and female college students.\n",
    "sample_male = [75, 80, 85, 78, 77, 82, 79, 81, 84, 76]\n",
    "sample_female = [65, 70, 75, 68, 67, 72, 69, 71, 74, 66]\n",
    "\n",
    "# Set the significance level (alpha)\n",
    "alpha = 0.05\n",
    "\n",
    "# Conduct the two-sample t-test\n",
    "two_sample_t_test(sample_male, sample_female, alpha)"
   ]
  },
  {
   "cell_type": "markdown",
   "id": "5730da59",
   "metadata": {},
   "source": [
    "Q6: What is a null and alternative hypothesis? Give some examples."
   ]
  },
  {
   "cell_type": "code",
   "execution_count": 6,
   "id": "f7494a37",
   "metadata": {},
   "outputs": [],
   "source": [
    "# Null Hypothesis :Represents a default or status quo assumption. It often states that there is no effect or no difference.\n",
    "# Alternative Hypothesis: Represents a statement that contradicts the null hypothesis, suggesting an effect, difference, or \n",
    "# relationship.\n",
    "# example:\n",
    "# NULL HYPOTHESIS :\n",
    "#     average weight of male <= average weight of female\n",
    "# ALTERNATE HYPOTHESIS :\n",
    "#     average weight of female < average weight of male"
   ]
  },
  {
   "cell_type": "markdown",
   "id": "b4062463",
   "metadata": {},
   "source": [
    "Q7: Write down the steps involved in hypothesis testing."
   ]
  },
  {
   "cell_type": "code",
   "execution_count": 7,
   "id": "70444341",
   "metadata": {},
   "outputs": [],
   "source": [
    "# The process of hypothesis testing generally involves the following steps:\n",
    "\n",
    "# 1.Formulate Hypotheses: \n",
    "# Null Hypothesis :Represents a default or status quo assumption. It often states that there is no effect or no difference.\n",
    "# Alternative Hypothesis: Represents a statement that contradicts the null hypothesis, suggesting an effect, difference, or \n",
    "# relationship.\n",
    "#2.Collect and Analyze Data:Collect a sample of data relevant to the hypothesis.Perform statistical analysis on the sample data.\n",
    "# 3.Make a Decision:Based on the analysis, decide whether to reject the null hypothesis in favor of the alternative hypothesis, \n",
    "# or fail to reject the null hypothesis.\n",
    "# 4.Draw Conclusions:Interpret the results and draw conclusions about the population based on the sample data."
   ]
  },
  {
   "cell_type": "markdown",
   "id": "bf558d20",
   "metadata": {},
   "source": [
    "Q8. Define p-value and explain its significance in hypothesis testing."
   ]
  },
  {
   "cell_type": "code",
   "execution_count": 8,
   "id": "0f12f47a",
   "metadata": {},
   "outputs": [],
   "source": [
    "# P-value:The p-value, or probability value, is a measure that helps assess the strength of evidence against a null hypothesis \n",
    "# in hypothesis testing. It quantifies the probability of obtaining results as extreme as, or more extreme than, the observed \n",
    "# results under the assumption that the null hypothesis is true.\n",
    "\n",
    "# Significance in Hypothesis Testing: It helps researchers and analysts make informed decisions about whether to reject or fail \n",
    "# to reject the null hypothesis based on the observed data."
   ]
  },
  {
   "cell_type": "markdown",
   "id": "cf5d0da0",
   "metadata": {},
   "source": [
    "Q9. Generate a Student's t-distribution plot using Python's matplotlib library, with the degrees of freedom\n",
    "parameter set to 10."
   ]
  },
  {
   "cell_type": "code",
   "execution_count": 9,
   "id": "ecf0a5dc",
   "metadata": {},
   "outputs": [],
   "source": [
    "import numpy as np\n",
    "import scipy.stats as stats\n",
    "\n",
    "# Set the degrees of freedom\n",
    "degrees_of_freedom = 10\n",
    "\n",
    "# Generate x values\n",
    "x_values = np.linspace(-4, 4, 1000)\n",
    "\n",
    "# Calculate the probability density function (PDF) for the t-distribution\n",
    "t_pdf = stats.t.pdf(x_values, df=degrees_of_freedom)\n"
   ]
  },
  {
   "cell_type": "markdown",
   "id": "fe0b3147",
   "metadata": {},
   "source": [
    "Q10. Write a Python program to calculate the two-sample t-test for independent samples, given two random samples of equal size and a null hypothesis that the population means are equal."
   ]
  },
  {
   "cell_type": "code",
   "execution_count": 10,
   "id": "371e054f",
   "metadata": {},
   "outputs": [
    {
     "name": "stdout",
     "output_type": "stream",
     "text": [
      "Sample 1 Mean: 48.118531041489625\n",
      "Sample 2 Mean: 53.788375297100565\n",
      "Two-Sample T-Test Results:\n",
      "T-Statistic: -2.3981\n",
      "P-Value: 0.0197\n",
      "Reject the null hypothesis: There is enough evidence to suggest a significant difference.\n"
     ]
    }
   ],
   "source": [
    "import numpy as np\n",
    "from scipy.stats import ttest_ind\n",
    "\n",
    "def two_sample_t_test(sample1, sample2, alpha=0.05):\n",
    "    # Perform two-sample t-test assuming equal variances\n",
    "    t_stat, p_value = ttest_ind(sample1, sample2)\n",
    "\n",
    "    # Display the results\n",
    "    print(\"Sample 1 Mean:\", np.mean(sample1))\n",
    "    print(\"Sample 2 Mean:\", np.mean(sample2))\n",
    "    print(\"Two-Sample T-Test Results:\")\n",
    "    print(f\"T-Statistic: {t_stat:.4f}\")\n",
    "    print(f\"P-Value: {p_value:.4f}\")\n",
    "\n",
    "    # Check for significance at the specified alpha level\n",
    "    if p_value < alpha:\n",
    "        print(\"Reject the null hypothesis: There is enough evidence to suggest a significant difference.\")\n",
    "    else:\n",
    "        print(\"Fail to reject the null hypothesis: There is not enough evidence to suggest a significant difference.\")\n",
    "\n",
    "# Generate two random samples with equal size\n",
    "np.random.seed(42)  # Setting seed for reproducibility\n",
    "sample_size = 30\n",
    "sample1 = np.random.normal(loc=50, scale=10, size=sample_size)\n",
    "sample2 = np.random.normal(loc=55, scale=10, size=sample_size)\n",
    "\n",
    "# Perform the two-sample t-test\n",
    "two_sample_t_test(sample1, sample2)"
   ]
  },
  {
   "cell_type": "markdown",
   "id": "7b75b84a",
   "metadata": {},
   "source": [
    "Q11: What is Student’s t distribution? When to use the t-Distribution."
   ]
  },
  {
   "cell_type": "code",
   "execution_count": 11,
   "id": "3d4d1ac5",
   "metadata": {},
   "outputs": [],
   "source": [
    "# The Student's t-distribution, often referred to simply as the t-distribution, is a probability distribution that arises in the\n",
    "# context of statistical inference. It is used to model the distribution of sample means when the underlying population standard\n",
    "# deviation is unknown and must be estimated from the sample.\n",
    "# When to use the t-Distribution:\n",
    "# 1.Small Sample Size\n",
    "# 2.Population Standard Deviation is Unknown\n",
    "# 3.Comparing Means"
   ]
  },
  {
   "cell_type": "markdown",
   "id": "a7601cd7",
   "metadata": {},
   "source": [
    "Q12: What is t-statistic? State the formula for t-statistic."
   ]
  },
  {
   "cell_type": "code",
   "execution_count": 12,
   "id": "4a17eecb",
   "metadata": {},
   "outputs": [],
   "source": [
    "# The t-statistic is a measure used in hypothesis testing to determine if there is a significant difference between sample and\n",
    "# population means or between the means of two independent samples. \n",
    "# The formula for the t-statistic :\n",
    "#     t = (x bar - population mean)/ (s/sqrt(n))"
   ]
  },
  {
   "cell_type": "markdown",
   "id": "e8604f49",
   "metadata": {},
   "source": [
    "Q13. A coffee shop owner wants to estimate the average daily revenue for their shop. They take a random\n",
    "sample of 50 days and find the sample mean revenue to be $500 with a standard deviation of $50.\n",
    "Estimate the population mean revenue with a 95% confidence interval."
   ]
  },
  {
   "cell_type": "code",
   "execution_count": 13,
   "id": "fc1ff26b",
   "metadata": {},
   "outputs": [],
   "source": [
    "# n = 50\n",
    "# x bar = 500\n",
    "# s = 50\n",
    "# c.i = 95%\n",
    "# alpha = 0.05\n",
    "# 1-0.025 = 0.9750=+1.96\n",
    "# lower ci = 500 - (1.96)50/sqrt(50) = 486.139\n",
    "# higher ci = 500 + (1.96)50/sqrt(50) = 513.859\n",
    "\n",
    "# Confidence Interval (95.0%): (486.139, 513.859)"
   ]
  },
  {
   "cell_type": "markdown",
   "id": "83e9d292",
   "metadata": {},
   "source": [
    "Q14. A researcher hypothesizes that a new drug will decrease blood pressure by 10 mmHg. They conduct a\n",
    "clinical trial with 100 patients and find that the sample mean decrease in blood pressure is 8 mmHg with a\n",
    "standard deviation of 3 mmHg. Test the hypothesis with a significance level of 0.05."
   ]
  },
  {
   "cell_type": "code",
   "execution_count": 14,
   "id": "5d0f9f88",
   "metadata": {},
   "outputs": [
    {
     "name": "stdout",
     "output_type": "stream",
     "text": [
      "t-Statistic: -6.6667\n",
      "Critical t-Value: 1.9842\n",
      "Reject the null hypothesis: There is enough evidence to suggest a significant difference.\n"
     ]
    }
   ],
   "source": [
    "import numpy as np\n",
    "import scipy.stats as stats\n",
    "\n",
    "sample_mean = 8\n",
    "hypothesized_mean = 10\n",
    "sample_std = 3\n",
    "sample_size = 100\n",
    "significance_level = 0.05\n",
    "\n",
    "t_statistic = (sample_mean - hypothesized_mean) / (sample_std / np.sqrt(sample_size))\n",
    "degrees_of_freedom = sample_size - 1\n",
    "critical_t_value = stats.t.ppf(1 - significance_level / 2, df=degrees_of_freedom)\n",
    "print(f\"t-Statistic: {t_statistic:.4f}\")\n",
    "print(f\"Critical t-Value: {critical_t_value:.4f}\")\n",
    "\n",
    "# Check for significance\n",
    "if np.abs(t_statistic) > critical_t_value:\n",
    "    print(\"Reject the null hypothesis: There is enough evidence to suggest a significant difference.\")\n",
    "else:\n",
    "    print(\"Fail to reject the null hypothesis: There is not enough evidence to suggest a significant difference.\")"
   ]
  },
  {
   "cell_type": "markdown",
   "id": "8275c30a",
   "metadata": {},
   "source": [
    "Q15. An electronics company produces a certain type of product with a mean weight of 5 pounds and a\n",
    "standard deviation of 0.5 pounds. A random sample of 25 products is taken, and the sample mean weight\n",
    "is found to be 4.8 pounds. Test the hypothesis that the true mean weight of the products is less than 5\n",
    "pounds with a significance level of 0.01."
   ]
  },
  {
   "cell_type": "code",
   "execution_count": 15,
   "id": "0f203403",
   "metadata": {},
   "outputs": [],
   "source": [
    "# population mean = 5\n",
    "# s = 0.5\n",
    "# n = 25\n",
    "# x bar = 4.8\n",
    "# Ho = population mean >= 5\n",
    "# H1 = population mean<5\n",
    "# t = (xbar - population mean )/ s/sqrt(n)\n",
    "# t = (4.8 - 5)/0.5/sqrt(25)\n",
    "# t = -2\n",
    "# df = n-1 = 25-1\n",
    "# df = 24\n",
    "# critical_Value = -2.4922\n",
    "# P-Value: 0.0285\n",
    "# Reject the null hypothesis: There is enough evidence to suggest the true mean weight is less than 5 pounds."
   ]
  },
  {
   "cell_type": "markdown",
   "id": "331ff2d0",
   "metadata": {},
   "source": [
    "Q16. Two groups of students are given different study materials to prepare for a test. The first group (n1 =\n",
    "30) has a mean score of 80 with a standard deviation of 10, and the second group (n2 = 40) has a mean\n",
    "score of 75 with a standard deviation of 8. Test the hypothesis that the population means for the two\n",
    "groups are equal with a significance level of 0.01."
   ]
  },
  {
   "cell_type": "code",
   "execution_count": 16,
   "id": "1b9f9779",
   "metadata": {},
   "outputs": [],
   "source": [
    "# Ho : population_mean1 = population_mean2\n",
    "# H1 : population_mean1 != population_mean2\n",
    "# # Group 1 data\n",
    "# mean1 = 80\n",
    "# std1 = 10\n",
    "# n1 = 30\n",
    "\n",
    "# # Group 2 data\n",
    "# mean2 = 75\n",
    "# std2 = 8\n",
    "# n2 = 40\n",
    "\n",
    "# # Significance level\n",
    "# significance_level = 0.01\n",
    "# t_statistic = (mean1 - mean2) / sqrt((std1**2 / n1) + (std2**2 / n2))\n",
    "#  = (80 - 75)/ sqrt((10**2/30)+(8**2/40))\n",
    "# t_statistics = 2.2511\n",
    "# degrees_of_freedom = n1 + n2 - 2 = 68\n",
    "# Critical t-Value: 2.6501\n",
    "# P-Value: 0.0276\n",
    "# Fail to reject the null hypothesis: There is not enough evidence to suggest the population means are not equal."
   ]
  },
  {
   "cell_type": "markdown",
   "id": "2ddb67e2",
   "metadata": {},
   "source": [
    "Q17. A marketing company wants to estimate the average number of ads watched by viewers during a TV\n",
    "program. They take a random sample of 50 viewers and find that the sample mean is 4 with a standard\n",
    "deviation of 1.5. Estimate the population mean with a 99% confidence interval."
   ]
  },
  {
   "cell_type": "code",
   "execution_count": 17,
   "id": "7fd4b50c",
   "metadata": {},
   "outputs": [
    {
     "name": "stdout",
     "output_type": "stream",
     "text": [
      "Sample Mean: 4\n",
      "Confidence Interval (99.0%): (3.4315, 4.5685)\n"
     ]
    }
   ],
   "source": [
    "import numpy as np\n",
    "import scipy.stats as stats\n",
    "\n",
    "sample_mean = 4\n",
    "sample_std = 1.5\n",
    "sample_size = 50\n",
    "confidence_level = 0.99  \n",
    "\n",
    "# Calculate the degrees of freedom\n",
    "degrees_of_freedom = sample_size - 1\n",
    "\n",
    "# Calculate the critical t-value\n",
    "critical_t_value = stats.t.ppf((1 + confidence_level) / 2, df=degrees_of_freedom)\n",
    "\n",
    "# Calculate the margin of error\n",
    "margin_of_error = critical_t_value * (sample_std / np.sqrt(sample_size))\n",
    "\n",
    "# Calculate the confidence interval\n",
    "confidence_interval_lower = sample_mean - margin_of_error\n",
    "confidence_interval_upper = sample_mean + margin_of_error\n",
    "\n",
    "# Print the results\n",
    "print(f\"Sample Mean: {sample_mean}\")\n",
    "print(f\"Confidence Interval ({confidence_level * 100}%): ({confidence_interval_lower:.4f}, {confidence_interval_upper:.4f})\")\n"
   ]
  },
  {
   "cell_type": "code",
   "execution_count": null,
   "id": "ac898445",
   "metadata": {},
   "outputs": [],
   "source": []
  }
 ],
 "metadata": {
  "kernelspec": {
   "display_name": "Python 3 (ipykernel)",
   "language": "python",
   "name": "python3"
  },
  "language_info": {
   "codemirror_mode": {
    "name": "ipython",
    "version": 3
   },
   "file_extension": ".py",
   "mimetype": "text/x-python",
   "name": "python",
   "nbconvert_exporter": "python",
   "pygments_lexer": "ipython3",
   "version": "3.10.9"
  }
 },
 "nbformat": 4,
 "nbformat_minor": 5
}
