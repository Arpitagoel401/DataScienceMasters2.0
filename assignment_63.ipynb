{
 "cells": [
  {
   "cell_type": "markdown",
   "id": "06427c07-4a0e-446c-ada0-8111779d8e78",
   "metadata": {},
   "source": [
    "#### Q1. What is Random Forest Regressor?\n",
    "\n",
    "\n",
    "\n",
    "\n",
    "\n",
    "\n"
   ]
  },
  {
   "cell_type": "markdown",
   "id": "8edefa20-dff6-4504-bebe-d8507f2f3767",
   "metadata": {},
   "source": [
    "Random Forest Regressor is a supervised learning algorithm that belongs to the ensemble learning category. It is used for regression tasks, where the goal is to predict a continuous target variable. Random Forest Regressor builds multiple decision trees during training and outputs the average prediction of the individual trees as the final prediction."
   ]
  },
  {
   "cell_type": "markdown",
   "id": "1a59fe0c-e532-4494-8761-f976efb34c69",
   "metadata": {},
   "source": [
    "#### Q2. How does Random Forest Regressor reduce the risk of overfitting?"
   ]
  },
  {
   "cell_type": "markdown",
   "id": "23c44415-0e02-4c7c-8a33-4d108e5261c2",
   "metadata": {},
   "source": [
    "Random Forest Regressor reduces the risk of overfitting through two main mechanisms:\n",
    "\n",
    "Bootstrap Aggregating (Bagging): It randomly selects subsets of the training data with replacement to train each decision tree. This introduces diversity among the trees, reducing the chance of overfitting to the training data.\n",
    "\n",
    "Feature Randomness: At each node of the decision tree, only a random subset of features is considered for splitting. This further increases diversity among the trees and helps in generalization."
   ]
  },
  {
   "cell_type": "markdown",
   "id": "8e384ac1-0404-4ace-afce-2578644e9934",
   "metadata": {},
   "source": [
    "#### Q3. How does Random Forest Regressor aggregate the predictions of multiple decision trees?"
   ]
  },
  {
   "cell_type": "markdown",
   "id": "af3477c2-6872-4ba4-b11b-55f6b3817005",
   "metadata": {},
   "source": [
    "Random Forest Regressor aggregates predictions by taking the average (or in some cases, weighted average) of the predictions made by individual decision trees. This aggregation of predictions helps in reducing variance and producing a more stable and accurate final prediction."
   ]
  },
  {
   "cell_type": "markdown",
   "id": "29b8a988-f373-400f-a575-8e8455ef5b19",
   "metadata": {},
   "source": [
    "#### Q4. What are the hyperparameters of Random Forest Regressor?"
   ]
  },
  {
   "cell_type": "markdown",
   "id": "19816513-fc74-4355-97bf-16dc267f3201",
   "metadata": {},
   "source": [
    "Some common hyperparameters of Random Forest Regressor include:\n",
    "\n",
    "Number of trees in the forest\n",
    "\n",
    "Maximum depth of the trees\n",
    "\n",
    "Minimum number of samples required to split a node\n",
    "\n",
    "Minimum number of samples required at each leaf node\n",
    "\n",
    "Maximum number of features to consider for splitting\n",
    "\n",
    "Criterion for measuring the quality of a split (e.g., mean squared error, mean absolute error)"
   ]
  },
  {
   "cell_type": "markdown",
   "id": "b078d921-99f4-4b41-a370-fd765ef3bd1a",
   "metadata": {},
   "source": [
    "#### Q5. What is the difference between Random Forest Regressor and Decision Tree Regressor?"
   ]
  },
  {
   "cell_type": "markdown",
   "id": "2ecc9d12-3927-4ec5-9eba-7b1214fd5b6f",
   "metadata": {},
   "source": [
    "Random Forest Regressor is an ensemble method that builds multiple decision trees and aggregates their predictions, whereas Decision Tree Regressor builds a single decision tree.\n",
    "\n",
    "Random Forest Regressor reduces overfitting by averaging predictions from multiple trees, whereas Decision Tree Regressor is prone to overfitting, especially with deep trees.\n",
    "\n",
    "Random Forest Regressor generally provides higher accuracy and better generalization compared to Decision Tree Regressor, especially on complex datasets."
   ]
  },
  {
   "cell_type": "markdown",
   "id": "8da8da1f-151d-4715-afe4-996446eb2d21",
   "metadata": {},
   "source": [
    "#### Q6. What are the advantages and disadvantages of Random Forest Regressor?"
   ]
  },
  {
   "cell_type": "markdown",
   "id": "52b14ddf-5926-4295-b13c-9fbf2c3cf27e",
   "metadata": {},
   "source": [
    "Advantages:\n",
    "\n",
    "Reduced risk of overfitting compared to individual decision trees.\n",
    "Good performance on both regression and classification tasks.\n",
    "Handles high-dimensional data well.\n",
    "Can provide estimates of feature importance.\n",
    "\n",
    "Disadvantages:\n",
    "\n",
    "More complex than individual decision trees, hence harder to interpret.\n",
    "Computationally more expensive, especially with a large number of trees and features.\n",
    "May not perform well on very small datasets."
   ]
  },
  {
   "cell_type": "markdown",
   "id": "dcfa67f9-0bbe-459f-a7ea-a665ece5655d",
   "metadata": {},
   "source": [
    "#### Q7. What is the output of Random Forest Regressor?"
   ]
  },
  {
   "cell_type": "markdown",
   "id": "57112ff4-4698-4197-b5d0-5df6325d1b2b",
   "metadata": {},
   "source": [
    "The output of Random Forest Regressor is a continuous numerical value, representing the predicted target variable for a given input instance."
   ]
  },
  {
   "cell_type": "markdown",
   "id": "5d34b819-07fd-4c7d-8769-c68d66a3cd40",
   "metadata": {},
   "source": [
    "#### Q8. Can Random Forest Regressor be used for classification tasks?"
   ]
  },
  {
   "cell_type": "markdown",
   "id": "877f287c-10dd-4181-b86c-a24cdcea7657",
   "metadata": {},
   "source": [
    "Yes, Random Forest Regressor can be adapted for classification tasks as well by modifying the aggregation method. Instead of averaging the predictions of individual trees, it can use techniques like majority voting to predict the class label. However, it's more commonly used for regression tasks. For classification tasks, Random Forest Classifier is more commonly used.\n",
    "\n",
    "\n",
    "\n",
    "\n",
    "\n",
    "\n"
   ]
  },
  {
   "cell_type": "code",
   "execution_count": null,
   "id": "877e1305-6c4e-4cb0-beea-c088f5335a6f",
   "metadata": {},
   "outputs": [],
   "source": []
  }
 ],
 "metadata": {
  "kernelspec": {
   "display_name": "Python 3 (ipykernel)",
   "language": "python",
   "name": "python3"
  },
  "language_info": {
   "codemirror_mode": {
    "name": "ipython",
    "version": 3
   },
   "file_extension": ".py",
   "mimetype": "text/x-python",
   "name": "python",
   "nbconvert_exporter": "python",
   "pygments_lexer": "ipython3",
   "version": "3.11.7"
  }
 },
 "nbformat": 4,
 "nbformat_minor": 5
}
