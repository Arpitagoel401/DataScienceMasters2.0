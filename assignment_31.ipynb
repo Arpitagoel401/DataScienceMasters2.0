{
 "cells": [
  {
   "cell_type": "markdown",
   "id": "47c1d83a",
   "metadata": {},
   "source": [
    "Q1: What is the difference between a t-test and a z-test? Provide an example scenario where you would\n",
    "use each type of test."
   ]
  },
  {
   "cell_type": "code",
   "execution_count": 1,
   "id": "2dbed8ff",
   "metadata": {},
   "outputs": [],
   "source": [
    "#  the choice between a t-test and a z-test depends on the sample size and whether the population standard deviation is known.\n",
    "# If the sample size is small or the population standard deviation is unknown, a t-test is more appropriate. If the sample\n",
    "# size is large and the population standard deviation is known, a z-test can be used for hypothesis testing."
   ]
  },
  {
   "cell_type": "markdown",
   "id": "8f1520f0",
   "metadata": {},
   "source": [
    "Q2: Differentiate between one-tailed and two-tailed tests."
   ]
  },
  {
   "cell_type": "code",
   "execution_count": 2,
   "id": "1c998d0b",
   "metadata": {},
   "outputs": [],
   "source": [
    "# the choice between a one-tailed and a two-tailed test depends on the specific research question and whether the researcher is \n",
    "# interested in an effect in a particular direction or simply in detecting any significant difference. One-tailed tests are more\n",
    "# sensitive to effects in a specific direction, while two-tailed tests are more conservative and consider effects in both \n",
    "# directions."
   ]
  },
  {
   "cell_type": "markdown",
   "id": "6f5aae71",
   "metadata": {},
   "source": [
    "Q3: Explain the concept of Type 1 and Type 2 errors in hypothesis testing. Provide an example scenario for\n",
    "each type of error."
   ]
  },
  {
   "cell_type": "code",
   "execution_count": 3,
   "id": "b4275267",
   "metadata": {},
   "outputs": [],
   "source": [
    "# Type I Error (False Positive):Occurs when the null hypothesis is incorrectly rejected when it is actually true.\n",
    "# Example: Imagine a pharmaceutical company testing a new drug. The null hypothesis might state that the drug has no effect. A \n",
    "# Type I error would occur if the company concludes that the drug is effective rejects  when, in reality, it has no \n",
    "# therapeutic effect.\n",
    "# Type II Error (False Negative):Occurs when the null hypothesis is not rejected when it is actually false.\n",
    "# Example: Continuing with the drug example, let's say the drug does have a therapeutic effect, but the company fails to reject \n",
    "# the null hypothesis. This would be a Type II error. Patients may miss out on a potentially beneficial treatment because the \n",
    "# test failed to detect the drug's effectiveness."
   ]
  },
  {
   "cell_type": "markdown",
   "id": "37a844ef",
   "metadata": {},
   "source": [
    "Q4: Explain Bayes's theorem with an example."
   ]
  },
  {
   "cell_type": "code",
   "execution_count": 4,
   "id": "3a09338c",
   "metadata": {},
   "outputs": [],
   "source": [
    "# Bayes's Theorem is a mathematical formula that describes the probability of an event based on prior knowledge of conditions \n",
    "# related to the event\n",
    "\n",
    "# Suppose you have two bags of marbles:\n",
    "# Bag A: Contains 3 red marbles and 2 green marbles.\n",
    "# Bag B: Contains 1 red marble and 4 green marbles.\n",
    "# You randomly pick a bag and then randomly pick a marble from that bag. You don't know which bag you picked, but you know the\n",
    "# probabilities of picking each bag P(Bag A)=0.6 P(Bag B)=0.4\n",
    "# Now, you pick a red marble. What is the probability that you picked Bag A?"
   ]
  },
  {
   "cell_type": "markdown",
   "id": "d27d4e05",
   "metadata": {},
   "source": [
    "Q5: What is a confidence interval? How to calculate the confidence interval, explain with an example."
   ]
  },
  {
   "cell_type": "code",
   "execution_count": 5,
   "id": "f47174e4",
   "metadata": {},
   "outputs": [],
   "source": [
    "# A confidence interval is a range of values that is likely to contain the true value of an unknown parameter\n",
    "# The general form of a confidence interval is:\n",
    "# Estimate ± Margin of Error\n",
    "\n",
    "# example:\n",
    "# n = 50\n",
    "# x bar = 500\n",
    "# s = 50\n",
    "# c.i = 95%\n",
    "# alpha = 0.05\n",
    "# 1-0.025 = 0.9750=+1.96\n",
    "# lower ci = 500 - (1.96)50/sqrt(50) = 486.139\n",
    "# higher ci = 500 + (1.96)50/sqrt(50) = 513.859\n",
    "\n",
    "# Confidence Interval (95.0%): (486.139, 513.859)"
   ]
  },
  {
   "cell_type": "markdown",
   "id": "f1654620",
   "metadata": {},
   "source": [
    "Q6. Use Bayes' Theorem to calculate the probability of an event occurring given prior knowledge of the\n",
    "event's probability and new evidence. Provide a sample problem and solution."
   ]
  },
  {
   "cell_type": "code",
   "execution_count": 6,
   "id": "2152a0a1",
   "metadata": {},
   "outputs": [],
   "source": [
    "# Suppose you have two bags of marbles:\n",
    "# Bag A: Contains 3 red marbles and 2 green marbles.\n",
    "# Bag B: Contains 1 red marble and 4 green marbles.\n",
    "# You randomly pick a bag and then randomly pick a marble from that bag. You don't know which bag you picked, but you know the\n",
    "# probabilities of picking each bag P(Bag A)=0.6 P(Bag B)=0.4\n",
    "# Now, you pick a red marble. What is the probability that you picked Bag A?\n",
    "\n",
    "# Let:\n",
    "# A be the event of picking Bag A.\n",
    "# B be the event of picking a red marble.\n",
    "# Now, we want to find P(A∣B), the probability of picking Bag A given that a red marble was chosen.\n",
    "# Using Bayes's Theorem:\n",
    "# P(A∣B)= P(B∣A)⋅P(A)/P(B)\n",
    "# P(B∣A) = 3/5\n",
    "# P(A)=0.6\n",
    "# P(B)=P(B∣A)⋅P(A)+P(B∣¬A)⋅P(¬A)\n",
    "# = 3/5 * 0.6 + 1/5 * 0.4 = 0.44\n",
    "# P(A∣B) = (3/5 *0.6 )/0.44 = 0.81"
   ]
  },
  {
   "cell_type": "markdown",
   "id": "07b18207",
   "metadata": {},
   "source": [
    "Q7. Calculate the 95% confidence interval for a sample of data with a mean of 50 and a standard deviation\n",
    "of 5. Interpret the results."
   ]
  },
  {
   "cell_type": "code",
   "execution_count": 7,
   "id": "720e3853",
   "metadata": {},
   "outputs": [],
   "source": [
    "# x bar = 50\n",
    "# s = 5\n",
    "# c.i = 95%\n",
    "# alpha = 0.05\n",
    "# 1-0.025 = 0.9750=+1.96\n",
    "# lower ci = 50 - (1.96)5/sqrt(n) \n",
    "# higher ci = 50 + (1.96)5/sqrt(n) \n",
    "# let assume n =100\n",
    "# lower ci = 50 - (1.96)5/sqrt(100) \n",
    "# higher ci = 50 + (1.96)5/sqrt(100) \n",
    "# Confidence Interval (95.0%): (49.02,50.98)"
   ]
  },
  {
   "cell_type": "markdown",
   "id": "89e459f2",
   "metadata": {},
   "source": [
    "Q8. What is the margin of error in a confidence interval? How does sample size affect the margin of error?\n",
    "Provide an example of a scenario where a larger sample size would result in a smaller margin of error."
   ]
  },
  {
   "cell_type": "code",
   "execution_count": 8,
   "id": "e41091ea",
   "metadata": {},
   "outputs": [],
   "source": [
    "#The margin of error (MOE) in a confidence interval represents the range above and below the point estimate (e.g., sample mean) \n",
    "# within which the true population parameter is likely to fall.\n",
    "# The general form of a confidence interval is:\n",
    "# Estimate ± Margin of Error\n",
    "\n",
    "# A small sample size poll of 200 voters yields a sample proportion of 0.55 with a margin of error of 0.05.\n",
    "# A larger sample size poll of 1000 voters yields a sample proportion of 0.55 with a smaller margin of error of 0.02."
   ]
  },
  {
   "cell_type": "markdown",
   "id": "2f6600da",
   "metadata": {},
   "source": [
    "Q9. Calculate the z-score for a data point with a value of 75, a population mean of 70, and a population\n",
    "standard deviation of 5. Interpret the results."
   ]
  },
  {
   "cell_type": "code",
   "execution_count": 9,
   "id": "3e34e99a",
   "metadata": {},
   "outputs": [],
   "source": [
    "# x=75\n",
    "# u = 70\n",
    "# std = 5\n",
    "# z = x - u / std\n",
    "# z = 75-70 / 5\n",
    "# z = 1\n",
    "# A z-score of 1 indicates that the data point (75) is 1 standard deviation above the mean in the population. In a normal\n",
    "# distribution, approximately 68% of the data falls within one standard deviation of the mean."
   ]
  },
  {
   "cell_type": "markdown",
   "id": "fb1d7b14",
   "metadata": {},
   "source": [
    "Q10. In a study of the effectiveness of a new weight loss drug, a sample of 50 participants lost an average\n",
    "of 6 pounds with a standard deviation of 2.5 pounds. Conduct a hypothesis test to determine if the drug is\n",
    "significantly effective at a 95% confidence level using a t-test."
   ]
  },
  {
   "cell_type": "code",
   "execution_count": 10,
   "id": "e6011686",
   "metadata": {},
   "outputs": [],
   "source": [
    "# s = 2.5\n",
    "# n = 50\n",
    "# x bar = 6\n",
    "# H0: The average weight loss (μ) with the drug is not significantly different from zero.\n",
    "# H1: The average weight loss (μ) with the drug is significantly different from zero.\n",
    "# t = (xbar - population mean )/ s/sqrt(n)\n",
    "# t = (6 - 0)/2.5/sqrt(50)\n",
    "# t ≈ 8.53\n",
    "# df = n-1 = 50-1\n",
    "# df = 49\n",
    "# critical_Value = 2.0096\n",
    "# Reject the null hypothesis: There is enough evidence to suggest the drug is significantly different from zero."
   ]
  },
  {
   "cell_type": "markdown",
   "id": "004514b3",
   "metadata": {},
   "source": [
    "Q11. In a survey of 500 people, 65% reported being satisfied with their current job. Calculate the 95%\n",
    "confidence interval for the true proportion of people who are satisfied with their job."
   ]
  },
  {
   "cell_type": "code",
   "execution_count": 11,
   "id": "6fd4a11d",
   "metadata": {},
   "outputs": [],
   "source": [
    "# p is the sample proportion (65% or 0.65)\n",
    "# n is the sample size (500).\n",
    "# c.i = 95%\n",
    "# alpha = 0.05\n",
    "# 1-0.025 = 0.9750=+1.96\n",
    "# lower ci = 0.65 - (1.96)(0.65 * 1-0.65)/sqrt(500)  = 0.6082\n",
    "# higher ci = 0.65 + (1.96)(0.65 * 1-0.65)/sqrt(500) = 0.6918\n",
    "#The 95% confidence interval for the true proportion of people who are satisfied with their job is approximately (0.6082,0.6918)"
   ]
  },
  {
   "cell_type": "markdown",
   "id": "3b8a28b1",
   "metadata": {},
   "source": [
    "Q12. A researcher is testing the effectiveness of two different teaching methods on student performance.\n",
    "Sample A has a mean score of 85 with a standard deviation of 6, while sample B has a mean score of 82\n",
    "with a standard deviation of 5. Conduct a hypothesis test to determine if the two teaching methods have a\n",
    "significant difference in student performance using a t-test with a significance level of 0.01."
   ]
  },
  {
   "cell_type": "code",
   "execution_count": 12,
   "id": "7af09e51",
   "metadata": {},
   "outputs": [],
   "source": [
    "# Null Hypothesis (H0): There is no significant difference in the mean scores between teaching methods A and B.\n",
    "# Alternative Hypothesis (H1): There is a significant difference in the mean scores between teaching methods A and B.\n",
    "# Group A data\n",
    "# mean1 = 85\n",
    "# std1 = 6\n",
    "\n",
    "# Group B data\n",
    "# mean2 =82\n",
    "# std2 = 5\n",
    "# n2 = n1\n",
    "\n",
    "# # Significance level\n",
    "# significance_level = 0.01\n",
    "# t_statistic = (mean1 - mean2) / sqrt((std1**2 / n1) + (std2**2 / n2))\n",
    "#  = (85 - 82)/ sqrt((6**2/n)+(5**2/n))\n",
    "#  = 3/sqrt(61/n)\n",
    "\n",
    "# degrees_of_freedom = n1 + n2 - 2 = 2n-2"
   ]
  },
  {
   "cell_type": "markdown",
   "id": "f0da6f3b",
   "metadata": {},
   "source": [
    "Q13. A population has a mean of 60 and a standard deviation of 8. A sample of 50 observations has a mean\n",
    "of 65. Calculate the 90% confidence interval for the true population mean."
   ]
  },
  {
   "cell_type": "code",
   "execution_count": 13,
   "id": "8b5fec36",
   "metadata": {},
   "outputs": [],
   "source": [
    "# u = 60\n",
    "# std = 8\n",
    "# n = 50\n",
    "# x bar = 65\n",
    "# c.i = 90%\n",
    "# alpha = 0.10\n",
    "# 1-0.050 = 0.95=+1.645\n",
    "# lower ci = 65 - (1.645)8/sqrt(50) = 63.145\n",
    "# higher ci = 65 + (1.645)8/sqrt(50) = 66.855\n",
    "# Confidence Interval (90.0%):(63.145,66.855)"
   ]
  },
  {
   "cell_type": "markdown",
   "id": "7eb79f1a",
   "metadata": {},
   "source": [
    "Q14. In a study of the effects of caffeine on reaction time, a sample of 30 participants had an average\n",
    "reaction time of 0.25 seconds with a standard deviation of 0.05 seconds. Conduct a hypothesis test to\n",
    "determine if the caffeine has a significant effect on reaction time at a 90% confidence level using a t-test."
   ]
  },
  {
   "cell_type": "code",
   "execution_count": 14,
   "id": "a91c317c",
   "metadata": {},
   "outputs": [],
   "source": [
    "# s = 2.5\n",
    "# n = 50\n",
    "# x bar = 6\n",
    "# H0: The average weight loss (μ) with the drug is not significantly different from zero.\n",
    "# H1: The average weight loss (μ) with the drug is significantly different from zero.\n",
    "# t = (xbar - population mean )/ s/sqrt(n)\n",
    "# t = (6 - 0)/2.5/sqrt(50)\n",
    "# t ≈ 8.53\n",
    "# df = n-1 = 50-1\n",
    "# df = 49\n",
    "# critical_Value = 2.0096\n",
    "# Reject the null hypothesis: There is enough evidence to suggest the drug is significantly different from zero."
   ]
  },
  {
   "cell_type": "code",
   "execution_count": null,
   "id": "ceb6e48c",
   "metadata": {},
   "outputs": [],
   "source": []
  }
 ],
 "metadata": {
  "kernelspec": {
   "display_name": "Python 3 (ipykernel)",
   "language": "python",
   "name": "python3"
  },
  "language_info": {
   "codemirror_mode": {
    "name": "ipython",
    "version": 3
   },
   "file_extension": ".py",
   "mimetype": "text/x-python",
   "name": "python",
   "nbconvert_exporter": "python",
   "pygments_lexer": "ipython3",
   "version": "3.10.9"
  }
 },
 "nbformat": 4,
 "nbformat_minor": 5
}
