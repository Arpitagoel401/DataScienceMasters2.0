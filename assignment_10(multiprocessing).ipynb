{
 "cells": [
  {
   "cell_type": "markdown",
   "id": "85535bb7",
   "metadata": {},
   "source": [
    "Q1. What is multiprocessing in python? Why is it useful?"
   ]
  },
  {
   "cell_type": "code",
   "execution_count": 1,
   "id": "24876a60",
   "metadata": {},
   "outputs": [],
   "source": [
    "# Multiprocessing refers to the concurrent execution of multiple processes, where each process runs independently and has its \n",
    "# own Python interpreter and memory space. It is a form of parallelism that allows different parts of a program to run \n",
    "# simultaneously, taking advantage of multiple processors or processor cores.\n",
    "\n",
    "# multiprocessing module provides support for creating and managing processes. This module allows developers to harness the \n",
    "# power of multiprocessing for tasks that can be parallelized, offering a way to improve performance and efficiency."
   ]
  },
  {
   "cell_type": "markdown",
   "id": "d3c38eba",
   "metadata": {},
   "source": [
    "Q2. What are the differences between multiprocessing and multithreading?"
   ]
  },
  {
   "cell_type": "code",
   "execution_count": 2,
   "id": "eccbf060",
   "metadata": {},
   "outputs": [],
   "source": [
    "# Multiprocessing:Involves the concurrent execution of independent processes with separate memory spaces.\n",
    "    \n",
    "# Multithreading:Involves concurrent execution of threads within the same process, sharing memory space. "
   ]
  },
  {
   "cell_type": "markdown",
   "id": "13c979a8",
   "metadata": {},
   "source": [
    "Q3. Write a python code to create a process using the multiprocessing module."
   ]
  },
  {
   "cell_type": "code",
   "execution_count": 3,
   "id": "6123e7dd",
   "metadata": {},
   "outputs": [],
   "source": [
    "import multiprocessing\n",
    "\n",
    "def producer(q):\n",
    "    for i in ['sudh','kumar','laddu','maa']:\n",
    "        q.put(i)\n",
    "    q.put(None)\n",
    "        \n",
    "def consumer(q):\n",
    "    while True:\n",
    "        item = q.get()\n",
    "        if item is None:\n",
    "            break\n",
    "        print(item)\n",
    "        \n",
    "if __name__ == '__main__':\n",
    "    queue = multiprocessing.Queue()\n",
    "    m1 = multiprocessing.Process(target=producer,args=(queue,))\n",
    "    m2 = multiprocessing.Process(target=consumer,args=(queue,))\n",
    "    m1.start()\n",
    "    m2.start()\n",
    "    queue.put('xyz')\n",
    "    m1.join()\n",
    "    m2.join()"
   ]
  },
  {
   "cell_type": "markdown",
   "id": "1ec80872",
   "metadata": {},
   "source": [
    "Q4. What is a multiprocessing pool in python? Why is it used?"
   ]
  },
  {
   "cell_type": "code",
   "execution_count": 4,
   "id": "ef6aaae7",
   "metadata": {},
   "outputs": [],
   "source": [
    "# A multiprocessing pool in Python, provided by the multiprocessing module, is a high-level abstraction for parallelizing the \n",
    "# execution of a function across multiple input values. \n",
    "\n",
    "# The pool distributes the workload among a specified number of worker processes, enabling concurrent processing of tasks."
   ]
  },
  {
   "cell_type": "markdown",
   "id": "90af72f1",
   "metadata": {},
   "source": [
    "Q5. How can we create a pool of worker processes in python using the multiprocessing module?"
   ]
  },
  {
   "cell_type": "code",
   "execution_count": null,
   "id": "8cf2ff01",
   "metadata": {},
   "outputs": [],
   "source": [
    "import multiprocessing\n",
    "\n",
    "def square(n):\n",
    "    return n**2\n",
    "\n",
    "if __name__ == '__main__':\n",
    "    with multiprocessing.Pool(processes=3) as pool:\n",
    "        results = pool.map(square, [1, 2, 3, 4, 5])\n",
    "    print(results)\n"
   ]
  },
  {
   "cell_type": "markdown",
   "id": "0df997c2",
   "metadata": {},
   "source": [
    "Q6. Write a python program to create 4 processes, each process should print a different number using the\n",
    "multiprocessing module in python."
   ]
  },
  {
   "cell_type": "code",
   "execution_count": 6,
   "id": "21ca14ad",
   "metadata": {},
   "outputs": [],
   "source": [
    "import multiprocessing\n",
    "\n",
    "def print_number(number):\n",
    "    print(f\"Process {number}: {number}\")\n",
    "\n",
    "if __name__ == '__main__':\n",
    "    numbers = [1, 2, 3, 4]\n",
    "\n",
    "    processes = []\n",
    "    for num in numbers:\n",
    "        process = multiprocessing.Process(target=print_number, args=(num,))\n",
    "        processes.append(process)\n",
    "        process.start()\n",
    "    for process in processes:\n",
    "        process.join()"
   ]
  },
  {
   "cell_type": "code",
   "execution_count": null,
   "id": "74f57266",
   "metadata": {},
   "outputs": [],
   "source": []
  }
 ],
 "metadata": {
  "kernelspec": {
   "display_name": "Python 3 (ipykernel)",
   "language": "python",
   "name": "python3"
  },
  "language_info": {
   "codemirror_mode": {
    "name": "ipython",
    "version": 3
   },
   "file_extension": ".py",
   "mimetype": "text/x-python",
   "name": "python",
   "nbconvert_exporter": "python",
   "pygments_lexer": "ipython3",
   "version": "3.10.9"
  }
 },
 "nbformat": 4,
 "nbformat_minor": 5
}
