{
 "cells": [
  {
   "cell_type": "markdown",
   "id": "8b64d530",
   "metadata": {},
   "source": [
    "Q1. What is Statistics?"
   ]
  },
  {
   "cell_type": "code",
   "execution_count": 1,
   "id": "a0a718bf",
   "metadata": {},
   "outputs": [],
   "source": [
    "# Statistics is a branch of mathematics that involves collecting, organizing, analyzing, interpreting, presenting, and \n",
    "# summarizing data."
   ]
  },
  {
   "cell_type": "markdown",
   "id": "8df800f3",
   "metadata": {},
   "source": [
    "Q2. Define the different types of statistics and give an example of when each type might be used."
   ]
  },
  {
   "cell_type": "code",
   "execution_count": 2,
   "id": "0a899499",
   "metadata": {},
   "outputs": [],
   "source": [
    "# Descriptive Statistics: Involves methods for summarizing and presenting data. Measures such as mean, median, mode, range, and \n",
    "# standard deviation fall under descriptive statistics. These methods help in organizing and simplifying large amounts of data \n",
    "# to provide a clear picture of its main features.\n",
    "\n",
    "# Inferential Statistics: Involves making inferences or predictions about a population based on a sample of data. It uses \n",
    "# probability theory to estimate the likelihood of certain outcomes and to test hypotheses. Common techniques in inferential \n",
    "# statistics include hypothesis testing, confidence intervals, and regression analysis."
   ]
  },
  {
   "cell_type": "markdown",
   "id": "0fcc9d25",
   "metadata": {},
   "source": [
    "Q3. What are the different types of data and how do they differ from each other? Provide an example of\n",
    "each type of data."
   ]
  },
  {
   "cell_type": "code",
   "execution_count": 3,
   "id": "ac3a8948",
   "metadata": {},
   "outputs": [],
   "source": [
    "# Nominal Data:\n",
    "# Definition: Nominal data represents categories or labels with no inherent order or ranking.\n",
    "# Example: Colors (e.g., red, blue, green), gender (e.g., male, female), or types of fruits (e.g., apple, orange, banana).\n",
    "    \n",
    "# Ordinal Data:\n",
    "# Definition: Ordinal data has distinct categories with a meaningful order or ranking, but the intervals between values are not \n",
    "# uniform or meaningful.\n",
    "# Example: Educational levels (e.g., high school, college, postgraduate), customer satisfaction ratings (e.g., very satisfied, \n",
    "# satisfied, neutral, dissatisfied, very dissatisfied).\n",
    "    \n",
    "# Interval Data:\n",
    "# Definition: Interval data has a meaningful order, and the intervals between values are equal, but it lacks a true zero point.\n",
    "# Example: Temperature measured in Celsius or Fahrenheit, IQ scores.\n",
    "    \n",
    "# Ratio Data:\n",
    "# Definition: Ratio data has a meaningful order, equal intervals between values, and a true zero point, indicating the absence \n",
    "# of the measured quantity.\n",
    "# Example: Height, weight, income, age."
   ]
  },
  {
   "cell_type": "markdown",
   "id": "0c7021d8",
   "metadata": {},
   "source": [
    "Q4. Categorise the following datasets with respect to quantitative and qualitative data types:\n",
    "(i) Grading in exam: A+, A, B+, B, C+, C, D, E\n",
    "(ii) Colour of mangoes: yellow, green, orange, red\n",
    "(iii) Height data of a class: [178.9, 179, 179.5, 176, 177.2, 178.3, 175.8,...]\n",
    "(iv) Number of mangoes exported by a farm: [500, 600, 478, 672, ...]"
   ]
  },
  {
   "cell_type": "code",
   "execution_count": 4,
   "id": "40909c62",
   "metadata": {},
   "outputs": [],
   "source": [
    "# (i) Grading in exam:\n",
    "# Type: Qualitative (Ordinal)\n",
    "\n",
    "# (ii) Colour of mangoes:\n",
    "# Type: Qualitative (Nominal)\n",
    "\n",
    "# (iii) Height data of a class:\n",
    "# Type: Quantitative (Ratio)\n",
    "\n",
    "# (iv) Number of mangoes exported by a farm:\n",
    "# Type: Quantitative (Ratio)"
   ]
  },
  {
   "cell_type": "markdown",
   "id": "4a3d54d2",
   "metadata": {},
   "source": [
    "Q5. Explain the concept of levels of measurement and give an example of a variable for each level."
   ]
  },
  {
   "cell_type": "code",
   "execution_count": 6,
   "id": "4c364d55",
   "metadata": {},
   "outputs": [],
   "source": [
    "# Levels of measurement, also known as scales of measurement, refer to the different ways in which variables can be measured or \n",
    "# classified. There are four main levels of measurement: nominal, ordinal, interval, and ratio.\n",
    "# 1.Nominal level involves categories with no inherent order.\n",
    "# Example: Eye color (e.g., blue, brown, green) or types of cars (e.g., sedan, SUV, truck).\n",
    "# 2.Ordinal level involves ordered categories with non-uniform intervals.\n",
    "# Example: Educational attainment (e.g., high school, college, postgraduate)\n",
    "# 3.Interval level has ordered categories with equal intervals but no true zero point.\n",
    "# Example: Temperature measured in Celsius or Fahrenheit (e.g., 20°C, 30°C) or IQ scores.\n",
    "# 4.Ratio level has ordered categories with equal intervals and a true zero point.\n",
    "# Example: Height (e.g., 150 cm, 175 cm), weight (e.g., 50 kg, 75 kg), or income (e.g., $0, $100,000)."
   ]
  },
  {
   "cell_type": "markdown",
   "id": "9c19a9ef",
   "metadata": {},
   "source": [
    "Q6. Why is it important to understand the level of measurement when analyzing data? Provide an\n",
    "example to illustrate your answer."
   ]
  },
  {
   "cell_type": "code",
   "execution_count": 7,
   "id": "9c65e841",
   "metadata": {},
   "outputs": [],
   "source": [
    "# Understanding the level of measurement is essential for selecting appropriate statistical techniques, ensuring meaningful \n",
    "# arithmetic operations, and accurately interpreting results. Using the wrong statistical methods for a given level can lead to \n",
    "# misleading conclusions. "
   ]
  },
  {
   "cell_type": "markdown",
   "id": "7514cb12",
   "metadata": {},
   "source": [
    "Q7. How nominal data type is different from ordinal data type."
   ]
  },
  {
   "cell_type": "code",
   "execution_count": 8,
   "id": "9839c2bf",
   "metadata": {},
   "outputs": [],
   "source": [
    "# Nominal Data:\n",
    "# Definition: Nominal data represents categories or labels with no inherent order or ranking.\n",
    "# Ordinal Data:\n",
    "# Definition: Ordinal data has distinct categories with a meaningful order or ranking, but the intervals between values are not \n",
    "# uniform or meaningful."
   ]
  },
  {
   "cell_type": "code",
   "execution_count": 9,
   "id": "98c2edfb",
   "metadata": {},
   "outputs": [],
   "source": [
    "Q8. Which type of plot can be used to display data in terms of range?"
   ]
  },
  {
   "cell_type": "code",
   "execution_count": 10,
   "id": "4375aff3",
   "metadata": {},
   "outputs": [],
   "source": [
    "# A box plot, also known as a box-and-whisker plot, is commonly used to display data in terms of range. A box plot provides a \n",
    "# visual representation of the distribution of a dataset, showing key statistical measures such as the median, quartiles, and \n",
    "# potential outliers."
   ]
  },
  {
   "cell_type": "markdown",
   "id": "03f491e1",
   "metadata": {},
   "source": [
    "Q9. Describe the difference between descriptive and inferential statistics. Give an example of each\n",
    "type of statistics and explain how they are used."
   ]
  },
  {
   "cell_type": "code",
   "execution_count": 11,
   "id": "99c7778b",
   "metadata": {},
   "outputs": [],
   "source": [
    "# Descriptive Statistics:Descriptive statistics involve methods of summarizing, organizing, and presenting data in a meaningful \n",
    "# way. It describes the main features of a dataset without making inferences about a larger population.\n",
    "# Example: Calculating the mean, median, and standard deviation of exam scores for a class. These statistics provide a summary of \n",
    "# the central tendency and variability within the class.\n",
    "# Inferential Statistics:Inferential statistics involve making inferences and predictions about a population based on a sample of \n",
    "# data drawn from that population. It uses probability theory to estimate parameters and test hypotheses.\n",
    "# Example: Conducting a hypothesis test to determine if there is a significant difference in exam scores between two groups of \n",
    "# students (e.g., group A and group B). Inferential statistics help generalize findings from a sample to a larger population."
   ]
  },
  {
   "cell_type": "markdown",
   "id": "8cccf6a7",
   "metadata": {},
   "source": [
    "Q10. What are some common measures of central tendency and variability used in statistics? Explain\n",
    "how each measure can be used to describe a dataset."
   ]
  },
  {
   "cell_type": "code",
   "execution_count": null,
   "id": "e68a8d60",
   "metadata": {},
   "outputs": [],
   "source": [
    "# Measures of central tendency, including the mean, median, and mode, provide insights into the central location of a dataset. \n",
    "# The mean represents the average, the median indicates the middle value, and the mode identifies the most frequent value. \n",
    "# Measures of variability, such as range, variance, and standard deviation, offer information about the spread or dispersion of \n",
    "# data points. The range is the difference between the maximum and minimum values, while variance and standard deviation quantify \n",
    "# the overall deviation of individual points from the mean. Collectively, these measures help researchers and analysts summarize\n",
    "# and understand the central tendency and variability within a dataset, enabling meaningful insights and comparisons."
   ]
  }
 ],
 "metadata": {
  "kernelspec": {
   "display_name": "Python 3 (ipykernel)",
   "language": "python",
   "name": "python3"
  },
  "language_info": {
   "codemirror_mode": {
    "name": "ipython",
    "version": 3
   },
   "file_extension": ".py",
   "mimetype": "text/x-python",
   "name": "python",
   "nbconvert_exporter": "python",
   "pygments_lexer": "ipython3",
   "version": "3.10.9"
  }
 },
 "nbformat": 4,
 "nbformat_minor": 5
}
