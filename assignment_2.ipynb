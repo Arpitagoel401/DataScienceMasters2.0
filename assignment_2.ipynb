{
 "cells": [
  {
   "cell_type": "markdown",
   "id": "02b92d1c",
   "metadata": {},
   "source": [
    "Q1. How do you comment code in Python? What are the different types of comments?"
   ]
  },
  {
   "cell_type": "code",
   "execution_count": 1,
   "id": "dbaf3a98",
   "metadata": {},
   "outputs": [
    {
     "data": {
      "text/plain": [
       "'\\nThis is\\na\\nmulti \\nline\\ncomment\\n'"
      ]
     },
     "execution_count": 1,
     "metadata": {},
     "output_type": "execute_result"
    }
   ],
   "source": [
    "# we can use hash symbol for single line comment\n",
    "# This is a single line comment\n",
    "\n",
    "# For multiline comment we use doc string\n",
    "\"\"\"\n",
    "This is\n",
    "a\n",
    "multi \n",
    "line\n",
    "comment\n",
    "\"\"\""
   ]
  },
  {
   "cell_type": "markdown",
   "id": "a0a28ed1",
   "metadata": {},
   "source": [
    "Q2. What are variables in Python? How do you declare and assign values to variables?"
   ]
  },
  {
   "cell_type": "code",
   "execution_count": 2,
   "id": "07b4fb94",
   "metadata": {},
   "outputs": [],
   "source": [
    "# Variables are the container which use to store the data\n",
    "# we can declare variable with alphabhets and underscore \n",
    "# we can assign value to the variables using assignment( = ) operator\n",
    "\n",
    "a_int = 3\n",
    "a_float = 3.5\n",
    "a_bool = True\n",
    "a_string = 'Arpita'"
   ]
  },
  {
   "cell_type": "markdown",
   "id": "27315242",
   "metadata": {},
   "source": [
    "Q3. How do you convert one data type to another in Python?"
   ]
  },
  {
   "cell_type": "code",
   "execution_count": 4,
   "id": "86843ffc",
   "metadata": {},
   "outputs": [
    {
     "name": "stdout",
     "output_type": "stream",
     "text": [
      "arpita3\n",
      "3\n"
     ]
    }
   ],
   "source": [
    "#We can convert one data type into another by type casting\n",
    "a = 'arpita'\n",
    "b = 3\n",
    "c = a + str(b)\n",
    "print(c)\n",
    "\n",
    "d = 3.5\n",
    "print(int(d))"
   ]
  },
  {
   "cell_type": "markdown",
   "id": "dac871d7",
   "metadata": {},
   "source": [
    "Q4. How do you write and execute a Python script from the command line?"
   ]
  },
  {
   "cell_type": "raw",
   "id": "63e44883",
   "metadata": {},
   "source": [
    "1 First we require to Open a command prompt or terminal.\n",
    "2 Create a Python script using a text editor.\n",
    "3 Then , write your Python code in the script.\n",
    "4 Save the script \n",
    "5 Execute the script using python my_script.py or python3 my_script.py if using Python 3.\n",
    "6 View the output in the terminal."
   ]
  },
  {
   "cell_type": "markdown",
   "id": "f817d3de",
   "metadata": {},
   "source": [
    "Q5. Given a list my_list = [1, 2, 3, 4, 5], write the code to slice the list and obtain the sub-list [2, 3]."
   ]
  },
  {
   "cell_type": "code",
   "execution_count": 5,
   "id": "132ad571",
   "metadata": {},
   "outputs": [
    {
     "data": {
      "text/plain": [
       "[2, 3]"
      ]
     },
     "execution_count": 5,
     "metadata": {},
     "output_type": "execute_result"
    }
   ],
   "source": [
    "my_list = [1,2,3,4,5]\n",
    "# slicing to get a sublist [2,3]\n",
    "my_list[1:3]"
   ]
  },
  {
   "cell_type": "markdown",
   "id": "4bf62070",
   "metadata": {},
   "source": [
    "Q6. What is a complex number in mathematics, and how is it represented in Python?"
   ]
  },
  {
   "cell_type": "code",
   "execution_count": 6,
   "id": "6c1fa220",
   "metadata": {},
   "outputs": [
    {
     "name": "stdout",
     "output_type": "stream",
     "text": [
      "(3+4j)\n"
     ]
    }
   ],
   "source": [
    "# A complex number is a number that can be expressed in the form a + bi, \n",
    "# where one is a real part and other one is imaginary part\n",
    "\n",
    "# In python we can represent it as ' a+bj '\n",
    "comp_number = 3 + 4j\n",
    "print(comp_number)"
   ]
  },
  {
   "cell_type": "markdown",
   "id": "bcab9a13",
   "metadata": {},
   "source": [
    "Q7. What is the correct way to declare a variable named age and assign the value 25 to it?"
   ]
  },
  {
   "cell_type": "code",
   "execution_count": 7,
   "id": "d2d0ce60",
   "metadata": {},
   "outputs": [],
   "source": [
    "# The correct way to declare a variable is by starting with alphabhets(may be upper and lower case) and underscore\n",
    "_age =25\n",
    "age = 25"
   ]
  },
  {
   "cell_type": "markdown",
   "id": "267bdedc",
   "metadata": {},
   "source": [
    "Q8. Declare a variable named price and assign the value 9.99 to it. What data type does this variable\n",
    "belong to?"
   ]
  },
  {
   "cell_type": "code",
   "execution_count": 8,
   "id": "98087232",
   "metadata": {},
   "outputs": [
    {
     "data": {
      "text/plain": [
       "float"
      ]
     },
     "execution_count": 8,
     "metadata": {},
     "output_type": "execute_result"
    }
   ],
   "source": [
    "price = 9.99             #it stores float value\n",
    "type(price)"
   ]
  },
  {
   "cell_type": "markdown",
   "id": "546bd9ea",
   "metadata": {},
   "source": [
    "Q9. Create a variable named name and assign your full name to it as a string. How would you print the\n",
    "value of this variable?"
   ]
  },
  {
   "cell_type": "code",
   "execution_count": 9,
   "id": "c5a9567a",
   "metadata": {},
   "outputs": [
    {
     "name": "stdout",
     "output_type": "stream",
     "text": [
      "arpita goel\n"
     ]
    }
   ],
   "source": [
    "name = 'arpita goel'\n",
    "# we can print the value of name by using print function\n",
    "print(name)"
   ]
  },
  {
   "cell_type": "markdown",
   "id": "869f6dff",
   "metadata": {},
   "source": [
    "Q10. Given the string \"Hello, World!\", extract the substring \"World\"."
   ]
  },
  {
   "cell_type": "code",
   "execution_count": 13,
   "id": "76ff1fb0",
   "metadata": {},
   "outputs": [
    {
     "name": "stdout",
     "output_type": "stream",
     "text": [
      "World\n"
     ]
    }
   ],
   "source": [
    "string = \"Hello, World!\"\n",
    "sub_string = string[7:12]\n",
    "print(sub_string)"
   ]
  },
  {
   "cell_type": "markdown",
   "id": "8ff0070a",
   "metadata": {},
   "source": [
    "Q11. Create a variable named \"is_student\" and assign it a boolean value indicating whether you are\n",
    "currently a student or not."
   ]
  },
  {
   "cell_type": "code",
   "execution_count": 14,
   "id": "82c069d9",
   "metadata": {},
   "outputs": [],
   "source": [
    "is_student = True   # If you are a student\n",
    "\n",
    "is_student = False  # If you are not a student"
   ]
  },
  {
   "cell_type": "code",
   "execution_count": null,
   "id": "cd8a8303",
   "metadata": {},
   "outputs": [],
   "source": []
  }
 ],
 "metadata": {
  "kernelspec": {
   "display_name": "Python 3 (ipykernel)",
   "language": "python",
   "name": "python3"
  },
  "language_info": {
   "codemirror_mode": {
    "name": "ipython",
    "version": 3
   },
   "file_extension": ".py",
   "mimetype": "text/x-python",
   "name": "python",
   "nbconvert_exporter": "python",
   "pygments_lexer": "ipython3",
   "version": "3.10.9"
  }
 },
 "nbformat": 4,
 "nbformat_minor": 5
}
