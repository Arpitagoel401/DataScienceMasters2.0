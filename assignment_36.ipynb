{
 "cells": [
  {
   "cell_type": "markdown",
   "id": "d3668443",
   "metadata": {},
   "source": [
    "Q1: Define overfitting and underfitting in machine learning. What are the consequences of each, and how\n",
    "can they be mitigated?"
   ]
  },
  {
   "cell_type": "code",
   "execution_count": 1,
   "id": "fb2fb822",
   "metadata": {},
   "outputs": [],
   "source": [
    "# Overfitting:Captures noise and fluctuations in the training data, performing well on training but poorly on new data.\n",
    "# Consequences: Poor generalization, memorizing training data instead of learning patterns.\n",
    "# Mitigation: Regularization, cross-validation, simplifying the model.\n",
    "    \n",
    "# Underfitting:Model is too simple, failing to capture underlying patterns in both training and new data.\n",
    "# Consequences: Inaccurate predictions, high bias, low variance.\n",
    "# Mitigation: Increase model complexity, feature engineering, adjust hyperparameters."
   ]
  },
  {
   "cell_type": "markdown",
   "id": "b55630da",
   "metadata": {},
   "source": [
    "Q2: How can we reduce overfitting? Explain in brief."
   ]
  },
  {
   "cell_type": "code",
   "execution_count": 2,
   "id": "37304fda",
   "metadata": {},
   "outputs": [],
   "source": [
    "# Regularization: Introduce penalty terms on the model's parameters to prevent them from becoming too extreme.\n",
    "# Cross-validation: Use techniques like k-fold cross-validation to assess the model's performance on multiple subsets of the\n",
    "# data.\n",
    "# Simplifying the Model: Choose a simpler model architecture or reduce the number of features to prevent the model from being \n",
    "# complex."
   ]
  },
  {
   "cell_type": "markdown",
   "id": "3566547e",
   "metadata": {},
   "source": [
    "Q3: Explain underfitting. List scenarios where underfitting can occur in ML."
   ]
  },
  {
   "cell_type": "code",
   "execution_count": 3,
   "id": "ff871279",
   "metadata": {},
   "outputs": [],
   "source": [
    "# Underfitting:Model is too simple, failing to capture underlying patterns in both training and new data.\n",
    "\n",
    "# Insufficient Model Complexity: Using a simple model for complex relationships.\n",
    "# Too Few Features: Lack of comprehensive features for the dataset.\n",
    "# Inadequate Training Time: Terminating training too early."
   ]
  },
  {
   "cell_type": "markdown",
   "id": "4a73c2ce",
   "metadata": {},
   "source": [
    "Q4: Explain the bias-variance tradeoff in machine learning. What is the relationship between bias and\n",
    "variance, and how do they affect model performance?"
   ]
  },
  {
   "cell_type": "code",
   "execution_count": 4,
   "id": "1fa705db",
   "metadata": {},
   "outputs": [],
   "source": [
    "# Bias refers to the error introduced by approximating a real-world problem with a simplified model.\n",
    "# Variance refers to the model's sensitivity to changes in the training data.\n",
    "# A good model should have low bias to capture the underlying patterns and low variance to generalize well to new data."
   ]
  },
  {
   "cell_type": "markdown",
   "id": "81fc512d",
   "metadata": {},
   "source": [
    "Q5: Discuss some common methods for detecting overfitting and underfitting in machine learning models.\n",
    "How can you determine whether your model is overfitting or underfitting?"
   ]
  },
  {
   "cell_type": "code",
   "execution_count": 5,
   "id": "2522011f",
   "metadata": {},
   "outputs": [],
   "source": [
    "# Learning Curves:\n",
    "# Overfitting:\n",
    "# Training accuracy high, but validation accuracy plateaus or decreases.\n",
    "# Underfitting:\n",
    "# Both training and validation accuracy are low and plateau.\n",
    "\n",
    "# Performance Metrics:\n",
    "# Overfitting:\n",
    "# Model performs exceptionally well on the training set but poorly on the validation or test set.\n",
    "# Underfitting:\n",
    "# Low performance on both training and validation or test sets."
   ]
  },
  {
   "cell_type": "markdown",
   "id": "d65abe19",
   "metadata": {},
   "source": [
    "Q6: Compare and contrast bias and variance in machine learning. What are some examples of high bias\n",
    "and high variance models, and how do they differ in terms of their performance?"
   ]
  },
  {
   "cell_type": "code",
   "execution_count": 6,
   "id": "4ba53897",
   "metadata": {},
   "outputs": [],
   "source": [
    "# Bias refers to the error introduced by approximating a real-world problem with a simplified model.\n",
    "# Variance refers to the model's sensitivity to changes in the training data.\n",
    "# There is often a trade-off between bias and variance. Models that are too simple (high bias) may not capture the underlying \n",
    "# patterns, while models that are too complex (high variance) may overfit the training data."
   ]
  },
  {
   "cell_type": "markdown",
   "id": "4bfaf178",
   "metadata": {},
   "source": [
    "Q7: What is regularization in machine learning, and how can it be used to prevent overfitting? Describe\n",
    "some common regularization techniques and how they work."
   ]
  },
  {
   "cell_type": "code",
   "execution_count": 7,
   "id": "0c08499b",
   "metadata": {},
   "outputs": [],
   "source": [
    "# Regularization is a set of techniques used to prevent overfitting by adding a penalty term to the model's objective function, \n",
    "# discouraging overly complex models.\n",
    "# L1 Regularization (Lasso):Adds the absolute values of the coefficients as a penalty term.\n",
    "# L2 Regularization (Ridge):Adds the squared values of the coefficients as a penalty term.\n",
    "# Dropout (Neural Networks):Randomly drops (sets to zero) a proportion of neurons during training."
   ]
  },
  {
   "cell_type": "code",
   "execution_count": null,
   "id": "ae9d5e4a",
   "metadata": {},
   "outputs": [],
   "source": []
  }
 ],
 "metadata": {
  "kernelspec": {
   "display_name": "Python 3 (ipykernel)",
   "language": "python",
   "name": "python3"
  },
  "language_info": {
   "codemirror_mode": {
    "name": "ipython",
    "version": 3
   },
   "file_extension": ".py",
   "mimetype": "text/x-python",
   "name": "python",
   "nbconvert_exporter": "python",
   "pygments_lexer": "ipython3",
   "version": "3.10.9"
  }
 },
 "nbformat": 4,
 "nbformat_minor": 5
}
