{
 "cells": [
  {
   "cell_type": "markdown",
   "id": "f57284bf",
   "metadata": {},
   "source": [
    "Q1: What are the Probability Mass Function (PMF) and Probability Density Function (PDF)? Explain with\n",
    "an example."
   ]
  },
  {
   "cell_type": "code",
   "execution_count": 1,
   "id": "93107944",
   "metadata": {},
   "outputs": [],
   "source": [
    "# The Probability Mass Function (PMF) is a function that describes the probability of a discrete random variable taking on a \n",
    "# specific value.\n",
    "# example: Consider the outcome of rolling a fair six-sided die. The PMF for this discrete random variable would assign a \n",
    "# probability of 1/6 to each possible outcome (1, 2, 3, 4, 5, or 6), as each outcome is equally likely.\n",
    "# The Probability Density Function (PDF) is a function that describes the likelihood of a continuous random variable taking on a \n",
    "# specific value. \n",
    "# example: Consider a standard normal distribution with a mean of 0 and a standard deviation of 1. "
   ]
  },
  {
   "cell_type": "markdown",
   "id": "1e80656a",
   "metadata": {},
   "source": [
    "Q2: What is Cumulative Density Function (CDF)? Explain with an example. Why CDF is used?"
   ]
  },
  {
   "cell_type": "code",
   "execution_count": 2,
   "id": "0cd05739",
   "metadata": {},
   "outputs": [],
   "source": [
    "# The Cumulative Density Function (CDF) is a function associated with a probability distribution, whether it's a discrete \n",
    "# probability distribution (using a Cumulative Mass Function) or a continuous probability distribution (using a Cumulative \n",
    "# Density Function). \n",
    "# Consider a standard normal distribution. The CDF for this distribution provides the probability that a random variable Z is \n",
    "# less than or equal to a specific value x. For example, (1)F(1) would represent the probability that Z is less than or equal \n",
    "# to 1."
   ]
  },
  {
   "cell_type": "markdown",
   "id": "041617ab",
   "metadata": {},
   "source": [
    "Q3: What are some examples of situations where the normal distribution might be used as a model?\n",
    "Explain how the parameters of the normal distribution relate to the shape of the distribution."
   ]
  },
  {
   "cell_type": "code",
   "execution_count": 3,
   "id": "c309edea",
   "metadata": {},
   "outputs": [],
   "source": [
    "# Height of Individuals:The distribution of human heights tends to follow a normal distribution, with most people clustered \n",
    "# around the average height.\n",
    "# IQ Scores:Intelligence quotient (IQ) scores are often assumed to follow a normal distribution with a mean of 100 and a standard \n",
    "# deviation of 15.\n",
    "# Scores on Standardized Tests:The distribution of scores on standardized tests, such as SAT or GRE, is often modeled as a normal \n",
    "# distribution.\n",
    "\n",
    "# The normal distribution is characterized by two parameters: the mean (μ) and the standard deviation (σ). These parameters \n",
    "# dictate the shape, location, and spread of the distribution."
   ]
  },
  {
   "cell_type": "markdown",
   "id": "a2c88300",
   "metadata": {},
   "source": [
    "Q4: Explain the importance of Normal Distribution. Give a few real-life examples of Normal\n",
    "Distribution."
   ]
  },
  {
   "cell_type": "code",
   "execution_count": 4,
   "id": "d120be3f",
   "metadata": {},
   "outputs": [],
   "source": [
    "# The normal distribution is of great importance in statistics and data analysis \n",
    "# Height of Individuals:The distribution of human heights tends to follow a normal distribution, with most people clustered \n",
    "# around the average height.\n",
    "# IQ Scores:Intelligence quotient (IQ) scores are often assumed to follow a normal distribution with a mean of 100 and a \n",
    "# standard deviation of 15.\n",
    "# Scores on Standardized Tests:The distribution of scores on standardized tests, such as SAT or GRE, is often modeled as a \n",
    "# normal distribution."
   ]
  },
  {
   "cell_type": "markdown",
   "id": "bf6eff0b",
   "metadata": {},
   "source": [
    "Q5: What is Bernaulli Distribution? Give an Example. What is the difference between Bernoulli\n",
    "Distribution and Binomial Distribution?"
   ]
  },
  {
   "cell_type": "code",
   "execution_count": 5,
   "id": "0d4885ac",
   "metadata": {},
   "outputs": [],
   "source": [
    "# Bernoulli Distribution: A distribution for a binary outcome (success or failure) with a single trial.\n",
    "# example: the Bernoulli distribution models the probability of success or failure in a single trial of a coin toss.\n",
    "# The Binomial distribution is a discrete probability distribution that models the number of successes in a fixed number of \n",
    "# independent and identical Bernoulli trials, where each trial has only two possible outcomes (success or failure) and the \n",
    "# probability of success is constant across all trials"
   ]
  },
  {
   "cell_type": "markdown",
   "id": "494886ef",
   "metadata": {},
   "source": [
    "Q6. Consider a dataset with a mean of 50 and a standard deviation of 10. If we assume that the dataset\n",
    "is normally distributed, what is the probability that a randomly selected observation will be greater\n",
    "than 60? Use the appropriate formula and show your calculations."
   ]
  },
  {
   "cell_type": "code",
   "execution_count": 6,
   "id": "153128bc",
   "metadata": {},
   "outputs": [
    {
     "data": {
      "text/plain": [
       "'\\nx=60\\nu = 50\\nstd = 10\\nz = x - u / std\\nz=(60 - 50 )/10\\nz = 1\\nP(z>1) =  0.1587\\n\\n'"
      ]
     },
     "execution_count": 6,
     "metadata": {},
     "output_type": "execute_result"
    }
   ],
   "source": [
    "\"\"\"\n",
    "x=60\n",
    "u = 50\n",
    "std = 10\n",
    "z = x - u / std\n",
    "z=(60 - 50 )/10\n",
    "z = 1\n",
    "P(z>1) =  0.1587 or 15.87%\n",
    "\n",
    "\"\"\""
   ]
  },
  {
   "cell_type": "markdown",
   "id": "4505d16d",
   "metadata": {},
   "source": [
    "Q7: Explain uniform Distribution with an example."
   ]
  },
  {
   "cell_type": "code",
   "execution_count": 7,
   "id": "30e08af3",
   "metadata": {},
   "outputs": [],
   "source": [
    "# The uniform distribution is a probability distribution where every possible outcome is equally likely over a given range\n",
    "# Consider a random variable X representing the outcome of rolling a fair six-sided die. If the die is fair, each of the six \n",
    "# faces has an equal probability of 1/6 of being the outcome. This is an example of a discrete uniform distribution."
   ]
  },
  {
   "cell_type": "markdown",
   "id": "2ab5fa7e",
   "metadata": {},
   "source": [
    "Q8: What is the z score? State the importance of the z score."
   ]
  },
  {
   "cell_type": "code",
   "execution_count": 8,
   "id": "fb153656",
   "metadata": {},
   "outputs": [],
   "source": [
    "# The z-score (or standard score) is a measure that expresses the value of a data point in terms of the number of standard \n",
    "# deviations it is from the mean of a dataset.\n",
    "#Standardization:Z-scores allow for the standardization of different datasets, making it easier to compare and analyze data that\n",
    "# may have different units or scales.\n",
    "# Identifying Outliers:Z-scores help identify outliers in a dataset. Data points with extreme z-scores (far from 0) may be \n",
    "# considered outliers."
   ]
  },
  {
   "cell_type": "markdown",
   "id": "b407867c",
   "metadata": {},
   "source": [
    "Q9: What is Central Limit Theorem? State the significance of the Central Limit Theorem."
   ]
  },
  {
   "cell_type": "code",
   "execution_count": 9,
   "id": "f66b3586",
   "metadata": {},
   "outputs": [],
   "source": [
    "#The Central Limit Theorem is a fundamental concept in statistics that states that the sampling distribution of the sample mean \n",
    "# of a random variable, regardless of the original distribution of the variable, will be approximately normally distributed if\n",
    "# the sample size is sufficiently large. \n",
    "\n",
    "# the Central Limit Theorem is a key concept in statistics that plays a crucial role in making statistical inferences, \n",
    "# estimating population parameters, and ensuring the validity of various statistical methods, particularly when dealing with \n",
    "# sample means."
   ]
  },
  {
   "cell_type": "markdown",
   "id": "dda7223b",
   "metadata": {},
   "source": [
    "Q10: State the assumptions of the Central Limit Theorem."
   ]
  },
  {
   "cell_type": "code",
   "execution_count": null,
   "id": "f151a87d",
   "metadata": {},
   "outputs": [],
   "source": [
    "# Independence: Sampled observations must be independent.\n",
    "# Identically Distributed: Sampled observations must be identically distributed.\n",
    "# Sample Size: Sample size should be sufficiently large.\n",
    "# Finite Variance: The population should have a finite variance.\n",
    "# These assumptions are essential for the CLT to be valid and for the sampling distribution of the sample mean to approximate a \n",
    "# normal distribution."
   ]
  }
 ],
 "metadata": {
  "kernelspec": {
   "display_name": "Python 3 (ipykernel)",
   "language": "python",
   "name": "python3"
  },
  "language_info": {
   "codemirror_mode": {
    "name": "ipython",
    "version": 3
   },
   "file_extension": ".py",
   "mimetype": "text/x-python",
   "name": "python",
   "nbconvert_exporter": "python",
   "pygments_lexer": "ipython3",
   "version": "3.10.9"
  }
 },
 "nbformat": 4,
 "nbformat_minor": 5
}
