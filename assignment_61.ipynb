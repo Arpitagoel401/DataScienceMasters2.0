{
 "cells": [
  {
   "cell_type": "markdown",
   "id": "e9f69268-5554-4596-8670-adb6edca3273",
   "metadata": {},
   "source": [
    "#### Q1. What is an ensemble technique in machine learning?\n"
   ]
  },
  {
   "cell_type": "markdown",
   "id": "0e8cc476-6579-4257-83f4-c3e11db308bb",
   "metadata": {},
   "source": [
    "An ensemble technique in machine learning involves combining multiple individual models to produce a stronger predictive model. These individual models could be of the same type (e.g., decision trees) or different types (e.g., combining decision trees with neural networks)."
   ]
  },
  {
   "cell_type": "markdown",
   "id": "cd8384b3-5828-4e6f-b189-0b6598b8225f",
   "metadata": {},
   "source": [
    "#### Q2. Why are ensemble techniques used in machine learning?\n"
   ]
  },
  {
   "cell_type": "markdown",
   "id": "85835a6d-56e6-419b-9c6c-c9ef3ea8a492",
   "metadata": {},
   "source": [
    "Ensemble techniques are used in machine learning for several reasons:\n",
    "\n",
    "They often result in better predictive performance compared to single models by reducing overfitting and variance.\n",
    "They can handle complex relationships in data more effectively.\n",
    "They are robust to noise and outliers.\n",
    "They provide a more reliable estimate of uncertainty."
   ]
  },
  {
   "cell_type": "markdown",
   "id": "02986c7c-b7f6-45d1-89f7-db3060998976",
   "metadata": {},
   "source": [
    "#### Q3. What is bagging?\n"
   ]
  },
  {
   "cell_type": "markdown",
   "id": "93359d3c-6105-4047-981d-4197d2576d8f",
   "metadata": {},
   "source": [
    " Bagging (Bootstrap Aggregating) is an ensemble technique where multiple copies of a single base model are trained on different subsets of the training data, selected randomly with replacement. The final prediction is typically the average (for regression) or majority vote (for classification) of predictions from individual models."
   ]
  },
  {
   "cell_type": "markdown",
   "id": "2b908bbe-bd1e-4054-9a8e-194d17271520",
   "metadata": {},
   "source": [
    "#### Q4. What is boosting?\n"
   ]
  },
  {
   "cell_type": "markdown",
   "id": "be2efc3e-4e54-45ad-80cb-fd2447fdb885",
   "metadata": {},
   "source": [
    "Boosting is an ensemble technique where multiple weak learners (models that are slightly better than random guessing) are combined to form a strong learner. Each subsequent model in boosting focuses on the examples that previous models misclassified, thereby improving the overall prediction."
   ]
  },
  {
   "cell_type": "markdown",
   "id": "c349dfdf-afa2-4061-9ddf-a534129d000a",
   "metadata": {},
   "source": [
    "#### Q5. What are the benefits of using ensemble techniques?\n"
   ]
  },
  {
   "cell_type": "markdown",
   "id": "f844bfca-a0c8-4b7f-a7a0-fffc14573fbb",
   "metadata": {},
   "source": [
    "The benefits of using ensemble techniques include:\n",
    "\n",
    "Improved predictive performance.\n",
    "\n",
    "Better handling of complex relationships in data.\n",
    "\n",
    "Robustness to noise and outliers.\n",
    "\n",
    "Enhanced generalization and reduced overfitting.\n",
    "\n",
    "More reliable estimates of uncertainty."
   ]
  },
  {
   "cell_type": "markdown",
   "id": "c727ab4a-0479-444e-85cd-941c25d71a40",
   "metadata": {},
   "source": [
    "#### Q6. Are ensemble techniques always better than individual models?\n"
   ]
  },
  {
   "cell_type": "markdown",
   "id": "75c26c2b-a155-4215-bcf6-e8dbb4f65fdb",
   "metadata": {},
   "source": [
    "Ensemble techniques are not always better than individual models. Their performance depends on various factors such as the quality of the individual models, the diversity among them, and the nature of the dataset. In some cases, a well-tuned single model may outperform an ensemble."
   ]
  },
  {
   "cell_type": "markdown",
   "id": "fd241f8e-c803-4308-b932-6ed6c00e37c9",
   "metadata": {},
   "source": [
    "#### Q7. How is the confidence interval calculated using bootstrap?\n"
   ]
  },
  {
   "cell_type": "markdown",
   "id": "9bdf1f7b-3a06-4a41-b63a-09b740fe0729",
   "metadata": {},
   "source": [
    " Confidence interval using bootstrap is calculated by resampling the dataset with replacement multiple times, computing the statistic of interest (e.g., mean) for each resampled dataset, and then determining the range of values within which the statistic falls with a certain level of confidence."
   ]
  },
  {
   "cell_type": "markdown",
   "id": "282f4498-e19b-4e68-99ee-e1f024551868",
   "metadata": {},
   "source": [
    "#### Q8. How does bootstrap work and What are the steps involved in bootstrap?\n"
   ]
  },
  {
   "cell_type": "markdown",
   "id": "39cbedc4-3eb5-4a7f-875f-ce0187f2e1ab",
   "metadata": {},
   "source": [
    "Bootstrap is a resampling technique used to estimate the sampling distribution of a statistic by repeatedly resampling the dataset with replacement. The steps involved in bootstrap are:\n",
    "\n",
    "Randomly draw a sample of the same size as the original dataset from the original dataset with replacement.\n",
    "\n",
    "Compute the statistic of interest (e.g., mean, median) for the resampled dataset.\n",
    "\n",
    "Repeat steps 1 and 2 a large number of times (e.g., 1000 times).\n",
    "\n",
    "Calculate the desired confidence interval from the distribution of the computed statistics."
   ]
  },
  {
   "cell_type": "markdown",
   "id": "b474244f-f7a0-4948-bfde-1518a5f7d416",
   "metadata": {},
   "source": [
    "#### Q9. A researcher wants to estimate the mean height of a population of trees. They measure the height of a sample of 50 trees and obtain a mean height of 15 meters and a standard deviation of 2 meters. Use bootstrap to estimate the 95% confidence interval for the population mean height."
   ]
  },
  {
   "cell_type": "markdown",
   "id": "e61ecb7b-7c58-4727-b998-b1f365fd36e0",
   "metadata": {},
   "source": [
    "To estimate the 95% confidence interval for the population mean height using bootstrap:\n",
    "\n",
    "Randomly sample 50 heights with replacement from the observed heights.\n",
    "Compute the mean height for each resampled dataset.\n",
    "Repeat the above steps a large number of times (e.g., 1000 times).\n",
    "Order the computed means from smallest to largest.\n",
    "The 95% confidence interval will be the range from the 2.5th percentile to the 97.5th percentile of the ordered means.\n",
    "\n",
    "\n",
    "\n",
    "\n",
    "\n"
   ]
  },
  {
   "cell_type": "code",
   "execution_count": null,
   "id": "d1299085-8b9d-473a-9f55-21d00ba71b26",
   "metadata": {},
   "outputs": [],
   "source": []
  }
 ],
 "metadata": {
  "kernelspec": {
   "display_name": "Python 3 (ipykernel)",
   "language": "python",
   "name": "python3"
  },
  "language_info": {
   "codemirror_mode": {
    "name": "ipython",
    "version": 3
   },
   "file_extension": ".py",
   "mimetype": "text/x-python",
   "name": "python",
   "nbconvert_exporter": "python",
   "pygments_lexer": "ipython3",
   "version": "3.11.7"
  }
 },
 "nbformat": 4,
 "nbformat_minor": 5
}
