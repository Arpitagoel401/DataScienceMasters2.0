{
 "cells": [
  {
   "cell_type": "markdown",
   "id": "d466d5a2",
   "metadata": {},
   "source": [
    "Q1. What is the Probability density function?"
   ]
  },
  {
   "cell_type": "code",
   "execution_count": 1,
   "id": "69899745",
   "metadata": {},
   "outputs": [],
   "source": [
    "# The Probability Density Function (PDF) is a concept in probability theory and statistics that describes the likelihood of a \n",
    "# continuous random variable taking on a specific value."
   ]
  },
  {
   "cell_type": "markdown",
   "id": "d8c151ab",
   "metadata": {},
   "source": [
    "Q2. What are the types of Probability distribution?"
   ]
  },
  {
   "cell_type": "code",
   "execution_count": 2,
   "id": "3674450e",
   "metadata": {},
   "outputs": [],
   "source": [
    "# There are several types of probability distributions, and they can be broadly classified into two main categories:\n",
    "# Discrete Probability Distributions:\n",
    "# Bernoulli Distribution: A distribution for a binary outcome (success or failure) with a single trial.\n",
    "# Binomial Distribution: Describes the number of successes in a fixed number of independent Bernoulli trials.\n",
    "# Poisson Distribution: Models the number of events that occur within a fixed interval of time or space, given a known average \n",
    "# rate.\n",
    "\n",
    "# Continuous Probability Distributions:\n",
    "# Uniform Distribution: All values in the distribution have equal probability.\n",
    "# Normal (Gaussian) Distribution: Symmetric bell-shaped curve characterized by its mean and standard deviation. Many natural \n",
    "# phenomena follow a normal distribution."
   ]
  },
  {
   "cell_type": "markdown",
   "id": "12b2e085",
   "metadata": {},
   "source": [
    "Q3. Write a Python function to calculate the probability density function of a normal distribution with\n",
    "given mean and standard deviation at a given point."
   ]
  },
  {
   "cell_type": "code",
   "execution_count": 3,
   "id": "e79c2b74",
   "metadata": {},
   "outputs": [
    {
     "name": "stdout",
     "output_type": "stream",
     "text": [
      "The PDF at x = 1 is: 0.24197072451914337\n"
     ]
    }
   ],
   "source": [
    "import math\n",
    "\n",
    "def normal_pdf(x, mean, std_dev):\n",
    "    exponent = -((x - mean) ** 2) / (2 * std_dev ** 2)\n",
    "    pdf = (1 / (math.sqrt(2 * math.pi) * std_dev)) * math.exp(exponent)\n",
    "    return pdf\n",
    "\n",
    "# Example usage:\n",
    "mean = 0\n",
    "std_dev = 1\n",
    "point = 1\n",
    "pdf_value = normal_pdf(point, mean, std_dev)\n",
    "print(f\"The PDF at x = {point} is: {pdf_value}\")"
   ]
  },
  {
   "cell_type": "markdown",
   "id": "44f35674",
   "metadata": {},
   "source": [
    "Q4. What are the properties of Binomial distribution? Give two examples of events where binomial\n",
    "distribution can be applied."
   ]
  },
  {
   "cell_type": "code",
   "execution_count": 4,
   "id": "a7472ef9",
   "metadata": {},
   "outputs": [],
   "source": [
    "# The Binomial distribution is a discrete probability distribution that models the number of successes in a fixed number of \n",
    "# independent and identical Bernoulli trials, where each trial has only two possible outcomes (success or failure) and the \n",
    "# probability of success is constant across all trials\n",
    "# Examples of Events:\n",
    "\n",
    "# 1.Coin Flips\n",
    "# 2.Product Defects"
   ]
  },
  {
   "cell_type": "markdown",
   "id": "33691dde",
   "metadata": {},
   "source": [
    "Q5. Generate a random sample of size 1000 from a binomial distribution with probability of success 0.4\n",
    "and plot a histogram of the results using matplotlib."
   ]
  },
  {
   "cell_type": "code",
   "execution_count": 5,
   "id": "b36b44a2",
   "metadata": {},
   "outputs": [],
   "source": [
    "import numpy as np\n",
    "n = 10  # Number of trials\n",
    "p = 0.4  # Probability of success\n",
    "\n",
    "# Generate a random sample of size 1000 from the binomial distribution\n",
    "random_sample = np.random.binomial(n, p, size=1000)"
   ]
  },
  {
   "cell_type": "markdown",
   "id": "14df55b7",
   "metadata": {},
   "source": [
    "Q6. Write a Python function to calculate the cumulative distribution function of a Poisson distribution\n",
    "with given mean at a given point."
   ]
  },
  {
   "cell_type": "code",
   "execution_count": 6,
   "id": "c0b85613",
   "metadata": {},
   "outputs": [
    {
     "name": "stdout",
     "output_type": "stream",
     "text": [
      "The CDF at k = 3 is: 0.8571234604985472\n"
     ]
    }
   ],
   "source": [
    "import math\n",
    "\n",
    "def poisson_cdf(k, mean):\n",
    "    cdf = 0\n",
    "    for i in range(k + 1):\n",
    "        cdf += (math.exp(-mean) * mean**i) / math.factorial(i)\n",
    "    return cdf\n",
    "\n",
    "# Example usage:\n",
    "mean = 2\n",
    "point = 3\n",
    "cdf_value = poisson_cdf(point, mean)\n",
    "print(f\"The CDF at k = {point} is: {cdf_value}\")"
   ]
  },
  {
   "cell_type": "markdown",
   "id": "2a893a76",
   "metadata": {},
   "source": [
    "Q7. How Binomial distribution different from Poisson distribution?"
   ]
  },
  {
   "cell_type": "code",
   "execution_count": 7,
   "id": "dd70feb1",
   "metadata": {},
   "outputs": [],
   "source": [
    "# The Binomial distribution models the number of successes in a fixed number of independent trials, each with two possible \n",
    "# outcomes (success or failure).\n",
    "# The Poisson distribution models the number of events occurring in a fixed interval of time or space, assuming events happen \n",
    "# independently and at a constant average rate."
   ]
  },
  {
   "cell_type": "markdown",
   "id": "89d57621",
   "metadata": {},
   "source": [
    "Q8. Generate a random sample of size 1000 from a Poisson distribution with mean 5 and calculate the\n",
    "sample mean and variance."
   ]
  },
  {
   "cell_type": "code",
   "execution_count": 8,
   "id": "bccda61f",
   "metadata": {},
   "outputs": [
    {
     "name": "stdout",
     "output_type": "stream",
     "text": [
      "Sample Mean: 5.03\n",
      "Sample Variance: 4.8691\n"
     ]
    }
   ],
   "source": [
    "import numpy as np\n",
    "\n",
    "# Set the parameter for the Poisson distribution (mean)\n",
    "mean_poisson = 5\n",
    "\n",
    "# Generate a random sample of size 1000 from the Poisson distribution\n",
    "random_sample_poisson = np.random.poisson(mean_poisson, size=1000)\n",
    "\n",
    "# Calculate the sample mean and variance\n",
    "sample_mean = np.mean(random_sample_poisson)\n",
    "sample_variance = np.var(random_sample_poisson)\n",
    "\n",
    "# Print the results\n",
    "print(f\"Sample Mean: {sample_mean}\")\n",
    "print(f\"Sample Variance: {sample_variance}\")"
   ]
  },
  {
   "cell_type": "markdown",
   "id": "681dc1db",
   "metadata": {},
   "source": [
    "Q9. How mean and variance are related in Binomial distribution and Poisson distribution?"
   ]
  },
  {
   "cell_type": "code",
   "execution_count": 9,
   "id": "d8a7b72c",
   "metadata": {},
   "outputs": [],
   "source": [
    "# the variance of a Binomial distribution depends on both n and p, the variance of a Poisson distribution is solely determined \n",
    "# by its mean λ, making the relationship simpler and more direct in the case of the Poisson distribution."
   ]
  },
  {
   "cell_type": "markdown",
   "id": "61643ae0",
   "metadata": {},
   "source": [
    "Q10. In normal distribution with respect to mean position, where does the least frequent data appear?"
   ]
  },
  {
   "cell_type": "code",
   "execution_count": 10,
   "id": "8e0b6246",
   "metadata": {},
   "outputs": [],
   "source": [
    "# The least frequent data points appear in the tails of the distribution, farthest away from the mean. The normal distribution \n",
    "# is symmetric, and the mean, median, and mode are all located at the center of the distribution."
   ]
  }
 ],
 "metadata": {
  "kernelspec": {
   "display_name": "Python 3 (ipykernel)",
   "language": "python",
   "name": "python3"
  },
  "language_info": {
   "codemirror_mode": {
    "name": "ipython",
    "version": 3
   },
   "file_extension": ".py",
   "mimetype": "text/x-python",
   "name": "python",
   "nbconvert_exporter": "python",
   "pygments_lexer": "ipython3",
   "version": "3.10.9"
  }
 },
 "nbformat": 4,
 "nbformat_minor": 5
}
