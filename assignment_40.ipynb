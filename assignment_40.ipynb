{
 "cells": [
  {
   "cell_type": "markdown",
   "id": "e5d8287c",
   "metadata": {},
   "source": [
    "Q1. What is data encoding? How is it useful in data science?"
   ]
  },
  {
   "cell_type": "code",
   "execution_count": 1,
   "id": "b22f5681",
   "metadata": {},
   "outputs": [],
   "source": [
    "# Data encoding is the process of converting information from one format or representation to another. In the context of data \n",
    "# science, encoding is often used to transform data into a suitable format for analysis, storage, or transmission"
   ]
  },
  {
   "cell_type": "markdown",
   "id": "e7f806c2",
   "metadata": {},
   "source": [
    "Q2. What is nominal encoding? Provide an example of how you would use it in a real-world scenario."
   ]
  },
  {
   "cell_type": "code",
   "execution_count": 2,
   "id": "d8f65061",
   "metadata": {},
   "outputs": [],
   "source": [
    "# Nominal encoding is a type of data encoding that involves assigning a unique numerical identifier to each category or label in\n",
    "# a nominal variable.\n",
    "# Example:\n",
    "# Suppose you are working with a dataset containing information about colors"
   ]
  },
  {
   "cell_type": "markdown",
   "id": "1429fafd",
   "metadata": {},
   "source": [
    "Q3. In what situations is nominal encoding preferred over one-hot encoding? Provide a practical example."
   ]
  },
  {
   "cell_type": "code",
   "execution_count": 3,
   "id": "e2a1f325",
   "metadata": {},
   "outputs": [],
   "source": [
    "# Nominal encoding and one-hot encoding are often used interchangeably, and one-hot encoding is a specific method of nominal \n",
    "# encoding. Nominal encoding refers to the general process of converting categorical variables with no inherent order into a\n",
    "# numerical format."
   ]
  },
  {
   "cell_type": "markdown",
   "id": "c5218ff4",
   "metadata": {},
   "source": [
    "Q4. Suppose you have a dataset containing categorical data with 5 unique values. Which encoding\n",
    "technique would you use to transform this data into a format suitable for machine learning algorithms?\n",
    "Explain why you made this choice."
   ]
  },
  {
   "cell_type": "code",
   "execution_count": 4,
   "id": "78e053b4",
   "metadata": {},
   "outputs": [],
   "source": [
    "#  If there is an ordinal relationship between the categories, meaning they have a meaningful order, you might consider using\n",
    "# label encoding.\n",
    "# If the categorical variable has no inherent order or hierarchy, and each category is equally important, one-hot encoding is a\n",
    "# suitable choice."
   ]
  },
  {
   "cell_type": "markdown",
   "id": "62b648af",
   "metadata": {},
   "source": [
    "Q5. In a machine learning project, you have a dataset with 1000 rows and 5 columns. Two of the columns\n",
    "are categorical, and the remaining three columns are numerical. If you were to use nominal encoding to\n",
    "transform the categorical data, how many new columns would be created? Show your calculations."
   ]
  },
  {
   "cell_type": "code",
   "execution_count": 5,
   "id": "3b0af088",
   "metadata": {},
   "outputs": [],
   "source": [
    "# Nominal encoding, also known as one-hot encoding, involves creating binary columns for each unique category in a categorical \n",
    "# variable. The number of new columns created is equal to the number of unique categories minus one. \n",
    "# new columns created for nominal encoding is m−1+n−1 \n",
    "# here m is unique categories of column1 and \n",
    "# n is unique categories of column2"
   ]
  },
  {
   "cell_type": "markdown",
   "id": "29ee0d92",
   "metadata": {},
   "source": [
    "Q6. You are working with a dataset containing information about different types of animals, including their\n",
    "species, habitat, and diet. Which encoding technique would you use to transform the categorical data into\n",
    "a format suitable for machine learning algorithms? Justify your answer."
   ]
  },
  {
   "cell_type": "code",
   "execution_count": 6,
   "id": "b9e6aec1",
   "metadata": {},
   "outputs": [],
   "source": [
    "#  If there is an ordinal relationship between the categories, meaning they have a meaningful order, you might consider using\n",
    "# label encoding.\n",
    "# If the categorical variable has no inherent order or hierarchy, and each category is equally important, one-hot encoding is a\n",
    "# suitable choice."
   ]
  },
  {
   "cell_type": "markdown",
   "id": "0e052836",
   "metadata": {},
   "source": [
    "Q7.You are working on a project that involves predicting customer churn for a telecommunications\n",
    "company. You have a dataset with 5 features, including the customer's gender, age, contract type,\n",
    "monthly charges, and tenure. Which encoding technique(s) would you use to transform the categorical\n",
    "data into numerical data? Provide a step-by-step explanation of how you would implement the encoding."
   ]
  },
  {
   "cell_type": "code",
   "execution_count": 7,
   "id": "8bc27e00",
   "metadata": {},
   "outputs": [],
   "source": [
    "# Since \"gender\" is a binary categorical variable, you can use label encoding, where you assign 0 or 1 to represent the two \n",
    "# categories.\n",
    "# Since \"contract type\" is a nominal categorical variable with more than two categories, you can use one-hot encoding to \n",
    "# represent each category with binary columns."
   ]
  },
  {
   "cell_type": "code",
   "execution_count": null,
   "id": "74e99b6d",
   "metadata": {},
   "outputs": [],
   "source": []
  }
 ],
 "metadata": {
  "kernelspec": {
   "display_name": "Python 3 (ipykernel)",
   "language": "python",
   "name": "python3"
  },
  "language_info": {
   "codemirror_mode": {
    "name": "ipython",
    "version": 3
   },
   "file_extension": ".py",
   "mimetype": "text/x-python",
   "name": "python",
   "nbconvert_exporter": "python",
   "pygments_lexer": "ipython3",
   "version": "3.10.9"
  }
 },
 "nbformat": 4,
 "nbformat_minor": 5
}
