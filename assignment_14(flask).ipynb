{
 "cells": [
  {
   "cell_type": "markdown",
   "id": "3bffbb35",
   "metadata": {},
   "source": [
    "Q1. What is Flask Framework? What are the advantages of Flask Framework?"
   ]
  },
  {
   "cell_type": "code",
   "execution_count": 1,
   "id": "725b24c0",
   "metadata": {},
   "outputs": [],
   "source": [
    "# Flask is a micro web framework for Python. It is lightweight, designed to be simple and easy to use, making \n",
    "# it a popular choice for developing web applications and APIs in Python.\n",
    "#  advantages of simplicity and flexibility, making it ideal for quick and efficient web application development."
   ]
  },
  {
   "cell_type": "markdown",
   "id": "b68d0474",
   "metadata": {},
   "source": [
    "Q2. Create a simple Flask application to display ‘Hello World!!’. Attach the screenshot of the output in\n",
    "Jupyter Notebook."
   ]
  },
  {
   "cell_type": "markdown",
   "id": "c5b1a11f",
   "metadata": {},
   "source": [
    "<img src = \"2024-01-19.png\" style = \"height:300px\">"
   ]
  },
  {
   "cell_type": "markdown",
   "id": "7b8765a0",
   "metadata": {},
   "source": [
    "Q3. What is App routing in Flask? Why do we use app routes?"
   ]
  },
  {
   "cell_type": "code",
   "execution_count": 6,
   "id": "162b4cb9",
   "metadata": {},
   "outputs": [],
   "source": [
    "# App routing in Flask refers to the mechanism of associating URLs with specific functions in a Flask\n",
    "# web application. It involves defining routes using decorators to map specific URLs to corresponding functions that \n",
    "# handle the logic and generate the HTTP responses."
   ]
  },
  {
   "cell_type": "markdown",
   "id": "9a334a1f",
   "metadata": {},
   "source": [
    "Q4. Create a “/welcome” route to display the welcome message “Welcome to ABC Corporation” and a “/”\n",
    "route to show the following details:\n",
    "Company Name: ABC Corporation\n",
    "Location: India\n",
    "Contact Detail: 999-999-9999\n",
    "Attach the screenshot of the output in Jupyter Notebook."
   ]
  },
  {
   "cell_type": "markdown",
   "id": "dd835821",
   "metadata": {},
   "source": [
    "<img src = \"2024-01-19 (2).png\" style = \"height :300px\">"
   ]
  },
  {
   "cell_type": "markdown",
   "id": "63c413f2",
   "metadata": {},
   "source": [
    "<img src = \"2024-01-19 (1).png\" style=\"height:300px\">"
   ]
  },
  {
   "cell_type": "markdown",
   "id": "e966bbda",
   "metadata": {},
   "source": [
    "Q5. What function is used in Flask for URL Building? Write a Python code to demonstrate the working of the\n",
    "url_for() function."
   ]
  },
  {
   "cell_type": "raw",
   "id": "6e784be4",
   "metadata": {},
   "source": [
    "# the url_for() function is used for URL building. It generates a URL for the function with the provided \n",
    "# arguments. \n",
    "\n",
    "from flask import Flask, url_for\n",
    "\n",
    "app = Flask(__name__)\n",
    "\n",
    "@app.route('/')\n",
    "def home():\n",
    "    return 'Welcome to the home page!'\n",
    "\n",
    "@app.route('/user/<username>')\n",
    "def show_user(username):\n",
    "    return f'Hello, {username}!'\n",
    "\n",
    "@app.route('/profile')\n",
    "def profile():\n",
    "    # Using url_for to generate a URL for the 'show_user' endpoint with the argument 'Alice'\n",
    "    user_url = url_for('show_user', username='Alice')\n",
    "    return f'Visit the user profile: <a href=\"{user_url}\">Alice</a>'\n",
    "\n",
    "if __name__ == '__main__':\n",
    "    app.run(debug=True)\n"
   ]
  },
  {
   "cell_type": "code",
   "execution_count": null,
   "id": "2377fc3b",
   "metadata": {},
   "outputs": [],
   "source": []
  }
 ],
 "metadata": {
  "kernelspec": {
   "display_name": "Python 3 (ipykernel)",
   "language": "python",
   "name": "python3"
  },
  "language_info": {
   "codemirror_mode": {
    "name": "ipython",
    "version": 3
   },
   "file_extension": ".py",
   "mimetype": "text/x-python",
   "name": "python",
   "nbconvert_exporter": "python",
   "pygments_lexer": "ipython3",
   "version": "3.10.9"
  }
 },
 "nbformat": 4,
 "nbformat_minor": 5
}
