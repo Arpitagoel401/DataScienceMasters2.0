{
 "cells": [
  {
   "cell_type": "markdown",
   "id": "67177a7f",
   "metadata": {},
   "source": [
    "Q1. What is multithreading in python? Why is it used? Name the module used to handle threads in python"
   ]
  },
  {
   "cell_type": "code",
   "execution_count": 1,
   "id": "60c5b764",
   "metadata": {},
   "outputs": [],
   "source": [
    "# Multithreading refers to the concurrent execution of multiple threads (smaller units of a process) to improve the performance \n",
    "# of a program.\n",
    "# The threading module is commonly used to handle threads in Python. This module provides a way to create and manage threads"
   ]
  },
  {
   "cell_type": "markdown",
   "id": "be1dd751",
   "metadata": {},
   "source": [
    "Q2.Why threading module used? Write the use of the following functions\n",
    "1.activeCount()\n",
    "2.currentThread()\n",
    "3.enumerate()"
   ]
  },
  {
   "cell_type": "code",
   "execution_count": 2,
   "id": "c7d778a1",
   "metadata": {},
   "outputs": [],
   "source": [
    "# The threading module in Python is used for creating and managing threads\n",
    "# It allows developers to write concurrent programs by creating multiple threads that can run in parallel, each performing \n",
    "# a different task\n",
    "\n",
    "# The activeCount() function is used to obtain the number of Thread objects currently alive. It returns the current number \n",
    "# of threads that are active\n",
    "\n",
    "# The currentThread() function returns the current Thread object corresponding to the caller's thread of control. \n",
    "# This allows you to obtain information about the currently executing thread.\n",
    "\n",
    "# The enumerate() function returns a list of all Thread objects currently alive. "
   ]
  },
  {
   "cell_type": "markdown",
   "id": "ffe82b3b",
   "metadata": {},
   "source": [
    "Q3. Explain the following functions\n",
    "1.run()\n",
    "2.start()\n",
    "3.join()\n",
    "4.isAlive()"
   ]
  },
  {
   "cell_type": "code",
   "execution_count": 3,
   "id": "4690fb2b",
   "metadata": {},
   "outputs": [],
   "source": [
    "# The run() method is called when a thread is started using the start() method. It contains the code that will be executed\n",
    "# in the new thread.\n",
    "\n",
    "# The start() method is used to initiate the execution of the thread.\n",
    "\n",
    "# The join() method is used to wait for the thread to complete its execution before moving on to the next part of the program. \n",
    "\n",
    "# The isAlive() method returns True if the thread is currently executing .It returns False otherwise. It's a way to check if \n",
    "# a thread is still active."
   ]
  },
  {
   "cell_type": "markdown",
   "id": "2f738de1",
   "metadata": {},
   "source": [
    "Q4. Write a python program to create two threads. Thread one must print the list of squares and thread\n",
    "two must print the list of cubes"
   ]
  },
  {
   "cell_type": "code",
   "execution_count": 5,
   "id": "5d835e65",
   "metadata": {},
   "outputs": [
    {
     "name": "stdout",
     "output_type": "stream",
     "text": [
      "Square of 1: 1\n",
      "Square of 2: 4\n",
      "Square of 3: 9\n",
      "Square of 4: 16\n",
      "Square of 5: 25\n",
      "Cube of 1: 1\n",
      "Cube of 2: 8\n",
      "Cube of 3: 27\n",
      "Cube of 4: 64\n",
      "Cube of 5: 125\n"
     ]
    }
   ],
   "source": [
    "import threading\n",
    "\n",
    "def squares():\n",
    "    for i in range(1, 6):\n",
    "        print(f\"Square of {i}: {i*i}\")\n",
    "\n",
    "def cubes():\n",
    "    for i in range(1, 6):\n",
    "        print(f\"Cube of {i}: {i*i*i}\")\n",
    "\n",
    "thread_squares = threading.Thread(target=squares)\n",
    "thread_cubes = threading.Thread(target=cubes)\n",
    "\n",
    "thread_squares.start()\n",
    "thread_cubes.start()\n",
    "\n",
    "thread_squares.join()\n",
    "thread_cubes.join()\n"
   ]
  },
  {
   "cell_type": "markdown",
   "id": "d0a73706",
   "metadata": {},
   "source": [
    "Q5. State advantages and disadvantages of multithreading"
   ]
  },
  {
   "cell_type": "code",
   "execution_count": 8,
   "id": "a79a8e5d",
   "metadata": {},
   "outputs": [],
   "source": [
    "# Advantages of multithreading\n",
    "#1.Concurrent execution enhances overall performance, especially for parallelizable tasks.\n",
    "#2.Allows concurrent handling of user input and background tasks.\n",
    "#3.Threads share resources, improving communication and efficient data sharing within the same process.\n",
    "#4.Multithreading makes better use of available resources, as it allows for the concurrent execution of tasks\n",
    "\n",
    "# Disadvantages of multithreading\n",
    "#1.Requires careful synchronization to avoid race conditions and maintain data consistency.\n",
    "#2.leading to deadlocks \n",
    "#3.Debugging can be challenging due to issues like race conditions that are hard to reproduce.\n",
    "#4.Overhead associated with thread creation, management, and synchronization may impact performance."
   ]
  },
  {
   "cell_type": "markdown",
   "id": "4e67e3d4",
   "metadata": {},
   "source": [
    "Q6. Explain deadlocks and race conditions."
   ]
  },
  {
   "cell_type": "code",
   "execution_count": 10,
   "id": "de75c25f",
   "metadata": {},
   "outputs": [],
   "source": [
    "# A deadlock is a situation in a multithreaded or multiprocess environment where two or more threads or processes cannot proceed\n",
    "# because each is waiting for the other to release a resource.\n",
    "\n",
    "# A race condition occurs in a multithreaded or multiprocess environment when the behavior of a program depends on the relative\n",
    "# timing or interleaving of events, and the outcome becomes unpredictable."
   ]
  },
  {
   "cell_type": "code",
   "execution_count": null,
   "id": "e16fa8f1",
   "metadata": {},
   "outputs": [],
   "source": []
  }
 ],
 "metadata": {
  "kernelspec": {
   "display_name": "Python 3 (ipykernel)",
   "language": "python",
   "name": "python3"
  },
  "language_info": {
   "codemirror_mode": {
    "name": "ipython",
    "version": 3
   },
   "file_extension": ".py",
   "mimetype": "text/x-python",
   "name": "python",
   "nbconvert_exporter": "python",
   "pygments_lexer": "ipython3",
   "version": "3.10.9"
  }
 },
 "nbformat": 4,
 "nbformat_minor": 5
}
