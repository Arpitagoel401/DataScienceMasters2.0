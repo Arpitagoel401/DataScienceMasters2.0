{
 "cells": [
  {
   "cell_type": "markdown",
   "id": "c5e148d9-aa10-43ff-a521-12a17823f24f",
   "metadata": {},
   "source": [
    "Q1. Pearson correlation coefficient is a measure of the linear relationship between two variables. Suppose\n",
    "you have collected data on the amount of time students spend studying for an exam and their final exam\n",
    "scores. Calculate the Pearson correlation coefficient between these two variables and interpret the result."
   ]
  },
  {
   "cell_type": "code",
   "execution_count": 1,
   "id": "cfc07a0c-22d8-45b3-9984-1b46fcdfa436",
   "metadata": {},
   "outputs": [],
   "source": [
    "# The Pearson correlation coefficient (often denoted as r) is a measure of the strength and direction of a linear relationship between two variables. \n",
    "# It ranges from -1 to 1, where:\n",
    "# If r is close to 1, it indicates a strong positive linear relationship: as the amount of time spent studying increases, final exam scores tend to \n",
    "# increase.\n",
    "# If r is close to -1, it indicates a strong negative linear relationship: as the amount of time spent studying increases, final exam scores tend to \n",
    "# decrease.\n",
    "# If r is close to 0, it suggests a weak or no linear relationship between the two variables."
   ]
  },
  {
   "cell_type": "markdown",
   "id": "ea0f28f9-7941-4eef-9d59-40aef6bdf082",
   "metadata": {},
   "source": [
    "Q2. Spearman's rank correlation is a measure of the monotonic relationship between two variables.\n",
    "Suppose you have collected data on the amount of sleep individuals get each night and their overall job\n",
    "satisfaction level on a scale of 1 to 10. Calculate the Spearman's rank correlation between these two\n",
    "variables and interpret the result."
   ]
  },
  {
   "cell_type": "code",
   "execution_count": 2,
   "id": "8b70cef1-c1b0-42ca-8808-f38a4e8b2b0c",
   "metadata": {},
   "outputs": [],
   "source": [
    "# Let's calculate the Spearman's rank correlation coefficient for the amount of sleep individuals get each night and their overall job satisfaction \n",
    "# level:\n",
    "# Sleep (hours): [7, 5, 8, 6, 7]\n",
    "# Job Satisfaction: [9, 6, 8, 7, 9]\n",
    "# Rank:\n",
    "# Sleep: [3, 5, 2, 4, 3]\n",
    "# Job Satisfaction: [1, 4, 2, 3, 1]\n",
    "\n",
    "# ρ=(1−6∑di2 )/ n(n 2 −1)"
   ]
  },
  {
   "cell_type": "markdown",
   "id": "955f6342-7f98-44cc-b8e6-836a615997b5",
   "metadata": {},
   "source": [
    "Q3. Suppose you are conducting a study to examine the relationship between the number of hours of\n",
    "exercise per week and body mass index (BMI) in a sample of adults. You collected data on both variables\n",
    "for 50 participants. Calculate the Pearson correlation coefficient and the Spearman's rank correlation\n",
    "between these two variables and compare the results."
   ]
  },
  {
   "cell_type": "code",
   "execution_count": 1,
   "id": "ff55636e-a099-4948-b9b9-2bb18c821108",
   "metadata": {},
   "outputs": [
    {
     "name": "stdout",
     "output_type": "stream",
     "text": [
      "Pearson Correlation Coefficient: 0.9824\n",
      "Spearman's Rank Correlation Coefficient: 1.0000\n"
     ]
    }
   ],
   "source": [
    "import numpy as np\n",
    "from scipy.stats import pearsonr, spearmanr\n",
    "\n",
    "hours_of_exercise = np.array([3, 5, 2, 4, 6])\n",
    "bmi = np.array([25.3, 27.8, 22.5, 26.1, 29.0])\n",
    "\n",
    "pearson_corr, _ = pearsonr(hours_of_exercise, bmi)\n",
    "spearman_corr, _ = spearmanr(hours_of_exercise, bmi)\n",
    "\n",
    "# Display the results\n",
    "print(f\"Pearson Correlation Coefficient: {pearson_corr:.4f}\")\n",
    "print(f\"Spearman's Rank Correlation Coefficient: {spearman_corr:.4f}\")\n"
   ]
  },
  {
   "cell_type": "markdown",
   "id": "15d69289-6e52-4db3-84f0-fde26adddf42",
   "metadata": {},
   "source": [
    "Q4. A researcher is interested in examining the relationship between the number of hours individuals\n",
    "spend watching television per day and their level of physical activity. The researcher collected data on\n",
    "both variables from a sample of 50 participants. Calculate the Pearson correlation coefficient between\n",
    "these two variables."
   ]
  },
  {
   "cell_type": "code",
   "execution_count": 2,
   "id": "6d54b58e-5757-4170-abb2-ba737efeb83a",
   "metadata": {},
   "outputs": [
    {
     "name": "stdout",
     "output_type": "stream",
     "text": [
      "Pearson Correlation Coefficient: -0.9412\n"
     ]
    }
   ],
   "source": [
    "tv_hours = np.array([2, 3, 1, 4, 2, 5, 3, 2, 1, 4])\n",
    "physical_activity = np.array([3, 2, 4, 1, 3, 1, 2, 4, 5, 1])\n",
    "\n",
    "pearson_corr, _ = pearsonr(tv_hours, physical_activity)\n",
    "\n",
    "# Display the result\n",
    "print(f\"Pearson Correlation Coefficient: {pearson_corr:.4f}\")\n"
   ]
  },
  {
   "cell_type": "markdown",
   "id": "61933739-3896-4c6a-9cf5-82e5bd310b12",
   "metadata": {},
   "source": [
    "Q5. A survey was conducted to examine the relationship between age and preference for a particular\n",
    "brand of soft drink. The survey results are shown below:\n",
    "\n",
    "Age(Years)    Soft drink Preference\n",
    "25            Coke\n",
    "42            Pepsi\n",
    "37          Mountain dew\n",
    "19            Coke\n",
    "31            Pepsi\n",
    "28            Coke\n",
    "\n"
   ]
  },
  {
   "cell_type": "code",
   "execution_count": 3,
   "id": "8c695d80-c2bb-4e2c-88f3-78b509171a38",
   "metadata": {},
   "outputs": [
    {
     "name": "stdout",
     "output_type": "stream",
     "text": [
      "Age\n",
      "19            Coke\n",
      "25            Coke\n",
      "28            Coke\n",
      "31           Pepsi\n",
      "37    Mountain Dew\n",
      "42           Pepsi\n",
      "Name: Soft_Drink_Preference, dtype: object\n"
     ]
    }
   ],
   "source": [
    "import pandas as pd\n",
    "data = {\n",
    "    'Age': [25, 42, 37, 19, 31, 28],\n",
    "    'Soft_Drink_Preference': ['Coke', 'Pepsi', 'Mountain Dew', 'Coke', 'Pepsi', 'Coke']\n",
    "}\n",
    "\n",
    "df = pd.DataFrame(data)\n",
    "age_groups = df.groupby('Age')['Soft_Drink_Preference'].agg(lambda x: x.mode().iloc[0])\n",
    "\n",
    "# Display the result\n",
    "print(age_groups)\n"
   ]
  },
  {
   "cell_type": "markdown",
   "id": "4814aa1e-7346-42c6-907f-eda04f974983",
   "metadata": {},
   "source": [
    "Q6. A company is interested in examining the relationship between the number of sales calls made per day\n",
    "and the number of sales made per week. The company collected data on both variables from a sample of\n",
    "30 sales representatives. Calculate the Pearson correlation coefficient between these two variables."
   ]
  },
  {
   "cell_type": "code",
   "execution_count": 4,
   "id": "a6c70b08-061e-41a0-946a-bf67aeac0563",
   "metadata": {},
   "outputs": [
    {
     "name": "stdout",
     "output_type": "stream",
     "text": [
      "Pearson Correlation Coefficient: 0.9952\n"
     ]
    }
   ],
   "source": [
    "sales_calls_per_day = np.array([15, 18, 12, 20, 16])\n",
    "sales_per_week = np.array([50, 60, 40, 70, 55])\n",
    "\n",
    "pearson_corr, _ = pearsonr(sales_calls_per_day, sales_per_week)\n",
    "\n",
    "# Display the result\n",
    "print(f\"Pearson Correlation Coefficient: {pearson_corr:.4f}\")\n"
   ]
  },
  {
   "cell_type": "code",
   "execution_count": null,
   "id": "c9bdc19c-f372-4a44-bcf8-1b7b5484a35f",
   "metadata": {},
   "outputs": [],
   "source": []
  }
 ],
 "metadata": {
  "kernelspec": {
   "display_name": "Python 3 (ipykernel)",
   "language": "python",
   "name": "python3"
  },
  "language_info": {
   "codemirror_mode": {
    "name": "ipython",
    "version": 3
   },
   "file_extension": ".py",
   "mimetype": "text/x-python",
   "name": "python",
   "nbconvert_exporter": "python",
   "pygments_lexer": "ipython3",
   "version": "3.11.7"
  }
 },
 "nbformat": 4,
 "nbformat_minor": 5
}
