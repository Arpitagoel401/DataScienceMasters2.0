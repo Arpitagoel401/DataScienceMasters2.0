{
 "cells": [
  {
   "cell_type": "markdown",
   "id": "d0755555",
   "metadata": {},
   "source": [
    "Q1- Explain the following with an example:\n",
    "1) Artificial Intelligence\n",
    "2) Machine Learning\n",
    "3) Deep Learning"
   ]
  },
  {
   "cell_type": "code",
   "execution_count": 1,
   "id": "6b0bfb2c",
   "metadata": {},
   "outputs": [],
   "source": [
    "# Artificial Intelligence refers to the development of computer systems that can perform tasks that typically require human \n",
    "# intelligence. \n",
    "# Example: A chatbot \n",
    "# Machine Learning is a subset of Artificial Intelligence that focuses on creating systems that can learn from data and improve \n",
    "# their performance over time without being explicitly programmed. \n",
    "# Example: Spam email filters\n",
    "# Deep Learning is a subfield of Machine Learning that involves the use of neural networks with multiple layers (deep neural \n",
    "# networks) to model and solve complex problems.\n",
    "# Example: Convolutional Neural Networks (CNNs) used for image recognition"
   ]
  },
  {
   "cell_type": "markdown",
   "id": "538efe4b",
   "metadata": {},
   "source": [
    "Q2- What is supervised learning? List some examples of supervised learning."
   ]
  },
  {
   "cell_type": "code",
   "execution_count": 2,
   "id": "2e62e0c0",
   "metadata": {},
   "outputs": [],
   "source": [
    "# Supervised learning is a type of machine learning where the algorithm is trained on a labeled dataset, meaning that the input \n",
    "# data is paired with corresponding output labels. \n",
    "# example : House price prediction\n",
    "#     flower prediction\n",
    "#     titanic survival prediction"
   ]
  },
  {
   "cell_type": "markdown",
   "id": "6742fbc8",
   "metadata": {},
   "source": [
    "Q3- What is unsupervised learning? List some examples of unsupervised learning."
   ]
  },
  {
   "cell_type": "code",
   "execution_count": 4,
   "id": "c229c7b3",
   "metadata": {},
   "outputs": [],
   "source": [
    "# Unsupervised learning is a type of machine learning where the algorithm is given input data without explicit instructions on \n",
    "# what to do with it. Unlike supervised learning, there are no labeled \n",
    "# Examples of Unsupervised Learning:\n",
    "#     clustering\n",
    "#     dimensionality reduction\n",
    "#     anomaly detection"
   ]
  },
  {
   "cell_type": "markdown",
   "id": "b00b26da",
   "metadata": {},
   "source": [
    "Q4- What is the difference between AI, ML, DL, and DS?"
   ]
  },
  {
   "cell_type": "code",
   "execution_count": 5,
   "id": "da5e2a70",
   "metadata": {},
   "outputs": [],
   "source": [
    "# Artificial Intelligence refers to the development of computer systems that can perform tasks that typically require human \n",
    "# intelligence. \n",
    "# Machine Learning is a subset of Artificial Intelligence that focuses on creating systems that can learn from data and improve \n",
    "# their performance over time without being explicitly programmed. \n",
    "# Deep Learning is a subfield of Machine Learning that involves the use of neural networks with multiple layers (deep neural \n",
    "# networks) to model and solve complex problems.\n",
    "# Data Science is a multidisciplinary field that involves the extraction of insights and knowledge from structured and \n",
    "# unstructured data."
   ]
  },
  {
   "cell_type": "markdown",
   "id": "870ec7f1",
   "metadata": {},
   "source": [
    "Q5- What are the main differences between supervised, unsupervised, and semi-supervised learning?"
   ]
  },
  {
   "cell_type": "code",
   "execution_count": 6,
   "id": "4fd02377",
   "metadata": {},
   "outputs": [],
   "source": [
    "# Supervised Learning: Requires labeled training data, where the algorithm learns from input-output pairs. It is suitable for \n",
    "# tasks where the goal is to make predictions or classifications.\n",
    "\n",
    "# Unsupervised Learning: Involves unlabeled data, and the algorithm discovers patterns or structures within the data without \n",
    "# explicit guidance. Common tasks include clustering and dimensionality reduction.\n",
    "\n",
    "#Semi-Supervised Learning: Utilizes a combination of labeled and unlabeled data. It is beneficial when obtaining a large labeled\n",
    "# dataset is challenging or expensive, as the model can leverage both types of data for learning."
   ]
  },
  {
   "cell_type": "markdown",
   "id": "bad01349",
   "metadata": {},
   "source": [
    "Q6- What is train, test and validation split? Explain the importance of each term."
   ]
  },
  {
   "cell_type": "code",
   "execution_count": 7,
   "id": "c2cba6cb",
   "metadata": {},
   "outputs": [],
   "source": [
    "#Training Set: The model learns from the training set, adjusting its parameters to minimize the difference between predicted and \n",
    "# actual outputs. A diverse and representative training set is crucial for building a robust model.\n",
    "\n",
    "# Test Set: The test set evaluates the model's performance on new, unseen data. It helps assess how well the model generalizes \n",
    "# and provides insights into its effectiveness in real-world scenarios.\n",
    "\n",
    "#Validation Set: The validation set aids in tuning the model's hyperparameters, preventing overfitting (where the model perform\n",
    "#well on the training set but poorly on new data). It ensures that the model's performance improvements are not solely tailored\n",
    "# to the training set."
   ]
  },
  {
   "cell_type": "markdown",
   "id": "e7cfd520",
   "metadata": {},
   "source": [
    "Q7- How can unsupervised learning be used in anomaly detection?"
   ]
  },
  {
   "cell_type": "code",
   "execution_count": 8,
   "id": "da28ee37",
   "metadata": {},
   "outputs": [],
   "source": [
    "# Unsupervised learning is commonly used in anomaly detection, where the goal is to identify instances in a dataset that \n",
    "#deviate significantly from the exhibit unusual behavior. Here's how unsupervised learning techniques can be applied in anomaly \n",
    "# detection:\n",
    "\n",
    "# Clustering:\n",
    "# Unsupervised clustering algorithms, such as K-Means or DBSCAN, can be employed to group similar data points together. In \n",
    "# anomaly detection, the assumption is that anomalies form small, distinct clusters or fall outside of the normal clusters."
   ]
  },
  {
   "cell_type": "markdown",
   "id": "74029cae",
   "metadata": {},
   "source": [
    "Q8- List down some commonly used supervised learning algorithms and unsupervised learning\n",
    "algorithms."
   ]
  },
  {
   "cell_type": "code",
   "execution_count": 9,
   "id": "be975ba6",
   "metadata": {},
   "outputs": [],
   "source": [
    "# supervised learning algorithms :\n",
    "#     linear regression\n",
    "#     logistic regression\n",
    "#     svm\n",
    "#     naive bayes\n",
    "#     decision tree\n",
    "#     random forest\n",
    "#     KNN\n",
    "# unsupervised learning algorithms :\n",
    "#     k means clustering\n",
    "#     hierarchical clustering\n",
    "#     dbscan clustering\n",
    "#     PCA"
   ]
  },
  {
   "cell_type": "code",
   "execution_count": null,
   "id": "80286cfd",
   "metadata": {},
   "outputs": [],
   "source": []
  }
 ],
 "metadata": {
  "kernelspec": {
   "display_name": "Python 3 (ipykernel)",
   "language": "python",
   "name": "python3"
  },
  "language_info": {
   "codemirror_mode": {
    "name": "ipython",
    "version": 3
   },
   "file_extension": ".py",
   "mimetype": "text/x-python",
   "name": "python",
   "nbconvert_exporter": "python",
   "pygments_lexer": "ipython3",
   "version": "3.10.9"
  }
 },
 "nbformat": 4,
 "nbformat_minor": 5
}
