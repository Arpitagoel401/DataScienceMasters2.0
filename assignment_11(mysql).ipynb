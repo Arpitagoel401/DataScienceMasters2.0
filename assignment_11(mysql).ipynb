{
 "cells": [
  {
   "cell_type": "markdown",
   "id": "18d60c5b",
   "metadata": {},
   "source": [
    "Q1. What is a database? Differentiate between SQL and NoSQL databases."
   ]
  },
  {
   "cell_type": "code",
   "execution_count": 1,
   "id": "ffce5d9a",
   "metadata": {},
   "outputs": [],
   "source": [
    "# A database is a structured collection of data that is organized in a way that allows easy access, management, and updating of \n",
    "# that data.\n",
    "# SQL databases use a structured schema and are suitable for complex relationships and transactions,while NoSQL databases offer a\n",
    "# flexible schema and handling unstructured data in dynamic environments."
   ]
  },
  {
   "cell_type": "markdown",
   "id": "25f5d0d1",
   "metadata": {},
   "source": [
    "Q2. What is DDL? Explain why CREATE, DROP, ALTER, and TRUNCATE are used with an example."
   ]
  },
  {
   "cell_type": "code",
   "execution_count": 2,
   "id": "8b0b92d3",
   "metadata": {},
   "outputs": [],
   "source": [
    "# DDL, or Data Definition Language, is a subset of SQL (Structured Query Language) that deals with the definition and structure \n",
    "# of the database\n",
    "\n",
    "# CREATE: Used to create new database objects like tables, indexes, or views.\n",
    "#     CREATE TABLE employees (\n",
    "#     emp_id INT PRIMARY KEY,\n",
    "#     emp_name VARCHAR(50),\n",
    "#     emp_salary DECIMAL(10, 2)\n",
    "# );\n",
    "\n",
    "# DROP:Used to delete existing database objects like tables, indexes, or views.\n",
    "# DROP TABLE employees;\n",
    "\n",
    "# ALTER:Used to modify the structure of existing database objects, such as adding or removing columns from a table.\n",
    "# ALTER TABLE employees\n",
    "# ADD COLUMN emp_department VARCHAR(30);\n",
    "\n",
    "# TRUNCATE:Used to remove all rows from a table, but unlike DELETE, it does not log individual row deletions and is generally \n",
    "# faster.\n",
    "# TRUNCATE TABLE employees;\n"
   ]
  },
  {
   "cell_type": "markdown",
   "id": "814442b3",
   "metadata": {},
   "source": [
    "Q3. What is DML? Explain INSERT, UPDATE, and DELETE with an example."
   ]
  },
  {
   "cell_type": "code",
   "execution_count": 3,
   "id": "e93c01b5",
   "metadata": {},
   "outputs": [],
   "source": [
    "# DML is a subset of SQL (Structured Query Language) responsible for manipulating data stored in the database. \n",
    "\n",
    "# INSERT:Used to add new rows of data into a table.\n",
    "# INSERT INTO employees (emp_id, emp_name, emp_salary)\n",
    "# VALUES (1, 'John Doe', 50000);\n",
    "\n",
    "# UPDATE:Used to modify existing data in a table based on a specified condition.\n",
    "# UPDATE employees SET emp_salary = 55000 WHERE emp_id = 1;\n",
    "\n",
    "# DELETE:Used to remove one or more rows from a table based on a specified condition.\n",
    "# DELETE FROM employees WHERE emp_id = 1;"
   ]
  },
  {
   "cell_type": "markdown",
   "id": "d23ff517",
   "metadata": {},
   "source": [
    "Q4. What is DQL? Explain SELECT with an example."
   ]
  },
  {
   "cell_type": "code",
   "execution_count": 4,
   "id": "668b9e0d",
   "metadata": {},
   "outputs": [],
   "source": [
    "# DQL is a subset of SQL (Structured Query Language) that deals with the retrieval of data from a database. \n",
    "\n",
    "# SELECT:Used to retrieve data from one or more tables in a database.\n",
    "# SELECT emp_id, emp_name, emp_salary FROM employees WHERE emp_department = 'IT';\n"
   ]
  },
  {
   "cell_type": "markdown",
   "id": "83db522c",
   "metadata": {},
   "source": [
    "Q5. Explain Primary Key and Foreign Key."
   ]
  },
  {
   "cell_type": "code",
   "execution_count": 6,
   "id": "44da6d05",
   "metadata": {},
   "outputs": [],
   "source": [
    "# A primary key is a unique identifier for a record in a database table.It uniquely identifies each row in the table and ensures \n",
    "# that there are no duplicate or null values in the column(s) designated as the primary key. \n",
    "\n",
    "# A foreign key is a field in a database table that is used to establish a link between two tables. It creates a relationship \n",
    "# between the tables by referencing the primary key of another table"
   ]
  },
  {
   "cell_type": "markdown",
   "id": "f450797e",
   "metadata": {},
   "source": [
    "Q6. Write a python code to connect MySQL to python. Explain the cursor() and execute() method."
   ]
  },
  {
   "cell_type": "code",
   "execution_count": 10,
   "id": "aacb3026",
   "metadata": {},
   "outputs": [],
   "source": [
    "# import mysql.connector\n",
    "# connection = mysql.connector.connect(\n",
    "#     host= \"your_host\",\n",
    "#     user= \"your_user\",\n",
    "#     password= \"your_password\",\n",
    "#     database= \"your_database\"\n",
    "# )\n",
    "# cursor = connection.cursor()\n",
    "# query = \"SELECT * FROM your_table;\"\n",
    "# cursor.execute(query)\n",
    "\n",
    "# The cursor() method is used to create a cursor object. The cursor is a handle or pointer that allows you to interact with the \n",
    "# MySQL database.\n",
    "# The execute() method is used to execute a MySQL query."
   ]
  },
  {
   "cell_type": "markdown",
   "id": "d548a9ee",
   "metadata": {},
   "source": [
    "Q7. Give the order of execution of SQL clauses in an SQL query."
   ]
  },
  {
   "cell_type": "code",
   "execution_count": 11,
   "id": "61f6e3ae",
   "metadata": {},
   "outputs": [],
   "source": [
    "# 1. SELECT specifies columns.\n",
    "# 2. FROM identifies tables.\n",
    "# 3. WHERE filters rows based on conditions.\n",
    "# 4. GROUP BY groups rows for aggregation.\n",
    "# 5. ORDER BY sorts the result set."
   ]
  },
  {
   "cell_type": "code",
   "execution_count": null,
   "id": "e59b7c27",
   "metadata": {},
   "outputs": [],
   "source": []
  }
 ],
 "metadata": {
  "kernelspec": {
   "display_name": "Python 3 (ipykernel)",
   "language": "python",
   "name": "python3"
  },
  "language_info": {
   "codemirror_mode": {
    "name": "ipython",
    "version": 3
   },
   "file_extension": ".py",
   "mimetype": "text/x-python",
   "name": "python",
   "nbconvert_exporter": "python",
   "pygments_lexer": "ipython3",
   "version": "3.10.9"
  }
 },
 "nbformat": 4,
 "nbformat_minor": 5
}
