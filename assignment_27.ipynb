{
 "cells": [
  {
   "cell_type": "markdown",
   "id": "918eea25",
   "metadata": {},
   "source": [
    "Q1. What are the three measures of central tendency?"
   ]
  },
  {
   "cell_type": "code",
   "execution_count": 1,
   "id": "b899871d",
   "metadata": {},
   "outputs": [],
   "source": [
    "# Measures of central tendency, including the mean, median, and mode, provide insights into the central location of a dataset. \n",
    "# The mean represents the average, the median indicates the middle value, and the mode identifies the most frequent value. "
   ]
  },
  {
   "cell_type": "markdown",
   "id": "40f35486",
   "metadata": {},
   "source": [
    "Q2. What is the difference between the mean, median, and mode? How are they used to measure the\n",
    "central tendency of a dataset?"
   ]
  },
  {
   "cell_type": "code",
   "execution_count": 2,
   "id": "5a6f8034",
   "metadata": {},
   "outputs": [],
   "source": [
    "# The mean calculates the balance point, considering all values equally.\n",
    "# The median identifies the middle value, disregarding extreme values and providing a robust measure for skewed data.\n",
    "# The mode highlights the most frequent value, emphasizing the dominant category or value in a dataset."
   ]
  },
  {
   "cell_type": "markdown",
   "id": "c9ebb78f",
   "metadata": {},
   "source": [
    "Q3. Measure the three measures of central tendency for the given height data:\n",
    "[178,177,176,177,178.2,178,175,179,180,175,178.9,176.2,177,172.5,178,176.5]"
   ]
  },
  {
   "cell_type": "code",
   "execution_count": 6,
   "id": "4177a2b6",
   "metadata": {},
   "outputs": [
    {
     "name": "stdout",
     "output_type": "stream",
     "text": [
      "Mean is:  177.01875\n",
      "the median is the average of the 8th and 9th values, which are both 179.5.\n",
      "mode is: 177,178\n"
     ]
    }
   ],
   "source": [
    "l=[178,177,176,177,178.2,178,175,179,180,175,178.9,176.2,177,172.5,178,176.5]\n",
    "mean = (178+177+176+177+178.2+178+175+179+180+175+178.9+176.2+177+172.5+178+176.5)/16\n",
    "print('Mean is: ',mean)\n",
    "print('the median is the average of the 8th and 9th values, which are both 179.5.')\n",
    "print('mode is: '+str(177)+',' +str(178))"
   ]
  },
  {
   "cell_type": "markdown",
   "id": "670c2b86",
   "metadata": {},
   "source": [
    "Q5. How are measures of dispersion such as range, variance, and standard deviation used to describe\n",
    "the spread of a dataset? Provide an example."
   ]
  },
  {
   "cell_type": "code",
   "execution_count": 7,
   "id": "cf5e09b7",
   "metadata": {},
   "outputs": [],
   "source": [
    "# Measures of variability, such as range, variance, and standard deviation, offer information about the spread or dispersion of \n",
    "# data points. The range is the difference between the maximum and minimum values, while variance and standard deviation \n",
    "# quantify the overall deviation of individual points from the mean. \n",
    "\n",
    "# Consider two datasets of daily temperatures in Celsius for two cities:\n",
    "# City A: 15,16,14,15,17\n",
    "# City B: 10,30,12,18,13\n",
    "# City B has a higher range, variance, and standard deviation, indicating a more variable climate compared to the relatively \n",
    "# consistent temperatures in City A. These measures help quantify and compare the spread of data, providing valuable insights\n",
    "# for analysis and interpretation."
   ]
  },
  {
   "cell_type": "markdown",
   "id": "d8264fd2",
   "metadata": {},
   "source": [
    "Q6. What is a Venn diagram?"
   ]
  },
  {
   "cell_type": "code",
   "execution_count": 8,
   "id": "83bd8bf2",
   "metadata": {},
   "outputs": [],
   "source": [
    "# A Venn diagram is a visual representation of the relationships between different sets or groups. It consists of overlapping \n",
    "# circles or ellipses, each representing a specific set, and the overlapping regions indicate elements that belong to multiple\n",
    "# sets. "
   ]
  },
  {
   "cell_type": "markdown",
   "id": "30a0a8d2",
   "metadata": {},
   "source": [
    "Q7. For the two given sets A = (2,3,4,5,6,7) & B = (0,2,6,8,10). Find:\n",
    "(i) A intersection B\n",
    "(ii) A ⋃ B"
   ]
  },
  {
   "cell_type": "code",
   "execution_count": 10,
   "id": "748e0646",
   "metadata": {},
   "outputs": [
    {
     "name": "stdout",
     "output_type": "stream",
     "text": [
      "union {0, 2, 3, 4, 5, 6, 7, 8, 10}\n",
      "intersection {2, 6}\n"
     ]
    }
   ],
   "source": [
    "A = (2,3,4,5,6,7) \n",
    "B = (0,2,6,8,10)\n",
    "a = set(A)\n",
    "b=set(B)\n",
    "print('union',a.union(b))\n",
    "print('intersection',a.intersection(b))"
   ]
  },
  {
   "cell_type": "markdown",
   "id": "4ba88bd7",
   "metadata": {},
   "source": [
    "Q8. What do you understand about skewness in data?"
   ]
  },
  {
   "cell_type": "code",
   "execution_count": 11,
   "id": "3b47477f",
   "metadata": {},
   "outputs": [],
   "source": [
    "# Skewness is a statistical measure that describes the asymmetry or departure from symmetry in a probability distribution. \n",
    "# In the context of data analysis, skewness refers to the degree and direction of skew (tilt) in the distribution of a dataset."
   ]
  },
  {
   "cell_type": "markdown",
   "id": "4702d21a",
   "metadata": {},
   "source": [
    "Q9. If a data is right skewed then what will be the position of median with respect to mean?"
   ]
  },
  {
   "cell_type": "code",
   "execution_count": 12,
   "id": "8827a1d5",
   "metadata": {},
   "outputs": [],
   "source": [
    "# The tail on the right side is longer, indicating the presence of more extreme values on the higher end of the data.\n",
    "# The mean is influenced by these higher values, causing it to be pulled towards the longer tail.\n",
    "# Consequently, the mean will be greater than the median."
   ]
  },
  {
   "cell_type": "markdown",
   "id": "00218e21",
   "metadata": {},
   "source": [
    "Q10. Explain the difference between covariance and correlation. How are these measures used in\n",
    "statistical analysis?"
   ]
  },
  {
   "cell_type": "code",
   "execution_count": 13,
   "id": "e354c81f",
   "metadata": {},
   "outputs": [],
   "source": [
    "# Covariance measures the degree to which two variables change together. It indicates whether an increase in one variable is \n",
    "# associated with an increase or decrease in another. A positive covariance suggests a positive relationship, while a negative \n",
    "# covariance suggests a negative relationship.\n",
    "# Correlation is a standardized measure of the strength and direction of the linear relationship between two variables.\n",
    "# It ranges from -1 to 1, where -1 indicates a perfect negative linear relationship, 1 indicates a perfect positive linear\n",
    "# relationship, and 0 indicates no linear relationship."
   ]
  },
  {
   "cell_type": "markdown",
   "id": "c246f66d",
   "metadata": {},
   "source": [
    "Q11. What is the formula for calculating the sample mean? Provide an example calculation for a\n",
    "dataset."
   ]
  },
  {
   "cell_type": "code",
   "execution_count": 16,
   "id": "30f96925",
   "metadata": {},
   "outputs": [],
   "source": [
    "# The formula for calculating the sample mean (x bar)is:\n",
    "# x bar = (summition from i =1 to n xi)/n\n",
    "\n",
    "# To illustrate with an example:\n",
    "\n",
    "# Consider the dataset: [10, 15, 12, 18, 20]\n",
    "\n",
    "# To calculate the sample mean :\n",
    "\n",
    "# x bar= (10 + 15 + 12 + 18 + 20)/5\n",
    "\n",
    "# x bar = 75/5\n",
    "\n",
    "# x bar= 15 \n",
    "\n",
    "# So, the sample mean for this dataset is 15."
   ]
  },
  {
   "cell_type": "markdown",
   "id": "84322cde",
   "metadata": {},
   "source": [
    "Q12. For a normal distribution data what is the relationship between its measure of central tendency?"
   ]
  },
  {
   "cell_type": "code",
   "execution_count": 17,
   "id": "d9395a08",
   "metadata": {},
   "outputs": [],
   "source": [
    "# for a normal distribution, the mean, median, and mode are all centered at the same point, creating a symmetrical bell-shaped \n",
    "# curve."
   ]
  },
  {
   "cell_type": "markdown",
   "id": "f5b560cb",
   "metadata": {},
   "source": [
    "Q13. How is covariance different from correlation? "
   ]
  },
  {
   "cell_type": "code",
   "execution_count": 18,
   "id": "da0f2b3b",
   "metadata": {},
   "outputs": [],
   "source": [
    "# Covariance measures the degree and direction of the linear relationship between two variables, but it is not standardized and \n",
    "# is influenced by the scale of the variables. Correlation, on the other hand, is a standardized measure that ranges from -1 to \n",
    "# 1, providing a more interpretable comparison of the strength and direction of linear relationships, unaffected by variable \n",
    "# scales."
   ]
  },
  {
   "cell_type": "markdown",
   "id": "901d1af1",
   "metadata": {},
   "source": [
    "Q14. How do outliers affect measures of central tendency and dispersion? Provide an example."
   ]
  },
  {
   "cell_type": "code",
   "execution_count": 19,
   "id": "e20376cc",
   "metadata": {},
   "outputs": [],
   "source": [
    "# Example:\n",
    "# Consider the dataset: \n",
    "# 10,15,12,18,20,200\n",
    "# Mean: Without the outlier, the mean is \n",
    "# (10+15+12+18+20)/5=15. \n",
    "\n",
    "# With the outlier, it becomes \n",
    "# (10+15+12+18+20+200)/6=45.83.\n",
    "\n",
    "# Median: Without the outlier, the median is 15. With the outlier, it remains 15.\n",
    "    \n",
    "# Range: Without the outlier, the range is \n",
    "# 20−10=10. \n",
    "\n",
    "# With the outlier, it becomes \n",
    "# 200−10=190.\n",
    "\n",
    "# Variance/Standard Deviation: Without the outlier, these measures are smaller. With the outlier, they increase significantly."
   ]
  },
  {
   "cell_type": "code",
   "execution_count": null,
   "id": "ffe7c651",
   "metadata": {},
   "outputs": [],
   "source": []
  }
 ],
 "metadata": {
  "kernelspec": {
   "display_name": "Python 3 (ipykernel)",
   "language": "python",
   "name": "python3"
  },
  "language_info": {
   "codemirror_mode": {
    "name": "ipython",
    "version": 3
   },
   "file_extension": ".py",
   "mimetype": "text/x-python",
   "name": "python",
   "nbconvert_exporter": "python",
   "pygments_lexer": "ipython3",
   "version": "3.10.9"
  }
 },
 "nbformat": 4,
 "nbformat_minor": 5
}
