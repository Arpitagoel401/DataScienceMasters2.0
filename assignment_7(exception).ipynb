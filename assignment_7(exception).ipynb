{
 "cells": [
  {
   "cell_type": "markdown",
   "id": "2815860f",
   "metadata": {},
   "source": [
    "Q1. What is an Exception in python? Write the difference between Exceptions and \n",
    "syntax errors."
   ]
  },
  {
   "cell_type": "code",
   "execution_count": 1,
   "id": "1cece669",
   "metadata": {},
   "outputs": [
    {
     "name": "stdout",
     "output_type": "stream",
     "text": [
      "division by zero\n"
     ]
    }
   ],
   "source": [
    "#Exception is an event that occurs during the execution of a program and disrupts the normal flow of the program's instructions.\n",
    "# When a Python script encounters a situation that it cannot cope with, it raises an exception.\n",
    "#Exceptions are typically handled using try and except blocks. \n",
    "\n",
    "#Syntax errors are different from exceptions. Syntax errors occur when the Python interpreter encounters code that violates the \n",
    "# Python language rules. These errors prevent the script from executing at all. They are usually detected by the interpreter .\n",
    "# Examples of syntax errors include missing colons, mismatched parentheses\n",
    "\n",
    "try:\n",
    "    10/0\n",
    "except Exception as e:\n",
    "    print(e)\n",
    "\n"
   ]
  },
  {
   "cell_type": "markdown",
   "id": "78337dba",
   "metadata": {},
   "source": [
    "Q2. What happens when an exception is not handled? Explain with an example."
   ]
  },
  {
   "cell_type": "code",
   "execution_count": 3,
   "id": "c92adc56",
   "metadata": {},
   "outputs": [
    {
     "ename": "ZeroDivisionError",
     "evalue": "division by zero",
     "output_type": "error",
     "traceback": [
      "\u001b[1;31m---------------------------------------------------------------------------\u001b[0m",
      "\u001b[1;31mZeroDivisionError\u001b[0m                         Traceback (most recent call last)",
      "Cell \u001b[1;32mIn[3], line 15\u001b[0m\n\u001b[0;32m     12\u001b[0m     \u001b[38;5;28;01mexcept\u001b[39;00m \u001b[38;5;167;01mValueError\u001b[39;00m \u001b[38;5;28;01mas\u001b[39;00m e:\n\u001b[0;32m     13\u001b[0m         \u001b[38;5;28mprint\u001b[39m(\u001b[38;5;124mf\u001b[39m\u001b[38;5;124m\"\u001b[39m\u001b[38;5;124mCaught an exception: \u001b[39m\u001b[38;5;132;01m{\u001b[39;00me\u001b[38;5;132;01m}\u001b[39;00m\u001b[38;5;124m\"\u001b[39m)\n\u001b[1;32m---> 15\u001b[0m \u001b[43mmain\u001b[49m\u001b[43m(\u001b[49m\u001b[43m)\u001b[49m\n",
      "Cell \u001b[1;32mIn[3], line 10\u001b[0m, in \u001b[0;36mmain\u001b[1;34m()\u001b[0m\n\u001b[0;32m      8\u001b[0m \u001b[38;5;28;01mdef\u001b[39;00m \u001b[38;5;21mmain\u001b[39m():\n\u001b[0;32m      9\u001b[0m     \u001b[38;5;28;01mtry\u001b[39;00m:\n\u001b[1;32m---> 10\u001b[0m         c \u001b[38;5;241m=\u001b[39m \u001b[43mdivide\u001b[49m\u001b[43m(\u001b[49m\u001b[38;5;241;43m10\u001b[39;49m\u001b[43m,\u001b[49m\u001b[43m \u001b[49m\u001b[38;5;241;43m0\u001b[39;49m\u001b[43m)\u001b[49m  \u001b[38;5;66;03m# ZeroDivisionError\u001b[39;00m\n\u001b[0;32m     11\u001b[0m         \u001b[38;5;28mprint\u001b[39m(\u001b[38;5;124mf\u001b[39m\u001b[38;5;124m\"\u001b[39m\u001b[38;5;124mResult: \u001b[39m\u001b[38;5;132;01m{\u001b[39;00mc\u001b[38;5;132;01m}\u001b[39;00m\u001b[38;5;124m\"\u001b[39m)\n\u001b[0;32m     12\u001b[0m     \u001b[38;5;28;01mexcept\u001b[39;00m \u001b[38;5;167;01mValueError\u001b[39;00m \u001b[38;5;28;01mas\u001b[39;00m e:\n",
      "Cell \u001b[1;32mIn[3], line 5\u001b[0m, in \u001b[0;36mdivide\u001b[1;34m(a, b)\u001b[0m\n\u001b[0;32m      4\u001b[0m \u001b[38;5;28;01mdef\u001b[39;00m \u001b[38;5;21mdivide\u001b[39m(a, b):\n\u001b[1;32m----> 5\u001b[0m     c \u001b[38;5;241m=\u001b[39m \u001b[43ma\u001b[49m\u001b[43m \u001b[49m\u001b[38;5;241;43m/\u001b[39;49m\u001b[43m \u001b[49m\u001b[43mb\u001b[49m\n\u001b[0;32m      6\u001b[0m     \u001b[38;5;28;01mreturn\u001b[39;00m c\n",
      "\u001b[1;31mZeroDivisionError\u001b[0m: division by zero"
     ]
    }
   ],
   "source": [
    "# If the exception is not handled, the program will terminate, and an error message will be displayed, providing information\n",
    "# about the unhandled exception.\n",
    "\n",
    "def divide(a, b):\n",
    "    c = a / b\n",
    "    return c\n",
    "\n",
    "def main():\n",
    "    try:\n",
    "        c = divide(10, 0)  # ZeroDivisionError\n",
    "        print(f\"Result: {c}\")\n",
    "    except ValueError as e:\n",
    "        print(f\"Caught an exception: {e}\")\n",
    "\n",
    "if __name__ == \"__main__\":\n",
    "    main()\n"
   ]
  },
  {
   "cell_type": "markdown",
   "id": "ac1392d2",
   "metadata": {},
   "source": [
    "Q3. Which Python statements are used to catch and handle exceptions? Explain with an example."
   ]
  },
  {
   "cell_type": "code",
   "execution_count": 4,
   "id": "7ea1d039",
   "metadata": {},
   "outputs": [
    {
     "name": "stdout",
     "output_type": "stream",
     "text": [
      "division by zero\n",
      "it is a finally block\n"
     ]
    }
   ],
   "source": [
    "# In Python, the try, except, else, and finally statements are used to catch and handle exceptions. \n",
    "# try block contains the code that might raise an exception.\n",
    "# except block is executed if an exception occurs in the corresponding try block. You can catch specific exceptions or catch a general Exception to handle any unexpected errors.\n",
    "# else block is executed if no exception occurs in the try block\n",
    "# finally block contains code that will be executed regardless of whether an exception occurred or not. It is often used for cleanup operations.\n",
    "\n",
    "try:\n",
    "    10/0\n",
    "except Exception as e:\n",
    "    print(e)\n",
    "finally:\n",
    "    print('it is a finally block')"
   ]
  },
  {
   "cell_type": "markdown",
   "id": "2516a0a7",
   "metadata": {},
   "source": [
    "Q4. Explain with an example:\n",
    "a.try and else\n",
    "b.finally\n",
    "c.raise"
   ]
  },
  {
   "cell_type": "code",
   "execution_count": 8,
   "id": "8e71e180",
   "metadata": {},
   "outputs": [
    {
     "name": "stdout",
     "output_type": "stream",
     "text": [
      "there is no error in try block\n",
      "Else block is executed if no exception occurs.\n",
      "division by zero\n",
      "it is a finally block\n",
      "Hello, John!\n",
      "Error: Name should contain only alphabetical characters.\n"
     ]
    }
   ],
   "source": [
    "# try: The try block contains the code that might raise an exception.\n",
    "# else: The else block is executed if no exception occurs in the try block.\n",
    "\n",
    "try: \n",
    "    print('there is no error in try block')\n",
    "    \n",
    "except SomeException:\n",
    "    print('Exception handling code goes here.')\n",
    "else:\n",
    "    print('Else block is executed if no exception occurs.')\n",
    "\n",
    "\n",
    "# finally: The finally block contains code that will be executed regardless of whether an exception occurred or not. It is \n",
    "# often used for cleanup operations.\n",
    "\n",
    "try:\n",
    "    10/0\n",
    "except Exception as e:\n",
    "    print(e)\n",
    "finally:\n",
    "    print('it is a finally block')\n",
    "    \n",
    "# raise statement is used to deliberately raise an exception or error in your code. \n",
    "def greet(name):\n",
    "    if not name.isalpha():\n",
    "        raise ValueError(\"Name should contain only alphabetical characters.\")\n",
    "    else:\n",
    "        print(f\"Hello, {name}!\")\n",
    "\n",
    "try:\n",
    "    greet(\"John\")\n",
    "    greet(\"123\")  # This will raise a ValueError\n",
    "except ValueError as e:\n",
    "    print(f\"Error: {e}\")\n"
   ]
  },
  {
   "cell_type": "markdown",
   "id": "1e39fa66",
   "metadata": {},
   "source": [
    "Q5. What are Custom Exceptions in python? Why do we need Custom Exceptions? Explain with an example"
   ]
  },
  {
   "cell_type": "code",
   "execution_count": 10,
   "id": "e6172fc1",
   "metadata": {},
   "outputs": [
    {
     "name": "stdout",
     "output_type": "stream",
     "text": [
      "Caught an exception: Negative values are not allowed\n"
     ]
    }
   ],
   "source": [
    "# Custom exceptions in Python refer to user-defined exceptions\n",
    "# Creating custom exceptions allows you to define your own application-specific errors or exceptional conditions. \n",
    "# This can make your code more readable, maintainable.\n",
    "\n",
    "\n",
    "def test(value):\n",
    "    if value < 0:\n",
    "        raise ValueError(\"Negative values are not allowed\")\n",
    "\n",
    "try:\n",
    "    test(-5)\n",
    "except ValueError as e:\n",
    "    print(f\"Caught an exception: {e}\")\n",
    "else:\n",
    "    print(\"No exception occurred\")\n"
   ]
  },
  {
   "cell_type": "markdown",
   "id": "c94176e7",
   "metadata": {},
   "source": [
    "Q6. Create custom exception class. Use this clss to handle an exception."
   ]
  },
  {
   "cell_type": "code",
   "execution_count": 17,
   "id": "c05d99ba",
   "metadata": {},
   "outputs": [
    {
     "name": "stdout",
     "output_type": "stream",
     "text": [
      "Caught an exception: Negative values are not allowed plz enter positive value\n"
     ]
    }
   ],
   "source": [
    "class mycustomerror(Exception):\n",
    "    pass\n",
    "\n",
    "def test(value):\n",
    "    if value < 0:\n",
    "        raise mycustomerror(\"Negative values are not allowed plz enter positive value\")\n",
    "\n",
    "try:\n",
    "    test(-3)\n",
    "\n",
    "except mycustomerror as e:\n",
    "    print(f\"Caught an exception: {e}\")\n",
    "else:\n",
    "    print(\"No exception occurred\")\n",
    "    "
   ]
  },
  {
   "cell_type": "code",
   "execution_count": null,
   "id": "a7f61a60",
   "metadata": {},
   "outputs": [],
   "source": []
  }
 ],
 "metadata": {
  "kernelspec": {
   "display_name": "Python 3 (ipykernel)",
   "language": "python",
   "name": "python3"
  },
  "language_info": {
   "codemirror_mode": {
    "name": "ipython",
    "version": 3
   },
   "file_extension": ".py",
   "mimetype": "text/x-python",
   "name": "python",
   "nbconvert_exporter": "python",
   "pygments_lexer": "ipython3",
   "version": "3.10.9"
  }
 },
 "nbformat": 4,
 "nbformat_minor": 5
}
