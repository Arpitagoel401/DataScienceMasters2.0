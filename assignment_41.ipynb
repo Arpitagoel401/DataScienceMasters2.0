{
 "cells": [
  {
   "cell_type": "markdown",
   "id": "00935b15",
   "metadata": {},
   "source": [
    "Q1. What is the difference between Ordinal Encoding and Label Encoding? Provide an example of when you\n",
    "might choose one over the other."
   ]
  },
  {
   "cell_type": "code",
   "execution_count": 1,
   "id": "ba191fdb",
   "metadata": {},
   "outputs": [],
   "source": [
    "# Ordinal encoding is a type of encoding applied to categorical data where the categories have a meaningful order or ranking.\n",
    "# example : temperature(low,medium,high)\n",
    "# Label encoding is a more general term that refers to converting categorical data into numerical labels.\n",
    "# example : categories of flowers"
   ]
  },
  {
   "cell_type": "markdown",
   "id": "d9213f0c",
   "metadata": {},
   "source": [
    "Q2. Explain how Target Guided Ordinal Encoding works and provide an example of when you might use it in\n",
    "a machine learning project."
   ]
  },
  {
   "cell_type": "code",
   "execution_count": 2,
   "id": "0d393877",
   "metadata": {},
   "outputs": [],
   "source": [
    "# Target Guided Ordinal Encoding is a technique used to encode categorical variables based on the relationship between the \n",
    "# categories and the target variable\n",
    "# when we have large categories in our categorical data then we this method"
   ]
  },
  {
   "cell_type": "markdown",
   "id": "36e1a075-c90c-4e40-bb6d-1795d2cb057e",
   "metadata": {},
   "source": [
    "Q3. Define covariance and explain why it is important in statistical analysis. How is covariance calculated?"
   ]
  },
  {
   "cell_type": "code",
   "execution_count": 1,
   "id": "8e5b3df7-7ec1-4b7e-abb9-cc478d00f766",
   "metadata": {},
   "outputs": [],
   "source": [
    "# Covariance is a statistical measure that quantifies the degree to which two random variables change together. \n",
    "# Covariance is important in statistical analysis for several reasons:\n",
    "# Relationship Assessment\n",
    "# Regression Analysis\n",
    "# Multivariate Analysis\n",
    "# Covariance between two variables, X and Y, is calculated using the following formula:\n",
    "# Cov(X,Y)= (∑ i=1 to n (xi - xbar)(yi -ybar) )/n-1"
   ]
  },
  {
   "cell_type": "markdown",
   "id": "1756b913-3a16-484f-bd1f-1920cec2cbaf",
   "metadata": {},
   "source": [
    "Q4. For a dataset with the following categorical variables: Color (red, green, blue), Size (small, medium,\n",
    "large), and Material (wood, metal, plastic), perform label encoding using Python's scikit-learn library.\n",
    "Show your code and explain the output."
   ]
  },
  {
   "cell_type": "code",
   "execution_count": 3,
   "id": "d5a387cf-51ce-42e8-ad95-f66caa972bff",
   "metadata": {},
   "outputs": [
    {
     "name": "stdout",
     "output_type": "stream",
     "text": [
      "Encoded Dataset:\n",
      "   Color  Size  Material\n",
      "0      2     2         2\n",
      "1      1     1         0\n",
      "2      0     0         1\n",
      "3      2     2         2\n",
      "4      0     1         1\n",
      "\n",
      "Label Encoders:\n",
      "Color: {'blue': 0, 'green': 1, 'red': 2}\n",
      "Size: {'large': 0, 'medium': 1, 'small': 2}\n",
      "Material: {'metal': 0, 'plastic': 1, 'wood': 2}\n"
     ]
    }
   ],
   "source": [
    "from sklearn.preprocessing import LabelEncoder\n",
    "import pandas as pd\n",
    "data = {\n",
    "    'Color': ['red', 'green', 'blue', 'red', 'blue'],\n",
    "    'Size': ['small', 'medium', 'large', 'small', 'medium'],\n",
    "    'Material': ['wood', 'metal', 'plastic', 'wood', 'plastic']\n",
    "}\n",
    "df = pd.DataFrame(data)\n",
    "\n",
    "label_encoders = {}\n",
    "for column in df.columns:\n",
    "    le = LabelEncoder()\n",
    "    df[column] = le.fit_transform(df[column])\n",
    "    label_encoders[column] = le\n",
    "print(\"Encoded Dataset:\")\n",
    "print(df)\n",
    "\n",
    "print(\"\\nLabel Encoders:\")\n",
    "for column, le in label_encoders.items():\n",
    "    print(f\"{column}: {dict(zip(le.classes_, le.transform(le.classes_)))}\")\n"
   ]
  },
  {
   "cell_type": "markdown",
   "id": "8651b796-b972-4e05-a159-71d0d5e554e7",
   "metadata": {},
   "source": [
    "Q5. Calculate the covariance matrix for the following variables in a dataset: Age, Income, and Education\n",
    "level. Interpret the results."
   ]
  },
  {
   "cell_type": "code",
   "execution_count": 4,
   "id": "266c13cd-fd66-4231-bc72-ad857893f549",
   "metadata": {},
   "outputs": [
    {
     "name": "stdout",
     "output_type": "stream",
     "text": [
      "Covariance Matrix:\n",
      "[[3.530e+01 7.575e+04 1.000e+00]\n",
      " [7.575e+04 1.675e+08 0.000e+00]\n",
      " [1.000e+00 0.000e+00 5.000e+00]]\n"
     ]
    }
   ],
   "source": [
    "import numpy as np\n",
    "\n",
    "data = {\n",
    "    'Age': [25, 30, 35, 28, 40],\n",
    "    'Income': [50000, 60000, 75000, 55000, 80000],\n",
    "    'Education': [12, 16, 14, 18, 15]\n",
    "}\n",
    "\n",
    "X = np.array([data['Age'], data['Income'], data['Education']])\n",
    "\n",
    "# Calculate the covariance matrix\n",
    "covariance_matrix = np.cov(X)\n",
    "\n",
    "# Display the covariance matrix\n",
    "print(\"Covariance Matrix:\")\n",
    "print(covariance_matrix)\n"
   ]
  },
  {
   "cell_type": "markdown",
   "id": "5a8087c0-755a-4365-8ce4-2325661106be",
   "metadata": {},
   "source": [
    "Q6. You are working on a machine learning project with a dataset containing several categorical\n",
    "variables, including \"Gender\" (Male/Female), \"Education Level\" (High School/Bachelor's/Master's/PhD),\n",
    "and \"Employment Status\" (Unemployed/Part-Time/Full-Time). Which encoding method would you use for\n",
    "each variable, and why?"
   ]
  },
  {
   "cell_type": "code",
   "execution_count": 6,
   "id": "d940b370-f455-4d8e-821c-652baee3dfce",
   "metadata": {},
   "outputs": [],
   "source": [
    "# Gender (Binary):Binary Encoding or One-Hot Encoding\n",
    "# Explanation:\n",
    "#For binary categorical variables like \"Gender,\" you can use binary encoding (0 or 1) or one-hot encoding (creating two binary columns, one for Male and \n",
    "# one for Female).\n",
    "# Education Level (Ordinal):Ordinal Encoding or One-Hot Encoding\n",
    "# Explanation:\n",
    "#For ordinal categorical variables like \"Education Level,\" where there is a clear order (High School < Bachelor's < Master's < PhD), you can use ordinal \n",
    "# encoding or one-hot encoding.\n",
    "# Employment Status (Nominal):One-Hot Encoding\n",
    "# Explanation:\n",
    "# For nominal categorical variables like \"Employment Status,\" where there is no inherent order, one-hot encoding is commonly used.\n"
   ]
  },
  {
   "cell_type": "markdown",
   "id": "097d1320-7d53-479c-b66b-3e294d7b44f9",
   "metadata": {},
   "source": [
    "Q7. You are analyzing a dataset with two continuous variables, \"Temperature\" and \"Humidity\", and two\n",
    "categorical variables, \"Weather Condition\" (Sunny/Cloudy/Rainy) and \"Wind Direction\" (North/South/\n",
    "East/West). Calculate the covariance between each pair of variables and interpret the results."
   ]
  },
  {
   "cell_type": "code",
   "execution_count": 7,
   "id": "dc0fca0d-b7c8-44eb-9e9c-31ed0a208213",
   "metadata": {},
   "outputs": [
    {
     "name": "stdout",
     "output_type": "stream",
     "text": [
      "Covariance Matrix:\n",
      "[[ 5.  13. ]\n",
      " [13.  35.3]]\n"
     ]
    }
   ],
   "source": [
    "import numpy as np\n",
    "data = {\n",
    "    'Temperature': [25, 28, 22, 26, 24],\n",
    "    'Humidity': [50, 60, 45, 55, 48],\n",
    "}\n",
    "\n",
    "X = np.array([data['Temperature'], data['Humidity']])\n",
    "\n",
    "# Calculate the covariance matrix\n",
    "covariance_matrix = np.cov(X)\n",
    "\n",
    "# Display the covariance matrix\n",
    "print(\"Covariance Matrix:\")\n",
    "print(covariance_matrix)\n"
   ]
  },
  {
   "cell_type": "code",
   "execution_count": null,
   "id": "2a09ee0b-ebd3-47a0-bd1c-a279d6ba1b7a",
   "metadata": {},
   "outputs": [],
   "source": []
  }
 ],
 "metadata": {
  "kernelspec": {
   "display_name": "Python 3 (ipykernel)",
   "language": "python",
   "name": "python3"
  },
  "language_info": {
   "codemirror_mode": {
    "name": "ipython",
    "version": 3
   },
   "file_extension": ".py",
   "mimetype": "text/x-python",
   "name": "python",
   "nbconvert_exporter": "python",
   "pygments_lexer": "ipython3",
   "version": "3.11.7"
  }
 },
 "nbformat": 4,
 "nbformat_minor": 5
}
