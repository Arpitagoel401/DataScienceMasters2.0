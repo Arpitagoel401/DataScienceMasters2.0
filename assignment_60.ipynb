{
 "cells": [
  {
   "cell_type": "markdown",
   "id": "1e85a7fe-5f87-4ae9-b36e-0a46aac3df68",
   "metadata": {},
   "source": [
    "#### Q1. A company conducted a survey of its employees and found that 70% of the employees use the company's health insurance plan, while 40% of the employees who use the plan are smokers. What is the probability that an employee is a smoker given that he/she uses the health insurance plan?\n"
   ]
  },
  {
   "cell_type": "markdown",
   "id": "48e36f1d-8e20-4e67-8275-fd8f3d120664",
   "metadata": {},
   "source": [
    "Let:\n",
    "\n",
    "\n",
    "P(S) be the probability of being a smoker.\n",
    "\n",
    "P(H) be the probability of using the health insurance plan.\n",
    "\n",
    "P(S∣H) be the probability of being a smoker given that the employee uses the health insurance plan.\n",
    "From the given data:\n",
    "\n",
    "\n",
    "P(H)=0.70 (70% of employees use the health insurance plan).\n",
    "\n",
    "P(S∣H)=0.40 (40% of employees who use the plan are smokers).\n",
    "We can use Bayes' theorem to calculate \n",
    "\n",
    "P(S∣H):\n",
    "\n",
    "P(S∣H)= \n",
    "P(H)\n",
    "P(H∣S)×P(S)\n",
    "​\n",
    " \n",
    "\n",
    "But \n",
    "\n",
    "P(H∣S) (probability of using the health insurance plan given that the employee is a smoker) is not provided. However, we can compute it using Bayes' theorem:\n",
    "\n",
    "P(H∣S)= \n",
    "P(S)\n",
    "P(S∣H)×P(H)\n",
    "​\n",
    " \n",
    "\n",
    "Where:\n",
    "\n",
    "\n",
    "P(S) is the overall probability of being a smoker.\n",
    "\n",
    "P(S)=0.70 (given that 70% of employees use the health insurance plan).\n",
    "\n",
    "P(H) is the overall probability of using the health insurance plan.\n",
    "\n",
    "P(H)=0.40 (given that 40% of the employees who use the plan are smokers).\n",
    "Let's compute \n",
    "\n",
    "P(S∣H):\n",
    "\n",
    "P(S∣H)= \n",
    "P(H)\n",
    "P(S)×P(H∣S)\n",
    "​\n",
    " \n",
    "\n",
    "P(S∣H)= \n",
    "0.70\n",
    "0.70×0.40\n",
    "​\n",
    " =0.40\n",
    "\n",
    "Therefore, the probability that an employee is a smoker given that he/she uses the health insurance plan is 0.40\n"
   ]
  },
  {
   "cell_type": "markdown",
   "id": "64d073dc-d294-4e1a-9757-060022bfaaae",
   "metadata": {},
   "source": [
    "#### Q2. What is the difference between Bernoulli Naive Bayes and Multinomial Naive Bayes?\n"
   ]
  },
  {
   "cell_type": "markdown",
   "id": "9a5fe3fd-c06a-4a8b-b019-17bd5f8bacec",
   "metadata": {},
   "source": [
    "Bernoulli Naive Bayes: Assumes that features are binary-valued (e.g., occurrences of words in a document).\n",
    "Multinomial Naive Bayes: Assumes that features represent counts (e.g., frequency of words in a document)."
   ]
  },
  {
   "cell_type": "markdown",
   "id": "5de6add4-7221-4713-bd20-2b4ea8a7135c",
   "metadata": {},
   "source": [
    "#### Q3. How does Bernoulli Naive Bayes handle missing values?\n"
   ]
  },
  {
   "cell_type": "markdown",
   "id": "7fda4122-e9e7-49b1-90f8-f333ed6a05c1",
   "metadata": {},
   "source": [
    "Bernoulli Naive Bayes treats missing values as if they were non-occurrences. In other words, missing values are considered as the absence of a feature."
   ]
  },
  {
   "cell_type": "markdown",
   "id": "bae440ac-9a07-4ffe-a121-5ef5ce5dde79",
   "metadata": {},
   "source": [
    "#### Q4. Can Gaussian Naive Bayes be used for multi-class classification?\n"
   ]
  },
  {
   "cell_type": "markdown",
   "id": "8f5e906c-f43c-4828-9dcc-f271ccedc9f3",
   "metadata": {},
   "source": [
    "Yes, Gaussian Naive Bayes can be used for multi-class classification. It assumes that features follow a Gaussian (normal) distribution and calculates the likelihood of each class using the probability density function of the Gaussian distribution."
   ]
  },
  {
   "cell_type": "markdown",
   "id": "ccb6b75f-d943-4c38-90e5-c8d1e9bf8436",
   "metadata": {},
   "source": [
    "Q5. Assignment:\n",
    "\n",
    "Data preparation:\n",
    "\n",
    "Download the \"Spambase Data Set\" from the UCI Machine Learning Repository (https://archive.ics.uci.edu/ml/\n",
    "datasets/Spambase). This dataset contains email messages, where the goal is to predict whether a message\n",
    "is spam or not based on several input features.\n",
    "\n",
    "Implementation:\n",
    "\n",
    "Implement Bernoulli Naive Bayes, Multinomial Naive Bayes, and Gaussian Naive Bayes classifiers using the\n",
    "scikit-learn library in Python. Use 10-fold cross-validation to evaluate the performance of each classifier on the\n",
    "dataset. You should use the default hyperparameters for each classifier.\n",
    "\n",
    "Results:\n",
    "\n",
    "Report the following performance metrics for each classifier:\n",
    "Accuracy\n",
    "Precision\n",
    "Recall\n",
    "F1 score\n",
    "\n",
    "Discussion:\n",
    "\n",
    "Discuss the results you obtained. Which variant of Naive Bayes performed the best? Why do you think that is\n",
    "the case? Are there any limitations of Naive Bayes that you observed?\n",
    "\n",
    "Conclusion:\n",
    "\n",
    "Summarise your findings and provide some suggestions for future work."
   ]
  },
  {
   "cell_type": "code",
   "execution_count": 1,
   "id": "902ed48a-d360-4526-acf2-11dfa318923e",
   "metadata": {},
   "outputs": [
    {
     "name": "stdout",
     "output_type": "stream",
     "text": [
      "Performance Metrics:\n",
      "Bernoulli Naive Bayes:\n",
      "Accuracy: 0.8839380364047911\n",
      "Precision: 0.8869617393737383\n",
      "Recall: 0.8152389047416673\n",
      "F1 Score: 0.8481249015095276\n",
      "\n",
      "Multinomial Naive Bayes:\n",
      "Accuracy: 0.7863496180326323\n",
      "Precision: 0.7393175533565436\n",
      "Recall: 0.7214983911116508\n",
      "F1 Score: 0.7282909724016348\n",
      "\n",
      "Gaussian Naive Bayes:\n",
      "Accuracy: 0.8217730830896915\n",
      "Precision: 0.7103733928118492\n",
      "Recall: 0.9569516119239877\n",
      "F1 Score: 0.8130660909542995\n"
     ]
    }
   ],
   "source": [
    "import numpy as np\n",
    "import pandas as pd\n",
    "from sklearn.model_selection import cross_val_score\n",
    "from sklearn.naive_bayes import BernoulliNB, MultinomialNB, GaussianNB\n",
    "from sklearn.metrics import accuracy_score, precision_score, recall_score, f1_score\n",
    "\n",
    "# Load the dataset\n",
    "url = \"https://archive.ics.uci.edu/ml/machine-learning-databases/spambase/spambase.data\"\n",
    "names = [\"word_freq_make\", \"word_freq_address\", \"word_freq_all\", \"word_freq_3d\", \"word_freq_our\",\n",
    "         \"word_freq_over\", \"word_freq_remove\", \"word_freq_internet\", \"word_freq_order\", \"word_freq_mail\",\n",
    "         \"word_freq_receive\", \"word_freq_will\", \"word_freq_people\", \"word_freq_report\", \"word_freq_addresses\",\n",
    "         \"word_freq_free\", \"word_freq_business\", \"word_freq_email\", \"word_freq_you\", \"word_freq_credit\",\n",
    "         \"word_freq_your\", \"word_freq_font\", \"word_freq_000\", \"word_freq_money\", \"word_freq_hp\", \"word_freq_hpl\",\n",
    "         \"word_freq_george\", \"word_freq_650\", \"word_freq_lab\", \"word_freq_labs\", \"word_freq_telnet\",\n",
    "         \"word_freq_857\", \"word_freq_data\", \"word_freq_415\", \"word_freq_85\", \"word_freq_technology\",\n",
    "         \"word_freq_1999\", \"word_freq_parts\", \"word_freq_pm\", \"word_freq_direct\", \"word_freq_cs\",\n",
    "         \"word_freq_meeting\", \"word_freq_original\", \"word_freq_project\", \"word_freq_re\", \"word_freq_edu\",\n",
    "         \"word_freq_table\", \"word_freq_conference\", \"char_freq_;\", \"char_freq_(\", \"char_freq_[\", \"char_freq_!\",\n",
    "         \"char_freq_$\", \"char_freq_#\", \"capital_run_length_average\", \"capital_run_length_longest\",\n",
    "         \"capital_run_length_total\", \"spam\"]\n",
    "data = pd.read_csv(url, names=names, header=None)\n",
    "\n",
    "# Split features and target\n",
    "X = data.iloc[:, :-1]\n",
    "y = data.iloc[:, -1]\n",
    "\n",
    "# Initialize classifiers\n",
    "bernoulli_nb = BernoulliNB()\n",
    "multinomial_nb = MultinomialNB()\n",
    "gaussian_nb = GaussianNB()\n",
    "\n",
    "# Initialize lists to store performance metrics\n",
    "accuracy_scores = []\n",
    "precision_scores = []\n",
    "recall_scores = []\n",
    "f1_scores = []\n",
    "\n",
    "# Perform 10-fold cross-validation\n",
    "for clf in [bernoulli_nb, multinomial_nb, gaussian_nb]:\n",
    "    accuracy = cross_val_score(clf, X, y, cv=10, scoring='accuracy')\n",
    "    precision = cross_val_score(clf, X, y, cv=10, scoring='precision')\n",
    "    recall = cross_val_score(clf, X, y, cv=10, scoring='recall')\n",
    "    f1 = cross_val_score(clf, X, y, cv=10, scoring='f1')\n",
    "    \n",
    "    accuracy_scores.append(np.mean(accuracy))\n",
    "    precision_scores.append(np.mean(precision))\n",
    "    recall_scores.append(np.mean(recall))\n",
    "    f1_scores.append(np.mean(f1))\n",
    "\n",
    "# Print performance metrics\n",
    "print(\"Performance Metrics:\")\n",
    "print(\"Bernoulli Naive Bayes:\")\n",
    "print(\"Accuracy:\", accuracy_scores[0])\n",
    "print(\"Precision:\", precision_scores[0])\n",
    "print(\"Recall:\", recall_scores[0])\n",
    "print(\"F1 Score:\", f1_scores[0])\n",
    "print(\"\\nMultinomial Naive Bayes:\")\n",
    "print(\"Accuracy:\", accuracy_scores[1])\n",
    "print(\"Precision:\", precision_scores[1])\n",
    "print(\"Recall:\", recall_scores[1])\n",
    "print(\"F1 Score:\", f1_scores[1])\n",
    "print(\"\\nGaussian Naive Bayes:\")\n",
    "print(\"Accuracy:\", accuracy_scores[2])\n",
    "print(\"Precision:\", precision_scores[2])\n",
    "print(\"Recall:\", recall_scores[2])\n",
    "print(\"F1 Score:\", f1_scores[2])\n"
   ]
  },
  {
   "cell_type": "code",
   "execution_count": null,
   "id": "5c51be66-d6c5-4267-b662-d9605fb1a475",
   "metadata": {},
   "outputs": [],
   "source": []
  }
 ],
 "metadata": {
  "kernelspec": {
   "display_name": "Python 3 (ipykernel)",
   "language": "python",
   "name": "python3"
  },
  "language_info": {
   "codemirror_mode": {
    "name": "ipython",
    "version": 3
   },
   "file_extension": ".py",
   "mimetype": "text/x-python",
   "name": "python",
   "nbconvert_exporter": "python",
   "pygments_lexer": "ipython3",
   "version": "3.11.7"
  }
 },
 "nbformat": 4,
 "nbformat_minor": 5
}
