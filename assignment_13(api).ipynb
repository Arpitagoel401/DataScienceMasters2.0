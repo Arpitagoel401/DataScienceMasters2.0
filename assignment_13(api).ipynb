{
 "cells": [
  {
   "cell_type": "markdown",
   "id": "82c1b977",
   "metadata": {},
   "source": [
    "Q1. What is an API? Give an example, where an API is used in real life."
   ]
  },
  {
   "cell_type": "code",
   "execution_count": 1,
   "id": "0c6ae7ce",
   "metadata": {},
   "outputs": [],
   "source": [
    "# API stands for Application Programming Interface. It is a set of rules and protocols that allows different software \n",
    "# applications to communicate with each other\n",
    "# An example of API usage in real life is in the context of web development. Consider a weather application on your smartphone. \n",
    "# This app may use a weather API to fetch current weather data from a remote server. "
   ]
  },
  {
   "cell_type": "markdown",
   "id": "213158e4",
   "metadata": {},
   "source": [
    "Q2. Give advantages and disadvantages of using API."
   ]
  },
  {
   "cell_type": "code",
   "execution_count": 2,
   "id": "142d89a6",
   "metadata": {},
   "outputs": [],
   "source": [
    "# Advantages of using APIs:\n",
    "\n",
    "# Interoperability,Efficiency,Scalability,Innovation,Security\n",
    "\n",
    "# Disadvantages of using APIs:\n",
    "\n",
    "# Dependency,Limited Control,Data Privacy Concerns,Costs,Versioning Challenges"
   ]
  },
  {
   "cell_type": "markdown",
   "id": "64b55353",
   "metadata": {},
   "source": [
    "Q3. What is a Web API? Differentiate between API and Web API."
   ]
  },
  {
   "cell_type": "code",
   "execution_count": 3,
   "id": "dc14194c",
   "metadata": {},
   "outputs": [],
   "source": [
    "# A Web API is a type of API specifically designed for web-based communication.It uses standard web protocols such as HTTP/HTTPS\n",
    "# to enable communication between different software systems over the internet.\n",
    "\n",
    "# APIs can be used in various contexts, including non-web applications, whereas Web APIs are tailored for web development and \n",
    "# operate over the internet."
   ]
  },
  {
   "cell_type": "markdown",
   "id": "234e40bf",
   "metadata": {},
   "source": [
    "Q4. Explain REST and SOAP Architecture. Mention shortcomings of SOAP."
   ]
  },
  {
   "cell_type": "code",
   "execution_count": 4,
   "id": "e6ce5028",
   "metadata": {},
   "outputs": [],
   "source": [
    "# REST (Representational State Transfer):\n",
    "# It relies on a client-server communication model where each request from a client to a server must contain all the information \n",
    "# needed to understand and process the request.\n",
    "# SOAP (Simple Object Access Protocol):\n",
    "# SOAP is a protocol for exchanging structured information in web services.\n",
    "# It relies on XML as its message format and can operate over various protocols, including HTTP, SMTP, and more."
   ]
  },
  {
   "cell_type": "markdown",
   "id": "b3830241",
   "metadata": {},
   "source": [
    "Q5. Differentiate between REST and SOAP."
   ]
  },
  {
   "cell_type": "code",
   "execution_count": null,
   "id": "cf0dd99d",
   "metadata": {},
   "outputs": [],
   "source": [
    "# REST is simpler, flexible, and widely used for web services, while SOAP is protocol-centric, complex, and less favored for \n",
    "# modern web development."
   ]
  }
 ],
 "metadata": {
  "kernelspec": {
   "display_name": "Python 3 (ipykernel)",
   "language": "python",
   "name": "python3"
  },
  "language_info": {
   "codemirror_mode": {
    "name": "ipython",
    "version": 3
   },
   "file_extension": ".py",
   "mimetype": "text/x-python",
   "name": "python",
   "nbconvert_exporter": "python",
   "pygments_lexer": "ipython3",
   "version": "3.10.9"
  }
 },
 "nbformat": 4,
 "nbformat_minor": 5
}
