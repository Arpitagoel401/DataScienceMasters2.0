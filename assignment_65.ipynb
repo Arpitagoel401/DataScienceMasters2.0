{
 "cells": [
  {
   "cell_type": "markdown",
   "id": "b56380da-748b-4b56-bbe3-546275b5ea9d",
   "metadata": {},
   "source": [
    "#### Q1. You are working on a machine learning project where you have a dataset containing numerical and categorical features. You have identified that some of the features are highly correlated and there are missing values in some of the columns. You want to build a pipeline that automates the feature engineering process and handles the missing valuesD\n",
    "#### Design a pipeline that includes the following steps\"\n",
    "#### Use an automated feature selection method to identify the important features in the datasetC\n",
    "#### Create a numerical pipeline that includes the following steps\"\n",
    "#### Impute the missing values in the numerical columns using the mean of the column valuesC\n",
    "#### Scale the numerical columns using standardisationC\n",
    "#### Create a categorical pipeline that includes the following steps\"\n",
    "#### Impute the missing values in the categorical columns using the most frequent value of the columnC\n",
    "#### One-hot encode the categorical columnsC\n",
    "#### Combine the numerical and categorical pipelines using a ColumnTransformerC\n",
    "#### Use a Random Forest Classifier to build the final modelC\n",
    "#### Evaluate the accuracy of the model on the test datasetD\n",
    "#### Note! Your solution should include code snippets for each step of the pipeline, and a brief explanation of each step. You should also provide an interpretation of the results and suggest possible improvements for the pipelineD\n"
   ]
  },
  {
   "cell_type": "raw",
   "id": "70d89763-0657-41ee-b84d-85010714f845",
   "metadata": {},
   "source": [
    "from sklearn.pipeline import Pipeline\n",
    "from sklearn.compose import ColumnTransformer\n",
    "from sklearn.impute import SimpleImputer\n",
    "from sklearn.preprocessing import StandardScaler, OneHotEncoder\n",
    "from sklearn.ensemble import RandomForestClassifier\n",
    "from sklearn.feature_selection import SelectFromModel\n",
    "\n",
    "# Automated feature selection\n",
    "feature_selector = SelectFromModel(RandomForestClassifier(n_estimators=100))\n",
    "\n",
    "# Numerical pipeline\n",
    "numerical_pipeline = Pipeline([\n",
    "    ('imputer', SimpleImputer(strategy='mean')),\n",
    "    ('scaler', StandardScaler())\n",
    "])\n",
    "\n",
    "# Categorical pipeline\n",
    "categorical_pipeline = Pipeline([\n",
    "    ('imputer', SimpleImputer(strategy='most_frequent')),\n",
    "    ('encoder', OneHotEncoder())\n",
    "])\n",
    "\n",
    "# Combining numerical and categorical pipelines\n",
    "preprocessor = ColumnTransformer([\n",
    "    ('num', numerical_pipeline, numerical_features),  # Replace numerical_features with your numerical feature names\n",
    "    ('cat', categorical_pipeline, categorical_features)  # Replace categorical_features with your categorical feature names\n",
    "])\n",
    "\n",
    "# Final pipeline with feature selection and model\n",
    "pipeline = Pipeline([\n",
    "    ('feature_selection', feature_selector),\n",
    "    ('preprocessing', preprocessor),\n",
    "    ('classifier', RandomForestClassifier(n_estimators=100))\n",
    "])\n",
    "\n",
    "# Train the pipeline\n",
    "pipeline.fit(X_train, y_train)\n",
    "\n",
    "# Evaluate the model\n",
    "accuracy = pipeline.score(X_test, y_test)\n",
    "print(\"Accuracy:\", accuracy)\n"
   ]
  },
  {
   "cell_type": "markdown",
   "id": "58ee2dbc-2e2c-4043-be69-2a0e27abe9e4",
   "metadata": {},
   "source": [
    "#### Q2. Build a pipeline that includes a random forest classifier and a logistic regression classifier, and then use a voting classifier to combine their predictions. Train the pipeline on the iris dataset and evaluate its accuracy."
   ]
  },
  {
   "cell_type": "raw",
   "id": "f3115a18-9898-4cd3-b1ce-990cd5d81644",
   "metadata": {},
   "source": [
    "from sklearn.ensemble import VotingClassifier\n",
    "from sklearn.linear_model import LogisticRegression\n",
    "from sklearn.metrics import accuracy_score\n",
    "\n",
    "# Define classifiers\n",
    "rf_classifier = RandomForestClassifier(n_estimators=100)\n",
    "logistic_classifier = LogisticRegression()\n",
    "\n",
    "# Create a voting classifier\n",
    "voting_classifier = VotingClassifier(estimators=[\n",
    "    ('rf', rf_classifier), \n",
    "    ('lr', logistic_classifier)\n",
    "], voting='hard')\n",
    "\n",
    "# Train the pipeline\n",
    "voting_classifier.fit(X_train, y_train)\n",
    "\n",
    "# Evaluate the model\n",
    "accuracy = accuracy_score(y_test, voting_classifier.predict(X_test))\n",
    "print(\"Accuracy:\", accuracy)\n"
   ]
  },
  {
   "cell_type": "code",
   "execution_count": null,
   "id": "0aac8c67-5c31-4607-b62c-617d205a9d15",
   "metadata": {},
   "outputs": [],
   "source": []
  }
 ],
 "metadata": {
  "kernelspec": {
   "display_name": "Python 3 (ipykernel)",
   "language": "python",
   "name": "python3"
  },
  "language_info": {
   "codemirror_mode": {
    "name": "ipython",
    "version": 3
   },
   "file_extension": ".py",
   "mimetype": "text/x-python",
   "name": "python",
   "nbconvert_exporter": "python",
   "pygments_lexer": "ipython3",
   "version": "3.11.7"
  }
 },
 "nbformat": 4,
 "nbformat_minor": 5
}
