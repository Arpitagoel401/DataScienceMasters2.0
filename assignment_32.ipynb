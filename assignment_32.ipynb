{
 "cells": [
  {
   "cell_type": "markdown",
   "id": "99122e46",
   "metadata": {},
   "source": [
    "Q1. Calculate the 95% confidence interval for a sample of data with a mean of 50 and a standard deviation\n",
    "of 5 using Python. Interpret the results."
   ]
  },
  {
   "cell_type": "code",
   "execution_count": 1,
   "id": "7c08a3a5",
   "metadata": {},
   "outputs": [
    {
     "name": "stdout",
     "output_type": "stream",
     "text": [
      "The 95% confidence interval is: (48.614096175650324, 51.385903824349676)\n"
     ]
    }
   ],
   "source": [
    "import scipy.stats as stats\n",
    "\n",
    "mean = 50\n",
    "std_dev = 5\n",
    "sample_size = 50  \n",
    "confidence_level = 0.95\n",
    "\n",
    "margin_of_error = stats.norm.ppf((1 + confidence_level) / 2) * (std_dev / (sample_size ** 0.5))\n",
    "\n",
    "confidence_interval = (mean - margin_of_error, mean + margin_of_error)\n",
    "\n",
    "print(f\"The 95% confidence interval is: {confidence_interval}\")"
   ]
  },
  {
   "cell_type": "markdown",
   "id": "17bd588a",
   "metadata": {},
   "source": [
    "Q2. Conduct a chi-square goodness of fit test to determine if the distribution of colors of M&Ms in a bag\n",
    "matches the expected distribution of 20% blue, 20% orange, 20% green, 10% yellow, 10% red, and 20%\n",
    "brown. Use Python to perform the test with a significance level of 0.05."
   ]
  },
  {
   "cell_type": "code",
   "execution_count": 2,
   "id": "f6043fd8",
   "metadata": {},
   "outputs": [],
   "source": [
    "# Null Hypothesis (H0): The observed distribution of M&M colors matches the expected distribution.\n",
    "# Alternative Hypothesis (H1): The observed distribution of M&M colors does not match the expected distribution.\n",
    "# significance = 0.05\n",
    "# 20% blue = 0.20 * total\n",
    "# 20% orange= 0.20 * total\n",
    "# 20% green= 0.20 * total\n",
    "# 10% yellow= 0.10 * total\n",
    "# 10% red= 0.20 * total\n",
    "# 20% brown= 0.20 * total"
   ]
  },
  {
   "cell_type": "markdown",
   "id": "a50f6c7f",
   "metadata": {},
   "source": [
    "Q3. Use Python to calculate the chi-square statistic and p-value for a contingency table with the following\n",
    "data:\n",
    "        GroupA  GroupB\n",
    "\n",
    "Outcome1 20     15\n",
    "Outcome2 10     25\n",
    "Outcome3 15     20\n",
    "Interpret the results of the test."
   ]
  },
  {
   "cell_type": "code",
   "execution_count": 3,
   "id": "bdbc22b4",
   "metadata": {},
   "outputs": [
    {
     "name": "stdout",
     "output_type": "stream",
     "text": [
      "Chi-square statistic: 5.833333333333334\n",
      "P-value: 0.05411376622282158\n",
      "Degrees of freedom: 2\n",
      "Expected frequencies:\n",
      "[[15. 20.]\n",
      " [15. 20.]\n",
      " [15. 20.]]\n"
     ]
    }
   ],
   "source": [
    "import numpy as np\n",
    "from scipy.stats import chi2_contingency\n",
    "\n",
    "# Create the contingency table\n",
    "data = np.array([[20, 15],\n",
    "                 [10, 25],\n",
    "                 [15, 20]])\n",
    "\n",
    "# Perform the chi-square test\n",
    "chi2_stat, p_value, dof, expected = chi2_contingency(data)\n",
    "\n",
    "print(f\"Chi-square statistic: {chi2_stat}\")\n",
    "print(f\"P-value: {p_value}\")\n",
    "print(f\"Degrees of freedom: {dof}\")\n",
    "print(\"Expected frequencies:\")\n",
    "print(expected)"
   ]
  },
  {
   "cell_type": "markdown",
   "id": "b61c890e",
   "metadata": {},
   "source": [
    "Q4. A study of the prevalence of smoking in a population of 500 individuals found that 60 individuals\n",
    "smoked. Use Python to calculate the 95% confidence interval for the true proportion of individuals in the\n",
    "population who smoke."
   ]
  },
  {
   "cell_type": "code",
   "execution_count": 4,
   "id": "e38e26b1",
   "metadata": {},
   "outputs": [
    {
     "name": "stdout",
     "output_type": "stream",
     "text": [
      "The 95% confidence interval for the true proportion of smokers is: (0.09151638887130707, 0.1484836111286929)\n"
     ]
    }
   ],
   "source": [
    "import statsmodels.api as sm\n",
    "\n",
    "total_population = 500\n",
    "smokers = 60\n",
    "\n",
    "confidence_level = 0.95\n",
    "\n",
    "conf_interval = sm.stats.proportion_confint(smokers, total_population, alpha=1-confidence_level)\n",
    "\n",
    "print(f\"The 95% confidence interval for the true proportion of smokers is: {conf_interval}\")"
   ]
  },
  {
   "cell_type": "markdown",
   "id": "0169c600",
   "metadata": {},
   "source": [
    "Q5. Calculate the 90% confidence interval for a sample of data with a mean of 75 and a standard deviation\n",
    "of 12 using Python. Interpret the results."
   ]
  },
  {
   "cell_type": "code",
   "execution_count": 5,
   "id": "39b51433",
   "metadata": {},
   "outputs": [
    {
     "name": "stdout",
     "output_type": "stream",
     "text": [
      "The 95% confidence interval is: (72.20859083117598, 77.79140916882402)\n"
     ]
    }
   ],
   "source": [
    "mean = 75\n",
    "std_dev = 12\n",
    "sample_size = 50  \n",
    "confidence_level = 0.90\n",
    "\n",
    "margin_of_error = stats.norm.ppf((1 + confidence_level) / 2) * (std_dev / (sample_size ** 0.5))\n",
    "\n",
    "confidence_interval = (mean - margin_of_error, mean + margin_of_error)\n",
    "\n",
    "print(f\"The 95% confidence interval is: {confidence_interval}\")"
   ]
  },
  {
   "cell_type": "markdown",
   "id": "a0ed3978",
   "metadata": {},
   "source": [
    "Q6. Use Python to plot the chi-square distribution with 10 degrees of freedom. Label the axes and shade the\n",
    "area corresponding to a chi-square statistic of 15."
   ]
  },
  {
   "cell_type": "code",
   "execution_count": 6,
   "id": "368d6258",
   "metadata": {},
   "outputs": [],
   "source": [
    "# df = 10\n",
    "# chi_stats = 15"
   ]
  },
  {
   "cell_type": "markdown",
   "id": "9393af7d",
   "metadata": {},
   "source": [
    "Q7. A random sample of 1000 people was asked if they preferred Coke or Pepsi. Of the sample, 520\n",
    "preferred Coke. Calculate a 99% confidence interval for the true proportion of people in the population who\n",
    "prefer Coke."
   ]
  },
  {
   "cell_type": "code",
   "execution_count": 7,
   "id": "c3ca753b",
   "metadata": {},
   "outputs": [
    {
     "name": "stdout",
     "output_type": "stream",
     "text": [
      "The 99% confidence interval for the true proportion of coke is: (0.4793051576779699, 0.5606948423220302)\n"
     ]
    }
   ],
   "source": [
    "total_population = 1000\n",
    "pepsi= 520\n",
    "\n",
    "confidence_level = 0.99\n",
    "\n",
    "conf_interval = sm.stats.proportion_confint(pepsi, total_population, alpha=1-confidence_level)\n",
    "\n",
    "print(f\"The 99% confidence interval for the true proportion of coke is: {conf_interval}\")"
   ]
  },
  {
   "cell_type": "markdown",
   "id": "a9b2213c",
   "metadata": {},
   "source": [
    "Q8. A researcher hypothesizes that a coin is biased towards tails. They flip the coin 100 times and observe\n",
    "45 tails. Conduct a chi-square goodness of fit test to determine if the observed frequencies match the\n",
    "expected frequencies of a fair coin. Use a significance level of 0.05."
   ]
  },
  {
   "cell_type": "code",
   "execution_count": 8,
   "id": "bc4660d9",
   "metadata": {},
   "outputs": [],
   "source": [
    "# Null Hypothesis (H0): The coin is fair (not biased towards tails).\n",
    "# Alternative Hypothesis (H1): The coin is biased towards tails.\n",
    "# observed_tails = 45\n",
    "# expected_tails = 50\n",
    "# alpha = 0.05\n",
    "# χ**2= (45−50)**2 /50\n",
    "# X**2 = 0.5\n",
    "# Degrees of Freedom (df) = Number of Categories (Outcomes) - 1\n",
    "# In this case, there are two outcomes (heads and tails), so df = 2 - 1 = 1.\n",
    "# cv = 3.841"
   ]
  },
  {
   "cell_type": "markdown",
   "id": "5313fa3b",
   "metadata": {},
   "source": [
    "Q9. A study was conducted to determine if there is an association between smoking status (smoker or\n",
    "non-smoker) and lung cancer diagnosis (yes or no). The results are shown in the contingency table below.\n",
    "Conduct a chi-square test for independence to determine if there is a significant association between\n",
    "smoking status and lung cancer diagnosis."
   ]
  },
  {
   "cell_type": "code",
   "execution_count": 9,
   "id": "9a86fd84",
   "metadata": {},
   "outputs": [],
   "source": [
    "# Null Hypothesis (H0): There is no association between smoking status and lung cancer diagnosis.\n",
    "# Alternative Hypothesis (H1): There is an association between smoking status and lung cancer diagnosis.\n",
    "# alpha = 0.05"
   ]
  },
  {
   "cell_type": "markdown",
   "id": "a0c96a8f",
   "metadata": {},
   "source": [
    "Q10. A study was conducted to determine if the proportion of people who prefer milk chocolate, dark\n",
    "chocolate, or white chocolate is different in the U.S. versus the U.K. A random sample of 500 people from\n",
    "the U.S. and a random sample of 500 people from the U.K. were surveyed. The results are shown in the\n",
    "contingency table below. Conduct a chi-square test for independence to determine if there is a significant\n",
    "association between chocolate preference and country of origin.\n",
    "Milk Chocolate dark chocolate white chocolate\n",
    "\n",
    "U.S. (n=500) 200 150 150\n",
    "U.K. (n=500) 225 175 100\n",
    "Use a significance level of 0.01."
   ]
  },
  {
   "cell_type": "code",
   "execution_count": 10,
   "id": "b104595c",
   "metadata": {},
   "outputs": [],
   "source": [
    "# Calculate the expected frequency for each cell under the assumption of independence:\n",
    "# Expected Frequency=  Row Total×Column Total/Overall Total\n",
    "# Milk chocolate or us = 500 * 425 / 1000 = 212.5\n",
    "# dark chocolate or us = 500 * 325 / 1000 = 162.5\n",
    "# white chocolate or us = 500 * 250 / 1000 = 125\n",
    "# Milk chocolate or uk = 500 * 425 / 1000 = 212.5\n",
    "# dark chocolate or uk = 500 * 325 / 1000 = 162.5\n",
    "# white chocolate or uk = 500 * 250 / 1000 = 125"
   ]
  },
  {
   "cell_type": "markdown",
   "id": "db70d778",
   "metadata": {},
   "source": [
    "Q11. A random sample of 30 people was selected from a population with an unknown mean and standard\n",
    "deviation. The sample mean was found to be 72 and the sample standard deviation was found to be 10.\n",
    "Conduct a hypothesis test to determine if the population mean is significantly different from 70. Use a\n",
    "significance level of 0.05."
   ]
  },
  {
   "cell_type": "code",
   "execution_count": 11,
   "id": "28536079",
   "metadata": {},
   "outputs": [
    {
     "name": "stdout",
     "output_type": "stream",
     "text": [
      "T-statistic: 1.0954451150103321\n",
      "P-value: 0.2823362372860698\n",
      "Fail to reject the null hypothesis. There is no significant evidence that the population mean is different from 70.\n"
     ]
    }
   ],
   "source": [
    "sample_mean = 72\n",
    "sample_std_dev = 10\n",
    "sample_size = 30\n",
    "population_mean = 70\n",
    "significance_level = 0.05\n",
    "t_statistic = (sample_mean - population_mean) / (sample_std_dev / (sample_size ** 0.5))\n",
    "degrees_of_freedom = sample_size - 1\n",
    "\n",
    "# Calculate the p-value\n",
    "p_value = 2 * (1 - stats.t.cdf(abs(t_statistic), df=degrees_of_freedom))\n",
    "\n",
    "print(f\"T-statistic: {t_statistic}\")\n",
    "print(f\"P-value: {p_value}\")\n",
    "\n",
    "# Compare p-value to significance level\n",
    "if p_value < significance_level:\n",
    "    print(\"Reject the null hypothesis. The population mean is significantly different from 70.\")\n",
    "else:\n",
    "    print(\"Fail to reject the null hypothesis. There is no significant evidence that the population mean is different from 70.\")"
   ]
  },
  {
   "cell_type": "code",
   "execution_count": null,
   "id": "4ecc0b43",
   "metadata": {},
   "outputs": [],
   "source": []
  }
 ],
 "metadata": {
  "kernelspec": {
   "display_name": "Python 3 (ipykernel)",
   "language": "python",
   "name": "python3"
  },
  "language_info": {
   "codemirror_mode": {
    "name": "ipython",
    "version": 3
   },
   "file_extension": ".py",
   "mimetype": "text/x-python",
   "name": "python",
   "nbconvert_exporter": "python",
   "pygments_lexer": "ipython3",
   "version": "3.10.9"
  }
 },
 "nbformat": 4,
 "nbformat_minor": 5
}
